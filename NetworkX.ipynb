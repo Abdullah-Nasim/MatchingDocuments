{
 "cells": [
  {
   "cell_type": "markdown",
   "metadata": {},
   "source": [
    "### Libraries Import"
   ]
  },
  {
   "cell_type": "code",
   "execution_count": 1,
   "metadata": {},
   "outputs": [],
   "source": [
    "import pandas as pd"
   ]
  },
  {
   "cell_type": "code",
   "execution_count": 2,
   "metadata": {},
   "outputs": [],
   "source": [
    "import networkx as nx"
   ]
  },
  {
   "cell_type": "code",
   "execution_count": 3,
   "metadata": {},
   "outputs": [],
   "source": [
    "import json"
   ]
  },
  {
   "cell_type": "code",
   "execution_count": 4,
   "metadata": {},
   "outputs": [],
   "source": [
    "from tqdm import tqdm as tqdm"
   ]
  },
  {
   "cell_type": "code",
   "execution_count": 5,
   "metadata": {},
   "outputs": [],
   "source": [
    "from networkx.algorithms import community"
   ]
  },
  {
   "cell_type": "markdown",
   "metadata": {},
   "source": [
    "### Reading specific columns from CSV"
   ]
  },
  {
   "cell_type": "code",
   "execution_count": 6,
   "metadata": {},
   "outputs": [],
   "source": [
    "fields = ['document_id', 'documents', 'keywords']"
   ]
  },
  {
   "cell_type": "code",
   "execution_count": 7,
   "metadata": {},
   "outputs": [],
   "source": [
    "data = pd.read_csv('document_views.csv', sep=';', error_bad_lines=False, usecols=fields, skipinitialspace=True, low_memory=False)"
   ]
  },
  {
   "cell_type": "code",
   "execution_count": 8,
   "metadata": {},
   "outputs": [
    {
     "name": "stdout",
     "output_type": "stream",
     "text": [
      "(2011268, 3)\n"
     ]
    }
   ],
   "source": [
    "print(data.shape)"
   ]
  },
  {
   "cell_type": "code",
   "execution_count": 9,
   "metadata": {},
   "outputs": [],
   "source": [
    "nodes = []"
   ]
  },
  {
   "cell_type": "code",
   "execution_count": 10,
   "metadata": {},
   "outputs": [],
   "source": [
    "edges = []"
   ]
  },
  {
   "cell_type": "code",
   "execution_count": 11,
   "metadata": {},
   "outputs": [
    {
     "name": "stderr",
     "output_type": "stream",
     "text": [
      "  2%|▏         | 40096/2011268 [00:00<00:31, 61949.91it/s]"
     ]
    },
    {
     "name": "stdout",
     "output_type": "stream",
     "text": [
      "An exception occurred. Skipping Line\n"
     ]
    },
    {
     "name": "stderr",
     "output_type": "stream",
     "text": [
      "  3%|▎         | 70377/2011268 [00:01<00:33, 57115.57it/s]"
     ]
    },
    {
     "name": "stdout",
     "output_type": "stream",
     "text": [
      "An exception occurred. Skipping Line\n"
     ]
    },
    {
     "name": "stderr",
     "output_type": "stream",
     "text": [
      "  6%|▌         | 123598/2011268 [00:02<00:33, 56101.49it/s]"
     ]
    },
    {
     "name": "stdout",
     "output_type": "stream",
     "text": [
      "An exception occurred. Skipping Line\n",
      "An exception occurred. Skipping Line\n",
      "An exception occurred. Skipping Line\n"
     ]
    },
    {
     "name": "stderr",
     "output_type": "stream",
     "text": [
      "  8%|▊         | 164390/2011268 [00:02<00:33, 54410.90it/s]"
     ]
    },
    {
     "name": "stdout",
     "output_type": "stream",
     "text": [
      "An exception occurred. Skipping Line\n",
      "An exception occurred. Skipping Line\n",
      "An exception occurred. Skipping Line\n"
     ]
    },
    {
     "name": "stderr",
     "output_type": "stream",
     "text": [
      " 10%|▉         | 192034/2011268 [00:03<00:33, 53775.17it/s]"
     ]
    },
    {
     "name": "stdout",
     "output_type": "stream",
     "text": [
      "An exception occurred. Skipping Line\n",
      "An exception occurred. Skipping Line\n",
      "An exception occurred. Skipping Line\n",
      "An exception occurred. Skipping Line\n"
     ]
    },
    {
     "name": "stderr",
     "output_type": "stream",
     "text": [
      " 11%|█         | 214998/2011268 [00:03<00:31, 56935.38it/s]"
     ]
    },
    {
     "name": "stdout",
     "output_type": "stream",
     "text": [
      "An exception occurred. Skipping Line\n"
     ]
    },
    {
     "name": "stderr",
     "output_type": "stream",
     "text": [
      " 16%|█▌        | 323037/2011268 [00:05<00:26, 64326.82it/s]"
     ]
    },
    {
     "name": "stdout",
     "output_type": "stream",
     "text": [
      "An exception occurred. Skipping Line\n",
      "An exception occurred. Skipping Line\n",
      "An exception occurred. Skipping Line\n",
      "An exception occurred. Skipping Line\n"
     ]
    },
    {
     "name": "stderr",
     "output_type": "stream",
     "text": [
      " 22%|██▏       | 446452/2011268 [00:07<00:24, 64283.24it/s]"
     ]
    },
    {
     "name": "stdout",
     "output_type": "stream",
     "text": [
      "An exception occurred. Skipping Line\n",
      "An exception occurred. Skipping Line"
     ]
    },
    {
     "name": "stderr",
     "output_type": "stream",
     "text": [
      " 23%|██▎       | 459453/2011268 [00:07<00:25, 61086.24it/s]"
     ]
    },
    {
     "name": "stdout",
     "output_type": "stream",
     "text": [
      "\n",
      "An exception occurred. Skipping Line\n",
      "An exception occurred. Skipping Line\n",
      "An exception occurred. Skipping Line\n",
      "An exception occurred. Skipping Line\n",
      "An exception occurred. Skipping Line\n",
      "An exception occurred. Skipping Line\n",
      "An exception occurred. Skipping Line\n",
      "An exception occurred. Skipping Line\n",
      "An exception occurred. Skipping Line\n",
      "An exception occurred. Skipping Line\n",
      "An exception occurred. Skipping Line\n"
     ]
    },
    {
     "name": "stderr",
     "output_type": "stream",
     "text": [
      " 24%|██▍       | 488805/2011268 [00:08<00:27, 55204.28it/s]"
     ]
    },
    {
     "name": "stdout",
     "output_type": "stream",
     "text": [
      "An exception occurred. Skipping Line\n",
      "An exception occurred. Skipping Line\n"
     ]
    },
    {
     "name": "stderr",
     "output_type": "stream",
     "text": [
      " 27%|██▋       | 536024/2011268 [00:09<00:25, 58399.91it/s]"
     ]
    },
    {
     "name": "stdout",
     "output_type": "stream",
     "text": [
      "An exception occurred. Skipping Line\n",
      "An exception occurred. Skipping Line\n",
      "An exception occurred. Skipping Line\n",
      "An exception occurred. Skipping Line\n",
      "An exception occurred. Skipping Line\n"
     ]
    },
    {
     "name": "stderr",
     "output_type": "stream",
     "text": [
      " 28%|██▊       | 554081/2011268 [00:09<00:25, 57435.16it/s]"
     ]
    },
    {
     "name": "stdout",
     "output_type": "stream",
     "text": [
      "An exception occurred. Skipping Line\n",
      "An exception occurred. Skipping Line\n"
     ]
    },
    {
     "name": "stderr",
     "output_type": "stream",
     "text": [
      " 29%|██▉       | 584499/2011268 [00:09<00:23, 60049.90it/s]"
     ]
    },
    {
     "name": "stdout",
     "output_type": "stream",
     "text": [
      "An exception occurred. Skipping Line\n",
      "An exception occurred. Skipping Line\n",
      "An exception occurred. Skipping Line\n"
     ]
    },
    {
     "name": "stderr",
     "output_type": "stream",
     "text": [
      " 30%|███       | 609126/2011268 [00:10<00:23, 59326.49it/s]"
     ]
    },
    {
     "name": "stdout",
     "output_type": "stream",
     "text": [
      "An exception occurred. Skipping Line\n",
      "An exception occurred. Skipping Line\n",
      "An exception occurred. Skipping Line\n",
      "An exception occurred. Skipping Line\n"
     ]
    },
    {
     "name": "stderr",
     "output_type": "stream",
     "text": [
      " 32%|███▏      | 633969/2011268 [00:10<00:23, 59836.61it/s]"
     ]
    },
    {
     "name": "stdout",
     "output_type": "stream",
     "text": [
      "An exception occurred. Skipping Line\n"
     ]
    },
    {
     "name": "stderr",
     "output_type": "stream",
     "text": [
      " 33%|███▎      | 658810/2011268 [00:11<00:22, 59479.57it/s]"
     ]
    },
    {
     "name": "stdout",
     "output_type": "stream",
     "text": [
      "An exception occurred. Skipping Line\n"
     ]
    },
    {
     "name": "stderr",
     "output_type": "stream",
     "text": [
      " 36%|███▌      | 722445/2011268 [00:12<00:20, 63638.43it/s]"
     ]
    },
    {
     "name": "stdout",
     "output_type": "stream",
     "text": [
      "An exception occurred. Skipping Line\n",
      "An exception occurred. Skipping Line\n",
      "An exception occurred. Skipping Line\n"
     ]
    },
    {
     "name": "stderr",
     "output_type": "stream",
     "text": [
      " 37%|███▋      | 741204/2011268 [00:12<00:21, 59463.51it/s]"
     ]
    },
    {
     "name": "stdout",
     "output_type": "stream",
     "text": [
      "An exception occurred. Skipping Line\n",
      "An exception occurred. Skipping Line\n",
      "An exception occurred. Skipping Line\n"
     ]
    },
    {
     "name": "stderr",
     "output_type": "stream",
     "text": [
      " 37%|███▋      | 753765/2011268 [00:12<00:21, 58863.69it/s]"
     ]
    },
    {
     "name": "stdout",
     "output_type": "stream",
     "text": [
      "An exception occurred. Skipping Line\n"
     ]
    },
    {
     "name": "stderr",
     "output_type": "stream",
     "text": [
      " 41%|████      | 821254/2011268 [00:13<00:19, 61829.37it/s]"
     ]
    },
    {
     "name": "stdout",
     "output_type": "stream",
     "text": [
      "An exception occurred. Skipping Line\n",
      "An exception occurred. Skipping Line\n",
      "An exception occurred. Skipping Line\n",
      "An exception occurred. Skipping Line\n"
     ]
    },
    {
     "name": "stderr",
     "output_type": "stream",
     "text": [
      " 45%|████▍     | 896969/2011268 [00:15<00:17, 62408.39it/s]"
     ]
    },
    {
     "name": "stdout",
     "output_type": "stream",
     "text": [
      "An exception occurred. Skipping Line\n",
      "An exception occurred. Skipping Line\n",
      "An exception occurred. Skipping Line\n"
     ]
    },
    {
     "name": "stderr",
     "output_type": "stream",
     "text": [
      " 47%|████▋     | 940559/2011268 [00:15<00:17, 61054.01it/s]"
     ]
    },
    {
     "name": "stdout",
     "output_type": "stream",
     "text": [
      "An exception occurred. Skipping Line\n"
     ]
    },
    {
     "name": "stderr",
     "output_type": "stream",
     "text": [
      " 47%|████▋     | 953007/2011268 [00:16<00:17, 60481.60it/s]"
     ]
    },
    {
     "name": "stdout",
     "output_type": "stream",
     "text": [
      "An exception occurred. Skipping Line\n",
      "An exception occurred. Skipping Line\n"
     ]
    },
    {
     "name": "stderr",
     "output_type": "stream",
     "text": [
      " 51%|█████     | 1017370/2011268 [00:17<00:15, 63168.03it/s]"
     ]
    },
    {
     "name": "stdout",
     "output_type": "stream",
     "text": [
      "An exception occurred. Skipping Line\n"
     ]
    },
    {
     "name": "stderr",
     "output_type": "stream",
     "text": [
      " 55%|█████▌    | 1115566/2011268 [00:18<00:14, 60822.59it/s]"
     ]
    },
    {
     "name": "stdout",
     "output_type": "stream",
     "text": [
      "An exception occurred. Skipping Line\n",
      "An exception occurred. Skipping Line\n",
      "An exception occurred. Skipping Line\n",
      "An exception occurred. Skipping Line\n",
      "An exception occurred. Skipping Line\n",
      "An exception occurred. Skipping Line\n"
     ]
    },
    {
     "name": "stderr",
     "output_type": "stream",
     "text": [
      " 59%|█████▉    | 1183487/2011268 [00:19<00:13, 61925.87it/s]"
     ]
    },
    {
     "name": "stdout",
     "output_type": "stream",
     "text": [
      "An exception occurred. Skipping Line\n",
      "An exception occurred. Skipping Line\n"
     ]
    },
    {
     "name": "stderr",
     "output_type": "stream",
     "text": [
      " 60%|██████    | 1214323/2011268 [00:20<00:13, 59124.04it/s]"
     ]
    },
    {
     "name": "stdout",
     "output_type": "stream",
     "text": [
      "An exception occurred. Skipping Line\n"
     ]
    },
    {
     "name": "stderr",
     "output_type": "stream",
     "text": [
      " 62%|██████▏   | 1250558/2011268 [00:20<00:12, 59969.87it/s]"
     ]
    },
    {
     "name": "stdout",
     "output_type": "stream",
     "text": [
      "An exception occurred. Skipping Line\n"
     ]
    },
    {
     "name": "stderr",
     "output_type": "stream",
     "text": [
      " 63%|██████▎   | 1268619/2011268 [00:21<00:12, 58551.86it/s]"
     ]
    },
    {
     "name": "stdout",
     "output_type": "stream",
     "text": [
      "An exception occurred. Skipping Line\n",
      "An exception occurred. Skipping Line\n",
      "An exception occurred. Skipping Line\n",
      "An exception occurred. Skipping Line\n",
      "An exception occurred. Skipping Line\n",
      "An exception occurred. Skipping Line\n",
      "An exception occurred. Skipping Line\n"
     ]
    },
    {
     "name": "stderr",
     "output_type": "stream",
     "text": [
      " 65%|██████▍   | 1299980/2011268 [00:21<00:11, 62293.55it/s]"
     ]
    },
    {
     "name": "stdout",
     "output_type": "stream",
     "text": [
      "An exception occurred. Skipping Line\n",
      "An exception occurred. Skipping Line\n",
      "An exception occurred. Skipping Line\n"
     ]
    },
    {
     "name": "stderr",
     "output_type": "stream",
     "text": [
      " 67%|██████▋   | 1341381/2011268 [00:22<00:12, 55402.97it/s]"
     ]
    },
    {
     "name": "stdout",
     "output_type": "stream",
     "text": [
      "An exception occurred. Skipping Line\n"
     ]
    },
    {
     "name": "stderr",
     "output_type": "stream",
     "text": [
      " 68%|██████▊   | 1369813/2011268 [00:22<00:11, 55474.48it/s]"
     ]
    },
    {
     "name": "stdout",
     "output_type": "stream",
     "text": [
      "An exception occurred. Skipping Line\n",
      "An exception occurred. Skipping Line\n"
     ]
    },
    {
     "name": "stderr",
     "output_type": "stream",
     "text": [
      " 69%|██████▉   | 1390825/2011268 [00:23<00:12, 49096.42it/s]"
     ]
    },
    {
     "name": "stdout",
     "output_type": "stream",
     "text": [
      "An exception occurred. Skipping Line\n"
     ]
    },
    {
     "name": "stderr",
     "output_type": "stream",
     "text": [
      " 71%|███████   | 1418473/2011268 [00:23<00:10, 55877.86it/s]"
     ]
    },
    {
     "name": "stdout",
     "output_type": "stream",
     "text": [
      "An exception occurred. Skipping Line\n"
     ]
    },
    {
     "name": "stderr",
     "output_type": "stream",
     "text": [
      " 72%|███████▏  | 1441580/2011268 [00:24<00:10, 55289.76it/s]"
     ]
    },
    {
     "name": "stdout",
     "output_type": "stream",
     "text": [
      "An exception occurred. Skipping Line\n"
     ]
    },
    {
     "name": "stderr",
     "output_type": "stream",
     "text": [
      " 73%|███████▎  | 1475787/2011268 [00:24<00:09, 53887.14it/s]"
     ]
    },
    {
     "name": "stdout",
     "output_type": "stream",
     "text": [
      "An exception occurred. Skipping Line\n",
      "An exception occurred. Skipping Line\n",
      "An exception occurred. Skipping Line\n",
      "An exception occurred. Skipping Line\n",
      "An exception occurred. Skipping Line\n",
      "An exception occurred. Skipping Line\n",
      "An exception occurred. Skipping Line\n",
      "An exception occurred. Skipping Line\n"
     ]
    },
    {
     "name": "stderr",
     "output_type": "stream",
     "text": [
      " 75%|███████▌  | 1514943/2011268 [00:25<00:09, 54864.04it/s]"
     ]
    },
    {
     "name": "stdout",
     "output_type": "stream",
     "text": [
      "An exception occurred. Skipping Line\n",
      "An exception occurred. Skipping Line\n",
      "An exception occurred. Skipping Line\n",
      "An exception occurred. Skipping Line\n",
      "An exception occurred. Skipping Line\n"
     ]
    },
    {
     "name": "stderr",
     "output_type": "stream",
     "text": [
      " 76%|███████▌  | 1531690/2011268 [00:26<00:08, 54930.96it/s]"
     ]
    },
    {
     "name": "stdout",
     "output_type": "stream",
     "text": [
      "An exception occurred. Skipping Line\n",
      "An exception occurred. Skipping Line\n"
     ]
    },
    {
     "name": "stderr",
     "output_type": "stream",
     "text": [
      " 77%|███████▋  | 1553889/2011268 [00:26<00:08, 54355.94it/s]"
     ]
    },
    {
     "name": "stdout",
     "output_type": "stream",
     "text": [
      "An exception occurred. Skipping Line\n"
     ]
    },
    {
     "name": "stderr",
     "output_type": "stream",
     "text": [
      " 81%|████████  | 1629956/2011268 [00:27<00:07, 51606.62it/s]"
     ]
    },
    {
     "name": "stdout",
     "output_type": "stream",
     "text": [
      "An exception occurred. Skipping Line\n",
      "An exception occurred. Skipping Line\n",
      "An exception occurred. Skipping Line\n",
      "An exception occurred. Skipping Line\n",
      "An exception occurred. Skipping Line\n",
      "An exception occurred. Skipping Line\n",
      "An exception occurred. Skipping Line\n",
      "An exception occurred. Skipping Line\n",
      "An exception occurred. Skipping Line\n",
      "An exception occurred. Skipping Line\n"
     ]
    },
    {
     "name": "stderr",
     "output_type": "stream",
     "text": [
      " 82%|████████▏ | 1650595/2011268 [00:28<00:07, 50369.02it/s]"
     ]
    },
    {
     "name": "stdout",
     "output_type": "stream",
     "text": [
      "An exception occurred. Skipping Line\n",
      "An exception occurred. Skipping Line\n",
      "An exception occurred. Skipping Line\n",
      "An exception occurred. Skipping Line\n",
      "An exception occurred. Skipping Line\n",
      "An exception occurred. Skipping Line\n"
     ]
    },
    {
     "name": "stderr",
     "output_type": "stream",
     "text": [
      " 83%|████████▎ | 1667126/2011268 [00:28<00:06, 50708.89it/s]"
     ]
    },
    {
     "name": "stdout",
     "output_type": "stream",
     "text": [
      "An exception occurred. Skipping Line\n",
      "An exception occurred. Skipping Line\n",
      "An exception occurred. Skipping Line\n"
     ]
    },
    {
     "name": "stderr",
     "output_type": "stream",
     "text": [
      " 86%|████████▌ | 1723205/2011268 [00:29<00:05, 54909.93it/s]"
     ]
    },
    {
     "name": "stdout",
     "output_type": "stream",
     "text": [
      "An exception occurred. Skipping Line\n",
      "An exception occurred. Skipping Line\n",
      "An exception occurred. Skipping Line\n",
      "An exception occurred. Skipping Line\n",
      "An exception occurred. Skipping Line\n",
      "An exception occurred. Skipping Line\n"
     ]
    },
    {
     "name": "stderr",
     "output_type": "stream",
     "text": [
      " 88%|████████▊ | 1772909/2011268 [00:30<00:04, 57438.22it/s]"
     ]
    },
    {
     "name": "stdout",
     "output_type": "stream",
     "text": [
      "An exception occurred. Skipping Line\n"
     ]
    },
    {
     "name": "stderr",
     "output_type": "stream",
     "text": [
      " 89%|████████▊ | 1784302/2011268 [00:30<00:04, 51524.92it/s]"
     ]
    },
    {
     "name": "stdout",
     "output_type": "stream",
     "text": [
      "An exception occurred. Skipping Line\n",
      "An exception occurred. Skipping Line\n",
      "An exception occurred. Skipping Line\n",
      "An exception occurred. Skipping Line\n"
     ]
    },
    {
     "name": "stderr",
     "output_type": "stream",
     "text": [
      " 90%|████████▉ | 1805022/2011268 [00:31<00:04, 50618.33it/s]"
     ]
    },
    {
     "name": "stdout",
     "output_type": "stream",
     "text": [
      "An exception occurred. Skipping Line\n",
      "An exception occurred. Skipping Line\n",
      "An exception occurred. Skipping Line\n"
     ]
    },
    {
     "name": "stderr",
     "output_type": "stream",
     "text": [
      " 90%|█████████ | 1815060/2011268 [00:31<00:04, 48011.07it/s]"
     ]
    },
    {
     "name": "stdout",
     "output_type": "stream",
     "text": [
      "An exception occurred. Skipping Line\n",
      "An exception occurred. Skipping Line\n",
      "An exception occurred. Skipping Line\n",
      "An exception occurred. Skipping Line\n",
      "An exception occurred. Skipping Line\n",
      "An exception occurred. Skipping Line\n",
      "An exception occurred. Skipping Line\n",
      "An exception occurred. Skipping Line\n",
      "An exception occurred. Skipping Line\n",
      "An exception occurred. Skipping Line\n",
      "An exception occurred. Skipping Line\n",
      "An exception occurred. Skipping Line\n",
      "An exception occurred. Skipping Line\n"
     ]
    },
    {
     "name": "stderr",
     "output_type": "stream",
     "text": [
      " 92%|█████████▏| 1845248/2011268 [00:31<00:02, 58414.91it/s]"
     ]
    },
    {
     "name": "stdout",
     "output_type": "stream",
     "text": [
      "An exception occurred. Skipping Line\n",
      "An exception occurred. Skipping Line\n"
     ]
    },
    {
     "name": "stderr",
     "output_type": "stream",
     "text": [
      " 93%|█████████▎| 1862671/2011268 [00:32<00:02, 56483.94it/s]"
     ]
    },
    {
     "name": "stdout",
     "output_type": "stream",
     "text": [
      "An exception occurred. Skipping Line\n"
     ]
    },
    {
     "name": "stderr",
     "output_type": "stream",
     "text": [
      " 94%|█████████▍| 1900193/2011268 [00:33<00:02, 51616.82it/s]"
     ]
    },
    {
     "name": "stdout",
     "output_type": "stream",
     "text": [
      "An exception occurred. Skipping Line\n",
      "An exception occurred. Skipping Line\n",
      "An exception occurred. Skipping Line\n",
      "An exception occurred. Skipping Line\n",
      "An exception occurred. Skipping Line\n"
     ]
    },
    {
     "name": "stderr",
     "output_type": "stream",
     "text": [
      " 96%|█████████▌| 1926287/2011268 [00:33<00:01, 52165.09it/s]"
     ]
    },
    {
     "name": "stdout",
     "output_type": "stream",
     "text": [
      "An exception occurred. Skipping Line\n",
      "An exception occurred. Skipping Line\n",
      "An exception occurred. Skipping Line\n"
     ]
    },
    {
     "name": "stderr",
     "output_type": "stream",
     "text": [
      " 97%|█████████▋| 1941903/2011268 [00:33<00:01, 51035.14it/s]"
     ]
    },
    {
     "name": "stdout",
     "output_type": "stream",
     "text": [
      "An exception occurred. Skipping Line\n",
      "An exception occurred. Skipping Line\n"
     ]
    },
    {
     "name": "stderr",
     "output_type": "stream",
     "text": [
      " 98%|█████████▊| 1977585/2011268 [00:34<00:00, 46894.42it/s]"
     ]
    },
    {
     "name": "stdout",
     "output_type": "stream",
     "text": [
      "An exception occurred. Skipping Line\n"
     ]
    },
    {
     "name": "stderr",
     "output_type": "stream",
     "text": [
      "100%|██████████| 2011268/2011268 [00:35<00:00, 57131.32it/s]\n"
     ]
    }
   ],
   "source": [
    "with tqdm(total=2011268) as pbar:\n",
    "    for row in data.itertuples(index=False):\n",
    "        try:\n",
    "            line = row.documents[:-1]\n",
    "            finalLine = line[:1] + '\\\"' + line[1:]\n",
    "            jsonArray = json.loads(finalLine)\n",
    "            for document in jsonArray:\n",
    "                nodes.append(row.document_id)\n",
    "                edges.append(document.split(':')[0])\n",
    "        except:\n",
    "            print(\"An exception occurred. Skipping Line\")\n",
    "        pbar.update(1)"
   ]
  },
  {
   "cell_type": "code",
   "execution_count": 12,
   "metadata": {},
   "outputs": [],
   "source": [
    "df = pd.DataFrame(list(zip(nodes, edges)), columns =['Source', 'Target'])"
   ]
  },
  {
   "cell_type": "code",
   "execution_count": 13,
   "metadata": {},
   "outputs": [
    {
     "name": "stdout",
     "output_type": "stream",
     "text": [
      "(35237857, 2)\n"
     ]
    }
   ],
   "source": [
    "print(df.shape)"
   ]
  },
  {
   "cell_type": "code",
   "execution_count": 14,
   "metadata": {},
   "outputs": [],
   "source": [
    "node_list = []"
   ]
  },
  {
   "cell_type": "code",
   "execution_count": 15,
   "metadata": {},
   "outputs": [
    {
     "name": "stderr",
     "output_type": "stream",
     "text": [
      "  2%|▏         | 44102/2011268 [00:00<00:20, 98132.18it/s] "
     ]
    },
    {
     "name": "stdout",
     "output_type": "stream",
     "text": [
      "An exception occurred. Skipping Line\n"
     ]
    },
    {
     "name": "stderr",
     "output_type": "stream",
     "text": [
      "  4%|▍         | 80970/2011268 [00:00<00:16, 113689.40it/s]"
     ]
    },
    {
     "name": "stdout",
     "output_type": "stream",
     "text": [
      "An exception occurred. Skipping Line\n"
     ]
    },
    {
     "name": "stderr",
     "output_type": "stream",
     "text": [
      "  6%|▋         | 129189/2011268 [00:01<00:18, 102901.30it/s]"
     ]
    },
    {
     "name": "stdout",
     "output_type": "stream",
     "text": [
      "An exception occurred. Skipping Line\n",
      "An exception occurred. Skipping Line\n",
      "An exception occurred. Skipping Line\n"
     ]
    },
    {
     "name": "stderr",
     "output_type": "stream",
     "text": [
      "  9%|▉         | 179013/2011268 [00:01<00:15, 119624.02it/s]"
     ]
    },
    {
     "name": "stdout",
     "output_type": "stream",
     "text": [
      "An exception occurred. Skipping Line\n",
      "An exception occurred. Skipping Line\n",
      "An exception occurred. Skipping Line\n",
      "An exception occurred. Skipping Line\n",
      "An exception occurred. Skipping Line\n",
      "An exception occurred. Skipping Line\n",
      "An exception occurred. Skipping Line\n"
     ]
    },
    {
     "name": "stderr",
     "output_type": "stream",
     "text": [
      " 11%|█▏        | 227985/2011268 [00:02<00:14, 120161.76it/s]"
     ]
    },
    {
     "name": "stdout",
     "output_type": "stream",
     "text": [
      "An exception occurred. Skipping Line\n"
     ]
    },
    {
     "name": "stderr",
     "output_type": "stream",
     "text": [
      " 17%|█▋        | 338181/2011268 [00:03<00:13, 124664.33it/s]"
     ]
    },
    {
     "name": "stdout",
     "output_type": "stream",
     "text": [
      "An exception occurred. Skipping Line\n",
      "An exception occurred. Skipping Line\n",
      "An exception occurred. Skipping Line\n",
      "An exception occurred. Skipping Line\n"
     ]
    },
    {
     "name": "stderr",
     "output_type": "stream",
     "text": [
      " 23%|██▎       | 456357/2011268 [00:03<00:11, 133320.53it/s]"
     ]
    },
    {
     "name": "stdout",
     "output_type": "stream",
     "text": [
      "An exception occurred. Skipping Line\n",
      "An exception occurred. Skipping Line\n",
      "An exception occurred. Skipping Line\n",
      "An exception occurred. Skipping Line\n",
      "An exception occurred. Skipping Line\n",
      "An exception occurred. Skipping Line\n",
      "An exception occurred. Skipping Line\n",
      "An exception occurred. Skipping Line\n",
      "An exception occurred. Skipping Line\n",
      "An exception occurred. Skipping Line\n",
      "An exception occurred. Skipping Line\n",
      "An exception occurred. Skipping Line\n",
      "An exception occurred. Skipping Line\n"
     ]
    },
    {
     "name": "stderr",
     "output_type": "stream",
     "text": [
      " 25%|██▍       | 497123/2011268 [00:04<00:11, 130302.46it/s]"
     ]
    },
    {
     "name": "stdout",
     "output_type": "stream",
     "text": [
      "An exception occurred. Skipping Line\n",
      "An exception occurred. Skipping Line\n"
     ]
    },
    {
     "name": "stderr",
     "output_type": "stream",
     "text": [
      " 27%|██▋       | 551309/2011268 [00:04<00:11, 130284.49it/s]"
     ]
    },
    {
     "name": "stdout",
     "output_type": "stream",
     "text": [
      "An exception occurred. Skipping Line\n",
      "An exception occurred. Skipping Line\n",
      "An exception occurred. Skipping Line\n",
      "An exception occurred. Skipping Line\n",
      "An exception occurred. Skipping Line\n",
      "An exception occurred. Skipping Line\n",
      "An exception occurred. Skipping Line\n"
     ]
    },
    {
     "name": "stderr",
     "output_type": "stream",
     "text": [
      " 29%|██▉       | 592392/2011268 [00:04<00:11, 126078.71it/s]"
     ]
    },
    {
     "name": "stdout",
     "output_type": "stream",
     "text": [
      "An exception occurred. Skipping Line\n",
      "An exception occurred. Skipping Line\n",
      "An exception occurred. Skipping Line\n",
      "An exception occurred. Skipping Line"
     ]
    },
    {
     "name": "stderr",
     "output_type": "stream",
     "text": [
      " 31%|███       | 619946/2011268 [00:05<00:10, 126738.58it/s]"
     ]
    },
    {
     "name": "stdout",
     "output_type": "stream",
     "text": [
      "\n",
      "An exception occurred. Skipping Line\n",
      "An exception occurred. Skipping Line\n",
      "An exception occurred. Skipping Line\n",
      "An exception occurred. Skipping Line\n"
     ]
    },
    {
     "name": "stderr",
     "output_type": "stream",
     "text": [
      " 34%|███▎      | 674223/2011268 [00:05<00:10, 133630.71it/s]"
     ]
    },
    {
     "name": "stdout",
     "output_type": "stream",
     "text": [
      "An exception occurred. Skipping Line\n"
     ]
    },
    {
     "name": "stderr",
     "output_type": "stream",
     "text": [
      " 36%|███▋      | 730389/2011268 [00:06<00:09, 136480.96it/s]"
     ]
    },
    {
     "name": "stdout",
     "output_type": "stream",
     "text": [
      "An exception occurred. Skipping Line\n",
      "An exception occurred. Skipping Line\n",
      "An exception occurred. Skipping Line\n",
      "An exception occurred. Skipping Line\n",
      "An exception occurred. Skipping Line\n",
      "An exception occurred. Skipping Line\n"
     ]
    },
    {
     "name": "stderr",
     "output_type": "stream",
     "text": [
      " 38%|███▊      | 758867/2011268 [00:06<00:09, 131611.89it/s]"
     ]
    },
    {
     "name": "stdout",
     "output_type": "stream",
     "text": [
      "An exception occurred. Skipping Line\n"
     ]
    },
    {
     "name": "stderr",
     "output_type": "stream",
     "text": [
      " 41%|████▏     | 834001/2011268 [00:06<00:09, 118462.36it/s]"
     ]
    },
    {
     "name": "stdout",
     "output_type": "stream",
     "text": [
      "An exception occurred. Skipping Line\n",
      "An exception occurred. Skipping Line\n",
      "An exception occurred. Skipping Line\n",
      "An exception occurred. Skipping Line\n"
     ]
    },
    {
     "name": "stderr",
     "output_type": "stream",
     "text": [
      " 45%|████▌     | 906249/2011268 [00:07<00:09, 119174.25it/s]"
     ]
    },
    {
     "name": "stdout",
     "output_type": "stream",
     "text": [
      "An exception occurred. Skipping Line\n",
      "An exception occurred. Skipping Line\n",
      "An exception occurred. Skipping Line\n"
     ]
    },
    {
     "name": "stderr",
     "output_type": "stream",
     "text": [
      " 48%|████▊     | 957240/2011268 [00:07<00:08, 123847.04it/s]"
     ]
    },
    {
     "name": "stdout",
     "output_type": "stream",
     "text": [
      "An exception occurred. Skipping Line\n",
      "An exception occurred. Skipping Line\n",
      "An exception occurred. Skipping Line\n"
     ]
    },
    {
     "name": "stderr",
     "output_type": "stream",
     "text": [
      " 51%|█████     | 1021035/2011268 [00:08<00:08, 113774.88it/s]"
     ]
    },
    {
     "name": "stdout",
     "output_type": "stream",
     "text": [
      "An exception occurred. Skipping Line\n"
     ]
    },
    {
     "name": "stderr",
     "output_type": "stream",
     "text": [
      " 56%|█████▌    | 1124952/2011268 [00:09<00:06, 132796.46it/s]"
     ]
    },
    {
     "name": "stdout",
     "output_type": "stream",
     "text": [
      "An exception occurred. Skipping Line\n",
      "An exception occurred. Skipping Line\n",
      "An exception occurred. Skipping Line\n",
      "An exception occurred. Skipping Line\n",
      "An exception occurred. Skipping Line\n",
      "An exception occurred. Skipping Line\n"
     ]
    },
    {
     "name": "stderr",
     "output_type": "stream",
     "text": [
      " 59%|█████▉    | 1195114/2011268 [00:09<00:05, 137050.49it/s]"
     ]
    },
    {
     "name": "stdout",
     "output_type": "stream",
     "text": [
      "An exception occurred. Skipping Line\n",
      "An exception occurred. Skipping Line\n"
     ]
    },
    {
     "name": "stderr",
     "output_type": "stream",
     "text": [
      " 61%|██████    | 1222091/2011268 [00:10<00:06, 124552.61it/s]"
     ]
    },
    {
     "name": "stdout",
     "output_type": "stream",
     "text": [
      "An exception occurred. Skipping Line\n"
     ]
    },
    {
     "name": "stderr",
     "output_type": "stream",
     "text": [
      " 63%|██████▎   | 1258532/2011268 [00:10<00:06, 114683.25it/s]"
     ]
    },
    {
     "name": "stdout",
     "output_type": "stream",
     "text": [
      "An exception occurred. Skipping Line\n",
      "An exception occurred. Skipping Line\n",
      "An exception occurred. Skipping Line\n",
      "An exception occurred. Skipping Line\n",
      "An exception occurred. Skipping Line\n",
      "An exception occurred. Skipping Line\n",
      "An exception occurred. Skipping Line\n"
     ]
    },
    {
     "name": "stderr",
     "output_type": "stream",
     "text": [
      " 64%|██████▍   | 1295807/2011268 [00:10<00:05, 121584.02it/s]"
     ]
    },
    {
     "name": "stdout",
     "output_type": "stream",
     "text": [
      "An exception occurred. Skipping Line\n",
      "An exception occurred. Skipping Line\n",
      "An exception occurred. Skipping Line\n",
      "An exception occurred. Skipping Line\n"
     ]
    },
    {
     "name": "stderr",
     "output_type": "stream",
     "text": [
      " 67%|██████▋   | 1345857/2011268 [00:11<00:05, 120295.55it/s]"
     ]
    },
    {
     "name": "stdout",
     "output_type": "stream",
     "text": [
      "An exception occurred. Skipping Line\n"
     ]
    },
    {
     "name": "stderr",
     "output_type": "stream",
     "text": [
      " 69%|██████▉   | 1385306/2011268 [00:11<00:04, 127432.89it/s]"
     ]
    },
    {
     "name": "stdout",
     "output_type": "stream",
     "text": [
      "An exception occurred. Skipping Line\n",
      "An exception occurred. Skipping Line\n",
      "An exception occurred. Skipping Line\n"
     ]
    },
    {
     "name": "stderr",
     "output_type": "stream",
     "text": [
      " 71%|███████   | 1424339/2011268 [00:11<00:04, 127569.47it/s]"
     ]
    },
    {
     "name": "stdout",
     "output_type": "stream",
     "text": [
      "An exception occurred. Skipping Line\n",
      "An exception occurred. Skipping Line\n"
     ]
    },
    {
     "name": "stderr",
     "output_type": "stream",
     "text": [
      " 74%|███████▍  | 1490432/2011268 [00:12<00:04, 129453.31it/s]"
     ]
    },
    {
     "name": "stdout",
     "output_type": "stream",
     "text": [
      "An exception occurred. Skipping Line\n",
      "An exception occurred. Skipping Line\n",
      "An exception occurred. Skipping Line\n",
      "An exception occurred. Skipping Line\n",
      "An exception occurred. Skipping Line\n",
      "An exception occurred. Skipping Line\n",
      "An exception occurred. Skipping Line\n",
      "An exception occurred. Skipping Line\n"
     ]
    },
    {
     "name": "stderr",
     "output_type": "stream",
     "text": [
      " 75%|███████▌  | 1517466/2011268 [00:12<00:03, 129648.10it/s]"
     ]
    },
    {
     "name": "stdout",
     "output_type": "stream",
     "text": [
      "An exception occurred. Skipping Line\n",
      "An exception occurred. Skipping Line\n",
      "An exception occurred. Skipping Line\n",
      "An exception occurred. Skipping Line\n",
      "An exception occurred. Skipping Line\n",
      "An exception occurred. Skipping Line\n",
      "An exception occurred. Skipping Line\n"
     ]
    },
    {
     "name": "stderr",
     "output_type": "stream",
     "text": [
      " 78%|███████▊  | 1571162/2011268 [00:12<00:03, 133122.36it/s]"
     ]
    },
    {
     "name": "stdout",
     "output_type": "stream",
     "text": [
      "An exception occurred. Skipping Line\n"
     ]
    },
    {
     "name": "stderr",
     "output_type": "stream",
     "text": [
      " 82%|████████▏ | 1639608/2011268 [00:13<00:02, 133823.21it/s]"
     ]
    },
    {
     "name": "stdout",
     "output_type": "stream",
     "text": [
      "An exception occurred. Skipping Line\n",
      "An exception occurred. Skipping Line\n",
      "An exception occurred. Skipping Line\n",
      "An exception occurred. Skipping Line\n",
      "An exception occurred. Skipping Line\n",
      "An exception occurred. Skipping Line\n",
      "An exception occurred. Skipping Line\n",
      "An exception occurred. Skipping Line\n",
      "An exception occurred. Skipping Line\n",
      "An exception occurred. Skipping Line\n",
      "An exception occurred. Skipping Line\n",
      "An exception occurred. Skipping Line\n",
      "An exception occurred. Skipping Line\n",
      "An exception occurred. Skipping Line\n",
      "An exception occurred. Skipping Line\n"
     ]
    },
    {
     "name": "stderr",
     "output_type": "stream",
     "text": [
      " 83%|████████▎ | 1679391/2011268 [00:13<00:02, 130111.53it/s]"
     ]
    },
    {
     "name": "stdout",
     "output_type": "stream",
     "text": [
      "An exception occurred. Skipping Line\n",
      "An exception occurred. Skipping Line\n",
      "An exception occurred. Skipping Line\n",
      "An exception occurred. Skipping Line\n"
     ]
    },
    {
     "name": "stderr",
     "output_type": "stream",
     "text": [
      " 86%|████████▌ | 1730591/2011268 [00:14<00:02, 125228.96it/s]"
     ]
    },
    {
     "name": "stdout",
     "output_type": "stream",
     "text": [
      "An exception occurred. Skipping Line\n",
      "An exception occurred. Skipping Line\n",
      "An exception occurred. Skipping Line\n",
      "An exception occurred. Skipping Line\n",
      "An exception occurred. Skipping Line\n",
      "An exception occurred. Skipping Line\n"
     ]
    },
    {
     "name": "stderr",
     "output_type": "stream",
     "text": [
      " 89%|████████▉ | 1785490/2011268 [00:14<00:01, 135554.32it/s]"
     ]
    },
    {
     "name": "stdout",
     "output_type": "stream",
     "text": [
      "An exception occurred. Skipping Line\n",
      "An exception occurred. Skipping Line\n",
      "An exception occurred. Skipping Line\n",
      "An exception occurred. Skipping Line\n",
      "An exception occurred. Skipping Line\n"
     ]
    },
    {
     "name": "stderr",
     "output_type": "stream",
     "text": [
      " 91%|█████████ | 1827388/2011268 [00:14<00:01, 138532.32it/s]"
     ]
    },
    {
     "name": "stdout",
     "output_type": "stream",
     "text": [
      "An exception occurred. Skipping Line\n",
      "An exception occurred. Skipping Line\n",
      "An exception occurred. Skipping Line\n",
      "An exception occurred. Skipping Line\n",
      "An exception occurred. Skipping Line\n",
      "An exception occurred. Skipping Line\n",
      "An exception occurred. Skipping Line\n",
      "An exception occurred. Skipping Line\n",
      "An exception occurred. Skipping Line\n",
      "An exception occurred. Skipping Line\n",
      "An exception occurred. Skipping Line\n",
      "An exception occurred. Skipping Line\n",
      "An exception occurred. Skipping Line\n",
      "An exception occurred. Skipping Line\n",
      "An exception occurred. Skipping Line\n",
      "An exception occurred. Skipping Line\n"
     ]
    },
    {
     "name": "stderr",
     "output_type": "stream",
     "text": [
      " 92%|█████████▏| 1855539/2011268 [00:14<00:01, 139125.46it/s]"
     ]
    },
    {
     "name": "stdout",
     "output_type": "stream",
     "text": [
      "An exception occurred. Skipping Line\n",
      "An exception occurred. Skipping Line\n",
      "An exception occurred. Skipping Line\n"
     ]
    },
    {
     "name": "stderr",
     "output_type": "stream",
     "text": [
      " 95%|█████████▍| 1910483/2011268 [00:15<00:00, 134924.42it/s]"
     ]
    },
    {
     "name": "stdout",
     "output_type": "stream",
     "text": [
      "An exception occurred. Skipping Line\n",
      "An exception occurred. Skipping Line\n",
      "An exception occurred. Skipping Line\n",
      "An exception occurred. Skipping Line\n",
      "An exception occurred. Skipping Line\n",
      "An exception occurred. Skipping Line\n",
      "An exception occurred. Skipping Line\n",
      "An exception occurred. Skipping Line\n"
     ]
    },
    {
     "name": "stderr",
     "output_type": "stream",
     "text": [
      " 97%|█████████▋| 1950994/2011268 [00:15<00:00, 132522.97it/s]"
     ]
    },
    {
     "name": "stdout",
     "output_type": "stream",
     "text": [
      "An exception occurred. Skipping Line\n",
      "An exception occurred. Skipping Line\n"
     ]
    },
    {
     "name": "stderr",
     "output_type": "stream",
     "text": [
      " 99%|█████████▉| 1991485/2011268 [00:15<00:00, 130490.37it/s]"
     ]
    },
    {
     "name": "stdout",
     "output_type": "stream",
     "text": [
      "An exception occurred. Skipping Line\n"
     ]
    },
    {
     "name": "stderr",
     "output_type": "stream",
     "text": [
      "100%|██████████| 2011268/2011268 [00:16<00:00, 124880.35it/s]\n"
     ]
    }
   ],
   "source": [
    "with tqdm(total=2011268) as pbar:\n",
    "    for row in data.itertuples(index=False):\n",
    "        try:\n",
    "            line = row.documents[:-1]\n",
    "            finalLine = line[:1] + '\\\"' + line[1:]\n",
    "            jsonArray = json.loads(finalLine)\n",
    "            node_list.append(row.document_id)\n",
    "        except:\n",
    "            print(\"An exception occurred. Skipping Line\")\n",
    "        pbar.update(1)"
   ]
  },
  {
   "cell_type": "code",
   "execution_count": 16,
   "metadata": {},
   "outputs": [],
   "source": [
    "edge_list = [tuple(e) for e in df.itertuples(index=False)]"
   ]
  },
  {
   "cell_type": "code",
   "execution_count": 17,
   "metadata": {},
   "outputs": [],
   "source": [
    "G = nx.Graph()"
   ]
  },
  {
   "cell_type": "code",
   "execution_count": 18,
   "metadata": {},
   "outputs": [],
   "source": [
    "G.add_nodes_from(node_list)"
   ]
  },
  {
   "cell_type": "code",
   "execution_count": 19,
   "metadata": {},
   "outputs": [],
   "source": [
    "G.add_edges_from(edge_list)"
   ]
  },
  {
   "cell_type": "code",
   "execution_count": 20,
   "metadata": {},
   "outputs": [
    {
     "name": "stdout",
     "output_type": "stream",
     "text": [
      "Name: \n",
      "Type: Graph\n",
      "Number of nodes: 2586571\n",
      "Number of edges: 22462864\n",
      "Average degree:  17.3688\n"
     ]
    }
   ],
   "source": [
    "print(nx.info(G))"
   ]
  },
  {
   "cell_type": "code",
   "execution_count": 21,
   "metadata": {},
   "outputs": [],
   "source": [
    "query_dict = {}"
   ]
  },
  {
   "cell_type": "code",
   "execution_count": 22,
   "metadata": {},
   "outputs": [
    {
     "name": "stderr",
     "output_type": "stream",
     "text": [
      "  2%|▏         | 40317/2011268 [00:00<00:21, 90445.16it/s]"
     ]
    },
    {
     "name": "stdout",
     "output_type": "stream",
     "text": [
      "An exception occurred. Skipping Line\n"
     ]
    },
    {
     "name": "stderr",
     "output_type": "stream",
     "text": [
      "  4%|▍         | 81271/2011268 [00:00<00:19, 97765.36it/s]"
     ]
    },
    {
     "name": "stdout",
     "output_type": "stream",
     "text": [
      "An exception occurred. Skipping Line\n"
     ]
    },
    {
     "name": "stderr",
     "output_type": "stream",
     "text": [
      "  6%|▌         | 123189/2011268 [00:01<00:18, 99575.16it/s]"
     ]
    },
    {
     "name": "stdout",
     "output_type": "stream",
     "text": [
      "An exception occurred. Skipping Line\n",
      "An exception occurred. Skipping Line\n",
      "An exception occurred. Skipping Line\n"
     ]
    },
    {
     "name": "stderr",
     "output_type": "stream",
     "text": [
      "  9%|▊         | 175388/2011268 [00:01<00:17, 102861.98it/s]"
     ]
    },
    {
     "name": "stdout",
     "output_type": "stream",
     "text": [
      "An exception occurred. Skipping Line\n",
      "An exception occurred. Skipping Line\n",
      "An exception occurred. Skipping Line\n"
     ]
    },
    {
     "name": "stderr",
     "output_type": "stream",
     "text": [
      " 10%|▉         | 196686/2011268 [00:02<00:17, 103721.06it/s]"
     ]
    },
    {
     "name": "stdout",
     "output_type": "stream",
     "text": [
      "An exception occurred. Skipping Line\n",
      "An exception occurred. Skipping Line\n",
      "An exception occurred. Skipping Line\n",
      "An exception occurred. Skipping Line\n"
     ]
    },
    {
     "name": "stderr",
     "output_type": "stream",
     "text": [
      " 11%|█         | 217103/2011268 [00:02<00:19, 93381.93it/s] "
     ]
    },
    {
     "name": "stdout",
     "output_type": "stream",
     "text": [
      "An exception occurred. Skipping Line\n"
     ]
    },
    {
     "name": "stderr",
     "output_type": "stream",
     "text": [
      " 16%|█▌        | 325913/2011268 [00:03<00:17, 95077.01it/s]"
     ]
    },
    {
     "name": "stdout",
     "output_type": "stream",
     "text": [
      "An exception occurred. Skipping Line\n",
      "An exception occurred. Skipping Line\n",
      "An exception occurred. Skipping Line\n",
      "An exception occurred. Skipping Line\n"
     ]
    },
    {
     "name": "stderr",
     "output_type": "stream",
     "text": [
      " 22%|██▏       | 447496/2011268 [00:04<00:14, 109267.55it/s]"
     ]
    },
    {
     "name": "stdout",
     "output_type": "stream",
     "text": [
      "An exception occurred. Skipping Line\n",
      "An exception occurred. Skipping Line\n",
      "An exception occurred. Skipping Line\n",
      "An exception occurred. Skipping Line\n",
      "An exception occurred. Skipping Line\n",
      "An exception occurred. Skipping Line\n",
      "An exception occurred. Skipping Line\n",
      "An exception occurred. Skipping Line\n",
      "An exception occurred. Skipping Line\n",
      "An exception occurred. Skipping Line\n"
     ]
    },
    {
     "name": "stderr",
     "output_type": "stream",
     "text": [
      " 23%|██▎       | 469054/2011268 [00:04<00:14, 104779.54it/s]"
     ]
    },
    {
     "name": "stdout",
     "output_type": "stream",
     "text": [
      "An exception occurred. Skipping Line\n",
      "An exception occurred. Skipping Line\n",
      "An exception occurred. Skipping Line\n"
     ]
    },
    {
     "name": "stderr",
     "output_type": "stream",
     "text": [
      " 25%|██▍       | 500799/2011268 [00:05<00:14, 105135.51it/s]"
     ]
    },
    {
     "name": "stdout",
     "output_type": "stream",
     "text": [
      "An exception occurred. Skipping Line\n",
      "An exception occurred. Skipping Line\n"
     ]
    },
    {
     "name": "stderr",
     "output_type": "stream",
     "text": [
      " 27%|██▋       | 543500/2011268 [00:05<00:13, 105341.09it/s]"
     ]
    },
    {
     "name": "stdout",
     "output_type": "stream",
     "text": [
      "An exception occurred. Skipping Line\n",
      "An exception occurred. Skipping Line\n",
      "An exception occurred. Skipping Line\n",
      "An exception occurred. Skipping Line\n",
      "An exception occurred. Skipping Line\n",
      "An exception occurred. Skipping Line\n",
      "An exception occurred. Skipping Line\n"
     ]
    },
    {
     "name": "stderr",
     "output_type": "stream",
     "text": [
      " 29%|██▉       | 586716/2011268 [00:05<00:13, 104830.58it/s]"
     ]
    },
    {
     "name": "stdout",
     "output_type": "stream",
     "text": [
      "An exception occurred. Skipping Line\n",
      "An exception occurred. Skipping Line\n",
      "An exception occurred. Skipping Line\n"
     ]
    },
    {
     "name": "stderr",
     "output_type": "stream",
     "text": [
      " 31%|███       | 618345/2011268 [00:06<00:13, 103193.13it/s]"
     ]
    },
    {
     "name": "stdout",
     "output_type": "stream",
     "text": [
      "An exception occurred. Skipping Line\n",
      "An exception occurred. Skipping Line\n",
      "An exception occurred. Skipping Line\n",
      "An exception occurred. Skipping Line\n",
      "An exception occurred. Skipping Line\n"
     ]
    },
    {
     "name": "stderr",
     "output_type": "stream",
     "text": [
      " 33%|███▎      | 660516/2011268 [00:06<00:13, 99684.57it/s] "
     ]
    },
    {
     "name": "stdout",
     "output_type": "stream",
     "text": [
      "An exception occurred. Skipping Line\n"
     ]
    },
    {
     "name": "stderr",
     "output_type": "stream",
     "text": [
      " 36%|███▌      | 726795/2011268 [00:07<00:11, 110727.23it/s]"
     ]
    },
    {
     "name": "stdout",
     "output_type": "stream",
     "text": [
      "An exception occurred. Skipping Line\n",
      "An exception occurred. Skipping Line\n",
      "An exception occurred. Skipping Line\n",
      "An exception occurred. Skipping Line\n",
      "An exception occurred. Skipping Line\n",
      "An exception occurred. Skipping Line\n"
     ]
    },
    {
     "name": "stderr",
     "output_type": "stream",
     "text": [
      " 38%|███▊      | 761827/2011268 [00:07<00:11, 111704.88it/s]"
     ]
    },
    {
     "name": "stdout",
     "output_type": "stream",
     "text": [
      "An exception occurred. Skipping Line\n"
     ]
    },
    {
     "name": "stderr",
     "output_type": "stream",
     "text": [
      " 41%|████      | 828659/2011268 [00:08<00:10, 107643.93it/s]"
     ]
    },
    {
     "name": "stdout",
     "output_type": "stream",
     "text": [
      "An exception occurred. Skipping Line\n",
      "An exception occurred. Skipping Line\n",
      "An exception occurred. Skipping Line\n",
      "An exception occurred. Skipping Line\n"
     ]
    },
    {
     "name": "stderr",
     "output_type": "stream",
     "text": [
      " 45%|████▌     | 905860/2011268 [00:08<00:10, 105406.93it/s]"
     ]
    },
    {
     "name": "stdout",
     "output_type": "stream",
     "text": [
      "An exception occurred. Skipping Line\n",
      "An exception occurred. Skipping Line\n",
      "An exception occurred. Skipping Line\n"
     ]
    },
    {
     "name": "stderr",
     "output_type": "stream",
     "text": [
      " 47%|████▋     | 949830/2011268 [00:09<00:10, 105547.31it/s]"
     ]
    },
    {
     "name": "stdout",
     "output_type": "stream",
     "text": [
      "An exception occurred. Skipping Line\n",
      "An exception occurred. Skipping Line\n",
      "An exception occurred. Skipping Line\n"
     ]
    },
    {
     "name": "stderr",
     "output_type": "stream",
     "text": [
      " 51%|█████     | 1029300/2011268 [00:10<00:09, 102308.32it/s]"
     ]
    },
    {
     "name": "stdout",
     "output_type": "stream",
     "text": [
      "An exception occurred. Skipping Line\n"
     ]
    },
    {
     "name": "stderr",
     "output_type": "stream",
     "text": [
      " 56%|█████▌    | 1119857/2011268 [00:10<00:07, 114281.31it/s]"
     ]
    },
    {
     "name": "stdout",
     "output_type": "stream",
     "text": [
      "An exception occurred. Skipping Line\n",
      "An exception occurred. Skipping Line\n",
      "An exception occurred. Skipping Line\n",
      "An exception occurred. Skipping Line\n",
      "An exception occurred. Skipping Line\n",
      "An exception occurred. Skipping Line\n"
     ]
    },
    {
     "name": "stderr",
     "output_type": "stream",
     "text": [
      " 59%|█████▉    | 1187640/2011268 [00:11<00:07, 104392.02it/s]"
     ]
    },
    {
     "name": "stdout",
     "output_type": "stream",
     "text": [
      "An exception occurred. Skipping Line\n",
      "An exception occurred. Skipping Line\n"
     ]
    },
    {
     "name": "stderr",
     "output_type": "stream",
     "text": [
      " 61%|██████    | 1220478/2011268 [00:11<00:07, 107989.03it/s]"
     ]
    },
    {
     "name": "stdout",
     "output_type": "stream",
     "text": [
      "An exception occurred. Skipping Line\n"
     ]
    },
    {
     "name": "stderr",
     "output_type": "stream",
     "text": [
      " 62%|██████▏   | 1254115/2011268 [00:12<00:06, 108924.68it/s]"
     ]
    },
    {
     "name": "stdout",
     "output_type": "stream",
     "text": [
      "An exception occurred. Skipping Line\n",
      "An exception occurred. Skipping Line\n",
      "An exception occurred. Skipping Line\n",
      "An exception occurred. Skipping Line\n",
      "An exception occurred. Skipping Line\n",
      "An exception occurred. Skipping Line\n",
      "An exception occurred. Skipping Line\n"
     ]
    },
    {
     "name": "stderr",
     "output_type": "stream",
     "text": [
      " 64%|██████▍   | 1286575/2011268 [00:12<00:06, 104893.33it/s]"
     ]
    },
    {
     "name": "stdout",
     "output_type": "stream",
     "text": [
      "An exception occurred. Skipping Line\n",
      "An exception occurred. Skipping Line\n",
      "An exception occurred. Skipping Line\n"
     ]
    },
    {
     "name": "stderr",
     "output_type": "stream",
     "text": [
      " 66%|██████▌   | 1320010/2011268 [00:12<00:06, 110104.83it/s]"
     ]
    },
    {
     "name": "stdout",
     "output_type": "stream",
     "text": [
      "An exception occurred. Skipping Line\n"
     ]
    },
    {
     "name": "stderr",
     "output_type": "stream",
     "text": [
      " 67%|██████▋   | 1352976/2011268 [00:13<00:06, 109202.16it/s]"
     ]
    },
    {
     "name": "stdout",
     "output_type": "stream",
     "text": [
      "An exception occurred. Skipping Line\n"
     ]
    },
    {
     "name": "stderr",
     "output_type": "stream",
     "text": [
      " 68%|██████▊   | 1374821/2011268 [00:13<00:05, 106535.49it/s]"
     ]
    },
    {
     "name": "stdout",
     "output_type": "stream",
     "text": [
      "An exception occurred. Skipping Line\n",
      "An exception occurred. Skipping Line\n",
      "An exception occurred. Skipping Line\n"
     ]
    },
    {
     "name": "stderr",
     "output_type": "stream",
     "text": [
      " 71%|███████   | 1429008/2011268 [00:13<00:05, 101148.19it/s]"
     ]
    },
    {
     "name": "stdout",
     "output_type": "stream",
     "text": [
      "An exception occurred. Skipping Line\n",
      "An exception occurred. Skipping Line"
     ]
    },
    {
     "name": "stderr",
     "output_type": "stream",
     "text": [
      " 72%|███████▏  | 1450493/2011268 [00:13<00:05, 104021.92it/s]"
     ]
    },
    {
     "name": "stdout",
     "output_type": "stream",
     "text": [
      "\n"
     ]
    },
    {
     "name": "stderr",
     "output_type": "stream",
     "text": [
      " 74%|███████▎  | 1481593/2011268 [00:14<00:05, 100936.00it/s]"
     ]
    },
    {
     "name": "stdout",
     "output_type": "stream",
     "text": [
      "An exception occurred. Skipping Line\n",
      "An exception occurred. Skipping Line\n",
      "An exception occurred. Skipping Line\n",
      "An exception occurred. Skipping Line\n",
      "An exception occurred. Skipping Line\n",
      "An exception occurred. Skipping Line\n",
      "An exception occurred. Skipping Line\n",
      "An exception occurred. Skipping Line\n"
     ]
    },
    {
     "name": "stderr",
     "output_type": "stream",
     "text": [
      " 76%|███████▌  | 1523091/2011268 [00:14<00:05, 94107.07it/s] "
     ]
    },
    {
     "name": "stdout",
     "output_type": "stream",
     "text": [
      "An exception occurred. Skipping Line\n",
      "An exception occurred. Skipping Line\n",
      "An exception occurred. Skipping Line\n",
      "An exception occurred. Skipping Line\n",
      "An exception occurred. Skipping Line\n",
      "An exception occurred. Skipping Line\n",
      "An exception occurred. Skipping Line\n"
     ]
    },
    {
     "name": "stderr",
     "output_type": "stream",
     "text": [
      " 78%|███████▊  | 1566427/2011268 [00:15<00:04, 106580.88it/s]"
     ]
    },
    {
     "name": "stdout",
     "output_type": "stream",
     "text": [
      "An exception occurred. Skipping Line\n"
     ]
    },
    {
     "name": "stderr",
     "output_type": "stream",
     "text": [
      " 81%|████████▏ | 1634663/2011268 [00:15<00:03, 113615.46it/s]"
     ]
    },
    {
     "name": "stdout",
     "output_type": "stream",
     "text": [
      "An exception occurred. Skipping Line\n",
      "An exception occurred. Skipping Line\n",
      "An exception occurred. Skipping Line\n",
      "An exception occurred. Skipping Line\n",
      "An exception occurred. Skipping Line\n",
      "An exception occurred. Skipping Line\n",
      "An exception occurred. Skipping Line\n",
      "An exception occurred. Skipping Line\n",
      "An exception occurred. Skipping Line\n",
      "An exception occurred. Skipping Line\n"
     ]
    },
    {
     "name": "stderr",
     "output_type": "stream",
     "text": [
      " 82%|████████▏ | 1657608/2011268 [00:15<00:03, 111805.55it/s]"
     ]
    },
    {
     "name": "stdout",
     "output_type": "stream",
     "text": [
      "An exception occurred. Skipping Line\n",
      "An exception occurred. Skipping Line\n",
      "An exception occurred. Skipping Line\n",
      "An exception occurred. Skipping Line\n",
      "An exception occurred. Skipping Line\n",
      "An exception occurred. Skipping Line\n",
      "An exception occurred. Skipping Line\n",
      "An exception occurred. Skipping Line\n",
      "An exception occurred. Skipping Line\n"
     ]
    },
    {
     "name": "stderr",
     "output_type": "stream",
     "text": [
      " 86%|████████▌ | 1731494/2011268 [00:16<00:02, 102794.10it/s]"
     ]
    },
    {
     "name": "stdout",
     "output_type": "stream",
     "text": [
      "An exception occurred. Skipping Line\n",
      "An exception occurred. Skipping Line\n",
      "An exception occurred. Skipping Line\n",
      "An exception occurred. Skipping Line\n",
      "An exception occurred. Skipping Line\n",
      "An exception occurred. Skipping Line\n"
     ]
    },
    {
     "name": "stderr",
     "output_type": "stream",
     "text": [
      " 89%|████████▉ | 1786662/2011268 [00:17<00:02, 109910.42it/s]"
     ]
    },
    {
     "name": "stdout",
     "output_type": "stream",
     "text": [
      "An exception occurred. Skipping Line\n",
      "An exception occurred. Skipping Line\n",
      "An exception occurred. Skipping Line\n",
      "An exception occurred. Skipping Line\n",
      "An exception occurred. Skipping Line\n"
     ]
    },
    {
     "name": "stderr",
     "output_type": "stream",
     "text": [
      " 90%|████████▉ | 1808278/2011268 [00:17<00:01, 101909.31it/s]"
     ]
    },
    {
     "name": "stdout",
     "output_type": "stream",
     "text": [
      "An exception occurred. Skipping Line\n",
      "An exception occurred. Skipping Line\n",
      "An exception occurred. Skipping Line\n",
      "An exception occurred. Skipping Line\n",
      "An exception occurred. Skipping Line\n",
      "An exception occurred. Skipping Line\n",
      "An exception occurred. Skipping Line\n",
      "An exception occurred. Skipping Line\n",
      "An exception occurred. Skipping Line\n",
      "An exception occurred. Skipping Line\n",
      "An exception occurred. Skipping Line\n",
      "An exception occurred. Skipping Line\n",
      "An exception occurred. Skipping Line\n",
      "An exception occurred. Skipping Line\n",
      "An exception occurred. Skipping Line\n",
      "An exception occurred. Skipping Line\n"
     ]
    },
    {
     "name": "stderr",
     "output_type": "stream",
     "text": [
      " 92%|█████████▏| 1853871/2011268 [00:17<00:01, 110710.42it/s]"
     ]
    },
    {
     "name": "stdout",
     "output_type": "stream",
     "text": [
      "An exception occurred. Skipping Line\n",
      "An exception occurred. Skipping Line\n",
      "An exception occurred. Skipping Line\n"
     ]
    },
    {
     "name": "stderr",
     "output_type": "stream",
     "text": [
      " 95%|█████████▍| 1909826/2011268 [00:18<00:00, 104137.36it/s]"
     ]
    },
    {
     "name": "stdout",
     "output_type": "stream",
     "text": [
      "An exception occurred. Skipping Line\n",
      "An exception occurred. Skipping Line\n",
      "An exception occurred. Skipping Line\n",
      "An exception occurred. Skipping Line\n",
      "An exception occurred. Skipping Line\n"
     ]
    },
    {
     "name": "stderr",
     "output_type": "stream",
     "text": [
      " 96%|█████████▌| 1930486/2011268 [00:18<00:00, 99601.10it/s] "
     ]
    },
    {
     "name": "stdout",
     "output_type": "stream",
     "text": [
      "An exception occurred. Skipping Line\n",
      "An exception occurred. Skipping Line\n",
      "An exception occurred. Skipping Line\n",
      "An exception occurred. Skipping Line\n",
      "An exception occurred. Skipping Line\n"
     ]
    },
    {
     "name": "stderr",
     "output_type": "stream",
     "text": [
      " 98%|█████████▊| 1980086/2011268 [00:19<00:00, 98089.99it/s]"
     ]
    },
    {
     "name": "stdout",
     "output_type": "stream",
     "text": [
      "An exception occurred. Skipping Line\n"
     ]
    },
    {
     "name": "stderr",
     "output_type": "stream",
     "text": [
      "100%|██████████| 2011268/2011268 [00:19<00:00, 103736.32it/s]\n"
     ]
    }
   ],
   "source": [
    "with tqdm(total=2011268) as pbar:\n",
    "    for row in data.itertuples(index=False):\n",
    "        try:\n",
    "            line = row.documents[:-1]\n",
    "            finalLine = line[:1] + '\\\"' + line[1:]\n",
    "            jsonArray = json.loads(finalLine)\n",
    "            if type(row.keywords) == str:\n",
    "                query_dict[row.document_id] = row.keywords\n",
    "            else:\n",
    "                query_dict[row.document_id] = \"\"\n",
    "        except:\n",
    "            print(\"An exception occurred. Skipping Line\")\n",
    "        pbar.update(1)"
   ]
  },
  {
   "cell_type": "code",
   "execution_count": 23,
   "metadata": {},
   "outputs": [],
   "source": [
    "from itertools import islice"
   ]
  },
  {
   "cell_type": "code",
   "execution_count": 24,
   "metadata": {},
   "outputs": [],
   "source": [
    "def take(n, iterable):\n",
    "    return list(islice(iterable, n))"
   ]
  },
  {
   "cell_type": "code",
   "execution_count": 25,
   "metadata": {},
   "outputs": [
    {
     "name": "stdout",
     "output_type": "stream",
     "text": [
      "[(9230124, 'cvad '), (7793079, 'Effect on cell proliferation using MG-63 cells'), (4761534, 'venous catheter'), (9244981, 'CHRONIC WOUNDS  AND NEGATIVE PRESSURE THERAPY AND EFFECTIVENESS'), (9338021, 'healing pilonidal sinus'), (9358627, 'complete lymph node dissection in melanoma'), (9338077, 'complete lymph node dissection in melanoma'), (9004032, '(melanoma)(completion lymph node dissection)(observation)(survival)'), (9396314, '(melanoma)(completion lymph node dissection)(observation)(survival)'), (1419935, 'complete lymph node dissection in melanoma')]\n"
     ]
    }
   ],
   "source": [
    "print(take(10, query_dict.items()))"
   ]
  },
  {
   "cell_type": "code",
   "execution_count": 26,
   "metadata": {},
   "outputs": [],
   "source": [
    "nx.set_node_attributes(G, query_dict, 'keywords')"
   ]
  },
  {
   "cell_type": "code",
   "execution_count": 27,
   "metadata": {},
   "outputs": [],
   "source": [
    "nx.write_gexf(G, 'documents_network.gexf')"
   ]
  },
  {
   "cell_type": "code",
   "execution_count": 29,
   "metadata": {},
   "outputs": [],
   "source": [
    "selected_node = 0"
   ]
  },
  {
   "cell_type": "code",
   "execution_count": 58,
   "metadata": {},
   "outputs": [],
   "source": [
    "query = 'chronic non-specific low back pain\" and \"social factors\"'"
   ]
  },
  {
   "cell_type": "code",
   "execution_count": 61,
   "metadata": {},
   "outputs": [
    {
     "name": "stdout",
     "output_type": "stream",
     "text": [
      "chronic non-specific low back pain\" and \"social factors\"\"\n"
     ]
    }
   ],
   "source": [
    "try:\n",
    "    for n in G.nodes():\n",
    "        if query.lower() == G.nodes[n]['keywords'].lower().strip():\n",
    "            print(G.nodes[n]['keywords'])\n",
    "            selected_node = n\n",
    "            break\n",
    "except:\n",
    "    try:\n",
    "        for n in G.nodes():\n",
    "            if query.lower() in G.nodes[n]['keywords'].lower().strip():\n",
    "                print(G.nodes[n]['keywords'])\n",
    "                selected_node = n\n",
    "                break\n",
    "    except:\n",
    "        print(\"No Record found\")"
   ]
  },
  {
   "cell_type": "code",
   "execution_count": 62,
   "metadata": {},
   "outputs": [
    {
     "name": "stdout",
     "output_type": "stream",
     "text": [
      "9184145\n"
     ]
    }
   ],
   "source": [
    "print(selected_node)"
   ]
  },
  {
   "cell_type": "code",
   "execution_count": 63,
   "metadata": {},
   "outputs": [
    {
     "data": {
      "text/plain": [
       "EdgeDataView([(9184145, '5656269'), (9184145, '9106916'), (9184145, '9007275'), (9184145, '9187394'), (9184145, '5611872'), (9184145, '9184145'), (9184145, '9158057'), (9184145, '9090780'), (9184145, '8991239'), (9184145, '8945066'), (9184145, '8931890'), (9184145, '8931889'), (9184145, '5651260'), (9184145, '5636739'), (9184145, '5612475'), (9184145, '5547106'), (9184145, '9299114'), (9184145, '9301186'), (9184145, '9290265'), (9184145, '9291819'), (9184145, '9338985'), (9184145, '9338974'), (9184145, '9103567'), (9184145, '5008790'), (9184145, '9229684'), (9184145, '9158081'), (9184145, '9090776'), (9184145, '8959428'), (9184145, '8740875'), (9184145, '7778914'), (9184145, '5580330'), (9184145, '9269122'), (9184145, '9273776'), (9184145, '9276910'), (9184145, '9254825'), (9184145, '9237801'), (9184145, '9261318'), (9184145, '9342499'), (9184145, '9411090'), (9184145, '9230658'), (9184145, '1420114'), (9184145, '9007237'), (9184145, '9176259'), (9184145, '9338952'), (9184145, '9338620'), (9184145, '1420001'), (9184145, '9475252'), (9184145, '9489622'), (9184145, '9412578'), (9184145, '9503259'), (9184145, '9146078'), (9184145, '5043091'), (9184145, '1358481'), (9184145, '1379365'), (9184145, '1339960'), (9184145, '8944805'), (9184145, '9410662'), (9184145, '9349624'), (9184145, '5567047'), (9184145, '9280791'), (9184145, '9427247'), (9184145, '9245245'), (9184145, '9388554'), (9184145, '5684544'), (9184145, '8959427'), (9184145, '9349626'), (9184145, '9364154'), (9184145, '1370829'), (9184145, '9006702'), (9184145, '9042479'), (9184145, '9034874'), (9184145, '9209060'), (9184145, '9230594'), (9184145, '9326734'), (9184145, '9440768'), (9184145, '9326015'), (9184145, '9506886'), (9184145, '9185400'), (9184145, '4734892'), (9184145, '5002528'), (9184145, '1339644'), (9184145, '1326628'), (9184145, '1207951'), (9184145, '1145956'), (9184145, '9518623'), (9184145, '9585532'), (9184145, '9525504'), (9184145, '9306395'), (9184145, '9203966'), (9184145, '1571551'), (9184145, '5012691'), (9184145, '5651913'), (9184145, '9513410'), (9184145, '1396914'), (9184145, '9607874'), (9184145, '9603896'), (9184145, '1207994'), (9184145, '320441'), (9184145, '728634'), (9184145, '9614648'), (9184145, '1244769'), (9184145, '693147'), (9184145, '693199'), (9184145, '322375'), (9184145, '9617620'), (9184145, '9616914'), (9184145, '9617368'), (9184145, '9617546'), (9184145, '8945349'), (9184145, '9410673'), (9184145, '8944802'), (9184145, '9410674'), (9184145, '8944809'), (9184145, '1132025'), (9184145, '1131927'), (9184145, '1131968'), (9184145, '4991484'), (9184145, '9410651'), (9184145, '9410650'), (9184145, '9410649'), (9184145, '9410648'), (9184145, '8944790'), (9184145, '9603157'), (9184145, '4975442'), (9184145, '1131960'), (9184145, '8944785'), (9184145, '1099472'), (9184145, '9073945'), (9184145, '5612498'), (9184145, '1132028'), (9184145, '1131921'), (9184145, '9679098'), (9184145, '9657991'), (9184145, '9638755'), (9184145, '9648839'), (9184145, '9637640'), (9184145, '9620970'), (9184145, '9648844'), (9184145, '9680850'), (9184145, '9670873'), (9184145, '1043260'), (9184145, '9696050'), (9184145, '9631858'), (9184145, '9631756'), (9184145, '9631736'), (9184145, '5580644'), (9184145, '5043106'), (9184145, '4975427'), (9184145, '1068792'), (9184145, '1132005'), (9184145, '1132004'), (9184145, '1358491'), (9184145, '323360'), (9184145, '9631889'), (9184145, '9713245'), (9184145, '9700647'), (9184145, '9650394'), (9184145, '9648264'), (9184145, '9634352'), (9184145, '9679100'), (9184145, '9679099'), (9184145, '9616200'), (9184145, '9679053'), (9184145, '10060058'), (9184145, '9774112'), (9184145, '9762152'), (9184145, '8159324'), (9184145, '10061307'), (9184145, '10098691'), (9184145, '9657993'), (9184145, '9644544'), (9184145, '9616741'), (9184145, '5612238'), (9184145, '5612214'), (9184145, '5612213'), (9184145, '5612226'), (9184145, '9616142'), (9184145, '9614952'), (9184145, '10064414'), (9184145, '9665616'), (9184145, '9665615'), (9184145, '9614764'), (9184145, '9279806'), (9184145, '9279795'), (9184145, '7874797'), (9184145, '7874796'), (9184145, '823274'), (9184145, '6145131'), (9184145, '10026070'), (9184145, '10000994'), (9184145, '8945281'), (9184145, '9615164'), (9184145, '8991291'), (9184145, '9525100'), (9184145, '9617577'), (9184145, '9617541'), (9184145, '9038581'), (9184145, '10026069'), (9184145, '10026068'), (9184145, '10013030'), (9184145, '10027156'), (9184145, '10021609'), (9184145, '10021608'), (9184145, '10033259'), (9184145, '10033261'), (9184145, '9614131'), (9184145, '832765'), (9184145, '833600'), (9184145, '817620'), (9184145, '817619'), (9184145, '5687572'), (9184145, '9616293'), (9184145, '9614825'), (9184145, '8167984'), (9184145, '5813757'), (9184145, '9616288'), (9184145, '9616379'), (9184145, '9616260'), (9184145, '9185469'), (9184145, '9617552'), (9184145, '9614676'), (9184145, '9616784'), (9184145, '9279897'), (9184145, '9617316'), (9184145, '9710059'), (9184145, '9616518'), (9184145, '8944775'), (9184145, '693300'), (9184145, '5813424'), (9184145, '9657994'), (9184145, '5842989'), (9184145, '9057697'), (9184145, '9681561'), (9184145, '9617601'), (9184145, '9614740'), (9184145, '9616330'), (9184145, '9613940'), (9184145, '9696381'), (9184145, '9630564'), (9184145, '9658064'), (9184145, '9696335'), (9184145, '9696489'), (9184145, '9613843'), (9184145, '9617707'), (9184145, '9440762'), (9184145, '9410584'), (9184145, '8945290'), (9184145, '9213205'), (9184145, '9616924'), (9184145, '9617043'), (9184145, '5796671'), (9184145, '5801835'), (9184145, '9279979'), (9184145, '9279721'), (9184145, '10046533'), (9184145, '10037871'), (9184145, '9614667'), (9184145, '829293'), (9184145, '832421'), (9184145, '825635'), (9184145, '5773651'), (9184145, '5764323'), (9184145, '9388630'), (9184145, '10024268'), (9184145, '9019434'), (9184145, '9335825'), (9184145, '1613483'), (9184145, '9578928'), (9184145, '9696375'), (9184145, '9786736'), (9184145, '1424177'), (9184145, '9349379'), (9184145, '5852438'), (9184145, '5535049'), (9184145, '1721611'), (9184145, '1701458'), (9184145, '1725155'), (9184145, '5861281'), (9184145, '5600320'), (9184145, '8151337'), (9184145, '1686498'), (9184145, '9801975'), (9184145, '9475372'), (9184145, '9475375'), (9184145, '9297163'), (9184145, '9388510'), (9184145, '9680885'), (9184145, '9506821'), (9184145, '5666871'), (9184145, '9328502'), (9184145, '10004287'), (9184145, '10008053'), (9184145, '9836228'), (9184145, '7856552'), (9184145, '5656264'), (9184145, '9631714'), (9184145, '9616352'), (9184145, '10068235'), (9184145, '9056343'), (9184145, '1179220'), (9184145, '9696329'), (9184145, '9696328'), (9184145, '9613856'), (9184145, '9613858'), (9184145, '9630287'), (9184145, '9631869'), (9184145, '9631867'), (9184145, '9631865'), (9184145, '9631760'), (9184145, '9410586'), (9184145, '8945270'), (9184145, '5656261'), (9184145, '5656265'), (9184145, '9614884'), (9184145, '9012270'), (9184145, '9658017'), (9184145, '4724636'), (9184145, '910740'), (9184145, '9018350'), (9184145, '9073957'), (9184145, '10086007'), (9184145, '9225426'), (9184145, '5659105'), (9184145, '812242'), (9184145, '812598'), (9184145, '814122'), (9184145, '812786'), (9184145, '816279'), (9184145, '816744'), (9184145, '817239'), (9184145, '817704'), (9184145, '815438'), (9184145, '9696639'), (9184145, '9860907'), (9184145, '9982403'), (9184145, '9213160'), (9184145, '9279888'), (9184145, '10026334'), (9184145, '9728720'), (9184145, '9680823'), (9184145, '10044255'), (9184145, '9780009'), (9184145, '10191333'), (9184145, '9757017'), (9184145, '9775964'), (9184145, '9776659'), (9184145, '10049199'), (9184145, '10051988'), (9184145, '9770075'), (9184145, '9774550'), (9184145, '9775089'), (9184145, '9616942'), (9184145, '9614204'), (9184145, '9506909'), (9184145, '9617378'), (9184145, '9350351'), (9184145, '5687895'), (9184145, '5593662'), (9184145, '9279673'), (9184145, '10026083'), (9184145, '10012227'), (9184145, '10016758'), (9184145, '9989846'), (9184145, '10031460'), (9184145, '9280002'), (9184145, '9616206'), (9184145, '9022871'), (9184145, '9022844'), (9184145, '9279960'), (9184145, '9617519'), (9184145, '7757463'), (9184145, '9614333'), (9184145, '9614393'), (9184145, '9614328'), (9184145, '9614364'), (9184145, '9614036'), (9184145, '9212328'), (9184145, '9212327'), (9184145, '10553222'), (9184145, '9973469'), (9184145, '5792561'), (9184145, '9812063'), (9184145, '9680867'), (9184145, '5836680'), (9184145, '833663'), (9184145, '832484'), (9184145, '825698'), (9184145, '10030869'), (9184145, '10011577'), (9184145, '10021941'), (9184145, '9988082'), (9184145, '9741404'), (9184145, '10063665'), (9184145, '10088863'), (9184145, '9279731'), (9184145, '830350'), (9184145, '832829'), (9184145, '9658116'), (9184145, '9746648'), (9184145, '9128209'), (9184145, '6767348'), (9184145, '6833461'), (9184145, '6832569'), (9184145, '9958670'), (9184145, '9263685'), (9184145, '8944768'), (9184145, '10436454'), (9184145, '8974298'), (9184145, '9618993'), (9184145, '10029164'), (9184145, '10018190'), (9184145, '10034932'), (9184145, '10033012'), (9184145, '10031251'), (9184145, '9943029'), (9184145, '9824443'), (9184145, '9296953'), (9184145, '8944960'), (9184145, '5580643'), (9184145, '9631706'), (9184145, '1131910'), (9184145, '9525389'), (9184145, '9631716'), (9184145, '8944959'), (9184145, '5687583'), (9184145, '5687575'), (9184145, '5612497'), (9184145, '1087232'), (9184145, '5656266'), (9184145, '1358510'), (9184145, '1132120'), (9184145, '1132007'), (9184145, '9644605'), (9184145, '9410986'), (9184145, '10086089'), (9184145, '828164'), (9184145, '829113'), (9184145, '828751'), (9184145, '828750'), (9184145, '833420'), (9184145, '834357'), (9184145, '834356'), (9184145, '814152'), (9184145, '812816'), (9184145, '835070'), (9184145, '7835426'), (9184145, '5849896'), (9184145, '9726280'), (9184145, '4975408'), (9184145, '10021033'), (9184145, '10031756'), (9184145, '10040583'), (9184145, '9775859'), (9184145, '9765817'), (9184145, '9479968'), (9184145, '9435048'), (9184145, '8970626'), (9184145, '5784587'), (9184145, '1178701'), (9184145, '9617550'), (9184145, '9244689'), (9184145, '9614336'), (9184145, '9617377'), (9184145, '9614438'), (9184145, '9679124'), (9184145, '9758042'), (9184145, '5568963'), (9184145, '9807056'), (9184145, '10085673'), (9184145, '9747412'), (9184145, '9615163'), (9184145, '5773934'), (9184145, '9799229'), (9184145, '9734187'), (9184145, '9488018'), (9184145, '9043631'), (9184145, '9071144'), (9184145, '10059473'), (9184145, '10000414'), (9184145, '9615105'), (9184145, '10691633'), (9184145, '10035658'), (9184145, '10032721'), (9184145, '5848470'), (9184145, '8991205'), (9184145, '10053559'), (9184145, '10049202'), (9184145, '10072223'), (9184145, '8160119'), (9184145, '10077351'), (9184145, '9058152'), (9184145, '9616093'), (9184145, '9520310'), (9184145, '9631921'), (9184145, '9680877'), (9184145, '9525134'), (9184145, '9617379'), (9184145, '9679125'), (9184145, '10694579'), (9184145, '9709749'), (9184145, '8991550'), (9184145, '9054884'), (9184145, '7366958'), (9184145, '9615057'), (9184145, '10006103'), (9184145, '9995931'), (9184145, '9994791'), (9184145, '10051212'), (9184145, '10057216'), (9184145, '10037573'), (9184145, '1853794'), (9184145, '9279817'), (9184145, '9280041'), (9184145, '9843914'), (9184145, '9814190'), (9184145, '10082584'), (9184145, '9313187'), (9184145, '9364013'), (9184145, '1426765'), (9184145, '1625655'), (9184145, '9696486'), (9184145, '9741618'), (9184145, '1440533'), (9184145, '9784004'), (9184145, '9784005'), (9184145, '9778670'), (9184145, '10056296'), (9184145, '9803364'), (9184145, '9785808'), (9184145, '1674623'), (9184145, '9776707'), (9184145, '9615060'), (9184145, '8160807'), (9184145, '9326290'), (9184145, '9325592'), (9184145, '9465318'), (9184145, '9996730'), (9184145, '10002624'), (9184145, '10600355'), (9184145, '1228338'), (9184145, '9016547'), (9184145, '10082966'), (9184145, '8000403'), (9184145, '9280432'), (9184145, '9657980'), (9184145, '9644580'), (9184145, '9074389'), (9184145, '9159147'), (9184145, '9695893'), (9184145, '9617580'), (9184145, '1180288'), (9184145, '5765704'), (9184145, '10445022'), (9184145, '9973607'), (9184145, '10010575'), (9184145, '10051961'), (9184145, '10022875'), (9184145, '10001644'), (9184145, '9613879'), (9184145, '10016605'), (9184145, '10029836'), (9184145, '9986506'), (9184145, '10038964'), (9184145, '10059026'), (9184145, '10074315'), (9184145, '10046447'), (9184145, '9810609'), (9184145, '9795203'), (9184145, '10043372'), (9184145, '10013589'), (9184145, '5848061'), (9184145, '10052547'), (9184145, '10324577'), (9184145, '9763864'), (9184145, '9731562'), (9184145, '9410690'), (9184145, '8944813'), (9184145, '8974318'), (9184145, '829047'), (9184145, '828653'), (9184145, '833354'), (9184145, '834259'), (9184145, '9614097'), (9184145, '9055597'), (9184145, '9681556'), (9184145, '814162'), (9184145, '820908'), (9184145, '835094'), (9184145, '814293'), (9184145, '814301'), (9184145, '9022889'), (9184145, '9022807'), (9184145, '9022711'), (9184145, '9022562'), (9184145, '9022706'), (9184145, '9022884'), (9184145, '9279874'), (9184145, '9279775'), (9184145, '7861054'), (9184145, '10028643'), (9184145, '9616985'), (9184145, '9617150'), (9184145, '9990310'), (9184145, '10694449'), (9184145, '10060217'), (9184145, '10051498'), (9184145, '9726285'), (9184145, '9488122'), (9184145, '9213256'), (9184145, '9616739'), (9184145, '9614750'), (9184145, '9506351'), (9184145, '10058831'), (9184145, '9616147'), (9184145, '830292'), (9184145, '832771'), (9184145, '827164'), (9184145, '825985'), (9184145, '1229282'), (9184145, '9007343'), (9184145, '9007261'), (9184145, '10694516'), (9184145, '9525370'), (9184145, '9709748'), (9184145, '8974292'), (9184145, '8944761'), (9184145, '9212337'), (9184145, '9212336'), (9184145, '9244692'), (9184145, '8944770'), (9184145, '8944777'), (9184145, '8944776'), (9184145, '7757594'), (9184145, '9617200'), (9184145, '9617110'), (9184145, '9617058'), (9184145, '9617056'), (9184145, '10001591'), (9184145, '9279809'), (9184145, '9279797'), (9184145, '5687900'), (9184145, '9616876'), (9184145, '5593663'), (9184145, '9212295'), (9184145, '7719068'), (9184145, '8962223'), (9184145, '10712308'), (9184145, '10712303'), (9184145, '9778843'), (9184145, '9770270'), (9184145, '5866094'), (9184145, '9813328'), (9184145, '9101422'), (9184145, '9364808'), (9184145, '10714324'), (9184145, '9012768'), (9184145, '9090929'), (9184145, '4853937'), (9184145, '1217984'), (9184145, '10083034'), (9184145, '9023158'), (9184145, '10071913'), (9184145, '1128214'), (9184145, '9057093'), (9184145, '9616126'), (9184145, '9981481'), (9184145, '9747346'), (9184145, '10066379'), (9184145, '9614356'), (9184145, '10087045'), (9184145, '5857755'), (9184145, '5852989'), (9184145, '816039'), (9184145, '816519'), (9184145, '816999'), (9184145, '817479'), (9184145, '814835'), (9184145, '9680761'), (9184145, '9245156'), (9184145, '9680879'), (9184145, '9073962'), (9184145, '9440412'), (9184145, '9680848'), (9184145, '9680846'), (9184145, '9680845'), (9184145, '9680814'), (9184145, '9680816'), (9184145, '5612521'), (9184145, '9410587'), (9184145, '9993326'), (9184145, '10021074'), (9184145, '10081815'), (9184145, '10057396'), (9184145, '10058849'), (9184145, '10045346'), (9184145, '10052262'), (9184145, '10070455'), (9184145, '9617602'), (9184145, '10007962'), (9184145, '830405'), (9184145, '830410'), (9184145, '832889'), (9184145, '832884'), (9184145, '832242'), (9184145, '829114'), (9184145, '827282'), (9184145, '827277'), (9184145, '833421'), (9184145, '10713003'), (9184145, '9037823'), (9184145, '9657992'), (9184145, '10038648'), (9184145, '9617590'), (9184145, '9426949'), (9184145, '10311072'), (9184145, '9349192'), (9184145, '4821219'), (9184145, '1437868'), (9184145, '1025742'), (9184145, '1620846'), (9184145, '1045446'), (9184145, '9279679'), (9184145, '9279677'), (9184145, '9279676'), (9184145, '9506759'), (9184145, '816747'), (9184145, '817707'), (9184145, '8991577'), (9184145, '9038644'), (9184145, '9350481'), (9184145, '9091862'), (9184145, '9279668'), (9184145, '10032381'), (9184145, '5636424'), (9184145, '8974042'), (9184145, '10048193'), (9184145, '816250'), (9184145, '816730'), (9184145, '817210'), (9184145, '817690'), (9184145, '826103'), (9184145, '826098'), (9184145, '9230542'), (9184145, '7757585'), (9184145, '10031797'), (9184145, '9022788'), (9184145, '9506846'), (9184145, '9506844'), (9184145, '9023388'), (9184145, '9023264'), (9184145, '9616127'), (9184145, '9297018'), (9184145, '9989250'), (9184145, '9506706'), (9184145, '9475408'), (9184145, '9980140'), (9184145, '9980261'), (9184145, '10057295'), (9184145, '10059027'), (9184145, '10059029'), (9184145, '9616505'), (9184145, '9779283'), (9184145, '5813391'), (9184145, '9475324'), (9184145, '9679101'), (9184145, '9230596'), (9184145, '9616135'), (9184145, '9980188'), (9184145, '10056735'), (9184145, '5687588'), (9184145, '5612496'), (9184145, '9630304'), (9184145, '9680787'), (9184145, '9680785'), (9184145, '9657983'), (9184145, '9681472'), (9184145, '10712537'), (9184145, '9614482'), (9184145, '9658066'), (9184145, '9709733'), (9184145, '9614010'), (9184145, '9616531'), (9184145, '9617604'), (9184145, '9617605'), (9184145, '1132074'), (9184145, '1207997'), (9184145, '1132053'), (9184145, '9488061'), (9184145, '10712664'), (9184145, '10694450'), (9184145, '9488029'), (9184145, '9631759'), (9184145, '9680809'), (9184145, '9631724'), (9184145, '9680773'), (9184145, '1358502'), (9184145, '1043262'), (9184145, '8961924'), (9184145, '8944720'), (9184145, '10052871'), (9184145, '9614390'), (9184145, '9614379'), (9184145, '7757592'), (9184145, '9710185'), (9184145, '9696378'), (9184145, '9644568'), (9184145, '9644566'), (9184145, '9074367'), (9184145, '8945279'), (9184145, '8945289'), (9184145, '9185472'), (9184145, '9617520'), (9184145, '9617516'), (9184145, '9073991'), (9184145, '9073989'), (9184145, '9073972'), (9184145, '9777602'), (9184145, '9757887'), (9184145, '8158699'), (9184145, '9051746'), (9184145, '9818652'), (9184145, '9468512'), (9184145, '5657067'), (9184145, '8929205'), (9184145, '9020670'), (9184145, '10073222'), (9184145, '9615972'), (9184145, '9276411'), (9184145, '5687586'), (9184145, '9631712'), (9184145, '8944767'), (9184145, '8962219'), (9184145, '9280012'), (9184145, '9279914'), (9184145, '9614133'), (9184145, '9696379'), (9184145, '9681480'), (9184145, '9696377'), (9184145, '9007351'), (9184145, '8961962'), (9184145, '6745285'), (9184145, '831328'), (9184145, '828200'), (9184145, '828262'), (9184145, '829268'), (9184145, '829081'), (9184145, '827560'), (9184145, '826993'), (9184145, '835728'), (9184145, '833575'), (9184145, '833167'), (9184145, '833388'), (9184145, '833868'), (9184145, '812579'), (9184145, '10712551'), (9184145, '9644556'), (9184145, '9617376'), (9184145, '9616922'), (9184145, '9617149'), (9184145, '9615993'), (9184145, '9615144'), (9184145, '9614734'), (9184145, '9614436'), (9184145, '9614231'), (9184145, '1708474'), (9184145, '1743293'), (9184145, '1791293'), (9184145, '9734292'), (9184145, '10042057'), (9184145, '816626'), (9184145, '817586'), (9184145, '9350398'), (9184145, '9614020'), (9184145, '9656636'), (9184145, '9617480'), (9184145, '9617064'), (9184145, '9617106'), (9184145, '9617091'), (9184145, '9022665'), (9184145, '7757554'), (9184145, '8944778'), (9184145, '9022614'), (9184145, '9022883'), (9184145, '9979485'), (9184145, '10026794'), (9184145, '5593861'), (9184145, '9739229'), (9184145, '9733648'), (9184145, '9776289'), (9184145, '9789490'), (9184145, '9665775'), (9184145, '10714301'), (9184145, '10714261'), (9184145, '5852948'), (9184145, '5848617'), (9184145, '9817197'), (9184145, '9279750'), (9184145, '8917715'), (9184145, '5806818'), (9184145, '1290487'), (9184145, '7874957'), (9184145, '5774231'), (9184145, '1163961'), (9184145, '9614039'), (9184145, '9658040'), (9184145, '9007385'), (9184145, '9617168'), (9184145, '9440413'), (9184145, '10062287'), (9184145, '9023430'), (9184145, '5612221'), (9184145, '9616325'), (9184145, '5687303'), (9184145, '9023309'), (9184145, '9023251'), (9184145, '9614699'), (9184145, '9022692'), (9184145, '9616063'), (9184145, '9458149'), (9184145, '1389291'), (9184145, '9631855'), (9184145, '10712304'), (9184145, '9233924'), (9184145, '1371181'), (9184145, '9630290'), (9184145, '9410691'), (9184145, '9073947'), (9184145, '1128212'), (9184145, '9457695'), (9184145, '10054807'), (9184145, '9616329'), (9184145, '825456'), (9184145, '9615125'), (9184145, '10081398'), (9184145, '9617472'), (9184145, '9616751'), (9184145, '9613873'), (9184145, '9280441'), (9184145, '7757579'), (9184145, '9995640'), (9184145, '10002660'), (9184145, '9984528'), (9184145, '9998210'), (9184145, '9979441'), (9184145, '9972842'), (9184145, '10030935'), (9184145, '10021414'), (9184145, '10011002'), (9184145, '10018522'), (9184145, '10007774'), (9184145, '10009750'), (9184145, '1132081'), (9184145, '9038597'), (9184145, '9440411'), (9184145, '9440410'), (9184145, '9073946'), (9184145, '9410679'), (9184145, '9616740'), (9184145, '9244684'), (9184145, '9614380'), (9184145, '9614389'), (9184145, '10187027'), (9184145, '8989063'), (9184145, '9349424'), (9184145, '9768052'), (9184145, '9808665'), (9184145, '9166932'), (9184145, '5838474'), (9184145, '9989882'), (9184145, '9976766'), (9184145, '10020775'), (9184145, '746719'), (9184145, '9974058'), (9184145, '9984257'), (9184145, '9985166'), (9184145, '10025717'), (9184145, '10020976'), (9184145, '1231774'), (9184145, '1231773'), (9184145, '834542'), (9184145, '833840'), (9184145, '820495'), (9184145, '820646'), (9184145, '820285'), (9184145, '835225'), (9184145, '9726228'), (9184145, '9613852'), (9184145, '9145640'), (9184145, '9617445'), (9184145, '9616919'), (9184145, '9022843'), (9184145, '9213190'), (9184145, '9074240'), (9184145, '8961954'), (9184145, '10036614'), (9184145, '9475409'), (9184145, '9326736'), (9184145, '9245159'), (9184145, '9616536'), (9184145, '10059028'), (9184145, '9614207'), (9184145, '9456470'), (9184145, '10693668'), (9184145, '9656425'), (9184145, '9478785'), (9184145, '9383855'), (9184145, '8957368'), (9184145, '1298503'), (9184145, '9052986'), (9184145, '1443826'), (9184145, '9709849'), (9184145, '10017972'), (9184145, '9616616'), (9184145, '10000563'), (9184145, '9982632'), (9184145, '10030758'), (9184145, '10018037'), (9184145, '10040484'), (9184145, '10040343'), (9184145, '9616519'), (9184145, '10005871'), (9184145, '10063105'), (9184145, '10062904'), (9184145, '9614738'), (9184145, '9614772'), (9184145, '9980799'), (9184145, '9256907'), (9184145, '693194'), (9184145, '9022517'), (9184145, '10027160'), (9184145, '10019182'), (9184145, '9785994'), (9184145, '9981391'), (9184145, '9968555'), (9184145, '10266687'), (9184145, '9093117'), (9184145, '4762123'), (9184145, '5789604'), (9184145, '7895192'), (9184145, '1677010'), (9184145, '1052281'), (9184145, '5770142'), (9184145, '7681894'), (9184145, '953042'), (9184145, '9617437'), (9184145, '9938276'), (9184145, '9988014'), (9184145, '9993387'), (9184145, '9756045'), (9184145, '9981087'), (9184145, '9983204'), (9184145, '9785124'), (9184145, '10087349'), (9184145, '9171054'), (9184145, '9659256'), (9184145, '9710359'), (9184145, '9745004'), (9184145, '9765771'), (9184145, '10042394'), (9184145, '9794556'), (9184145, '9818570'), (9184145, '9631757'), (9184145, '5656262'), (9184145, '10062980'), (9184145, '9800427'), (9184145, '10088472'), (9184145, '9021695'), (9184145, '5015673'), (9184145, '5862784'), (9184145, '5817952'), (9184145, '5812745'), (9184145, '9012327'), (9184145, '1230889'), (9184145, '9617380'), (9184145, '9710060'), (9184145, '10795006'), (9184145, '10001453'), (9184145, '9742093'), (9184145, '9771929'), (9184145, '829929'), (9184145, '826801'), (9184145, '835536'), (9184145, '823673'), (9184145, '9813131'), (9184145, '831253'), (9184145, '828125'), (9184145, '835031'), (9184145, '815439'), (9184145, '811959'), (9184145, '813295'), (9184145, '824467'), (9184145, '9058379'), (9184145, '9279682'), (9184145, '9616234'), (9184145, '9631852'), (9184145, '9631854'), (9184145, '5687339'), (9184145, '9614719'), (9184145, '9279829'), (9184145, '10074536'), (9184145, '10067619'), (9184145, '9325961'), (9184145, '9615161'), (9184145, '9616384'), (9184145, '9090757'), (9184145, '9616265'), (9184145, '9616381'), (9184145, '2056215'), (9184145, '9614168'), (9184145, '10369299'), (9184145, '9986500'), (9184145, '1131881'), (9184145, '9280764'), (9184145, '10742391'), (9184145, '821350'), (9184145, '820604'), (9184145, '819870'), (9184145, '818034'), (9184145, '1081113'), (9184145, '8932156'), (9184145, '1133110'), (9184145, '9614927'), (9184145, '5547463'), (9184145, '9709836'), (9184145, '9709837'), (9184145, '9658147'), (9184145, '9617700'), (9184145, '9007490'), (9184145, '4721723'), (9184145, '7757597'), (9184145, '4826963'), (9184145, '10046617'), (9184145, '9996039'), (9184145, '839589'), (9184145, '1379704'), (9184145, '1080933'), (9184145, '9990918'), (9184145, '10000745'), (9184145, '9736368'), (9184145, '1371019'), (9184145, '10055775'), (9184145, '10078344'), (9184145, '5658457'), (9184145, '819925'), (9184145, '820659'), (9184145, '821405'), (9184145, '818089'), (9184145, '5830654'), (9184145, '10429336'), (9184145, '10672720'), (9184145, '9074300'), (9184145, '9457896'), (9184145, '9616504'), (9184145, '5043103'), (9184145, '9761458'), (9184145, '1185085'), (9184145, '5869436'), (9184145, '9614926'), (9184145, '9296683'), (9184145, '5071967'), (9184145, '5844239'), (9184145, '9769804'), (9184145, '9774574'), (9184145, '1432618'), (9184145, '9728103'), (9184145, '10020720'), (9184145, '9768865'), (9184145, '10066525'), (9184145, '10047545'), (9184145, '1208373'), (9184145, '9800329'), (9184145, '9732787'), (9184145, '10057715'), (9184145, '9184501'), (9184145, '9038144'), (9184145, '9810078'), (9184145, '8214484'), (9184145, '9993667'), (9184145, '5834584'), (9184145, '7691129'), (9184145, '5763362'), (9184145, '9695475'), (9184145, '9709843'), (9184145, '9614021'), (9184145, '9427240'), (9184145, '9989247'), (9184145, '10029752'), (9184145, '9616415'), (9184145, '9978227'), (9184145, '9008000'), (9184145, '9280473'), (9184145, '9617364'), (9184145, '5225576'), (9184145, '9279685'), (9184145, '9616530'), (9184145, '8944771'), (9184145, '10021611'), (9184145, '817674'), (9184145, '816234'), (9184145, '817194'), (9184145, '816714'), (9184145, '9616128'), (9184145, '817583'), (9184145, '816143'), (9184145, '817103'), (9184145, '816623'), (9184145, '10084477'), (9184145, '10042099'), (9184145, '10087699'), (9184145, '10394738'), (9184145, '9082782'), (9184145, '10035654'), (9184145, '10031949'), (9184145, '9974352'), (9184145, '4975430'), (9184145, '323906'), (9184145, '2056091'), (9184145, '5225152'), (9184145, '9614880'), (9184145, '9614792'), (9184145, '9631768'), (9184145, '5043105'), (9184145, '5043089'), (9184145, '1358503'), (9184145, '1132111'), (9184145, '1131920'), (9184145, '9614487'), (9184145, '9616818'), (9184145, '9279700'), (9184145, '9617283'), (9184145, '9617080'), (9184145, '9616108'), (9184145, '9615989'), (9184145, '10059283'), (9184145, '10010729'), (9184145, '10802322'), (9184145, '10755474'), (9184145, '4811263'), (9184145, '5055285'), (9184145, '9745497'), (9184145, '9813828'), (9184145, '9768269'), (9184145, '5768029'), (9184145, '1701637'), (9184145, '9506892'), (9184145, '9617041'), (9184145, '9709766'), (9184145, '5043225'), (9184145, '9210152'), (9184145, '9506819'), (9184145, '9993738'), (9184145, '10003902'), (9184145, '9994608'), (9184145, '5803330'), (9184145, '9605574'), (9184145, '9211259'), (9184145, '5575714'), (9184145, '10058920'), (9184145, '9091286'), (9184145, '10021648'), (9184145, '1276556'), (9184145, '9163394'), (9184145, '8919020'), (9184145, '1357776'), (9184145, '8982260'), (9184145, '9605441'), (9184145, '9200569'), (9184145, '1370772'), (9184145, '9402273'), (9184145, '9468510'), (9184145, '10241846'), (9184145, '9656716'), (9184145, '5651448'), (9184145, '5624079'), (9184145, '9527520'), (9184145, '1424809'), (9184145, '5812595'), (9184145, '9746159'), (9184145, '10273022'), (9184145, '9767967'), (9184145, '10712676'), (9184145, '9973923'), (9184145, '10072497'), (9184145, '9800635'), (9184145, '10081257'), (9184145, '9054761'), (9184145, '9658042'), (9184145, '1043587'), (9184145, '10046801'), (9184145, '9761232'), (9184145, '10052640'), (9184145, '9990761'), (9184145, '9728094'), (9184145, '9699691'), (9184145, '10017803'), (9184145, '10018250'), (9184145, '10044895'), (9184145, '10212601'), (9184145, '9614437'), (9184145, '5788827'), (9184145, '5210683'), (9184145, '9073787'), (9184145, '9617559'), (9184145, '9831400'), (9184145, '9616696'), (9184145, '9616671'), (9184145, '9616660'), (9184145, '9615941'), (9184145, '9614693'), (9184145, '5225142'), (9184145, '9696380'), (9184145, '9475380'), (9184145, '9613871'), (9184145, '5226721'), (9184145, '10252355'), (9184145, '9536657'), (9184145, '5894245'), (9184145, '7848126'), (9184145, '5679681'), (9184145, '9985310'), (9184145, '5011135'), (9184145, '1769898'), (9184145, '9260246'), (9184145, '9723659'), (9184145, '10723096'), (9184145, '9670415'), (9184145, '9491164'), (9184145, '9486039'), (9184145, '9618403'), (9184145, '9740816'), (9184145, '9878990'), (9184145, '9946054'), (9184145, '9617581'), (9184145, '9475404'), (9184145, '9245158'), (9184145, '9745355'), (9184145, '10021558'), (9184145, '7757483'), (9184145, '10067805'), (9184145, '9616295'), (9184145, '9616391'), (9184145, '9996037'), (9184145, '823270'), (9184145, '9617456'), (9184145, '9617343'), (9184145, '9506870'), (9184145, '9617131'), (9184145, '9210150'), (9184145, '5612465'), (9184145, '7839411'), (9184145, '835542'), (9184145, '829935'), (9184145, '826807'), (9184145, '823679'), (9184145, '9244682'), (9184145, '5225227'), (9184145, '9710054'), (9184145, '9710058'), (9184145, '4721767'), (9184145, '9614688'), (9184145, '5225225'), (9184145, '1081024'), (9184145, '4721462'), (9184145, '5687800'), (9184145, '8961933'), (9184145, '1132051'), (9184145, '10004740'), (9184145, '9200655'), (9184145, '9213212'), (9184145, '9616299'), (9184145, '5636997'), (9184145, '5043132'), (9184145, '1195706'), (9184145, '1146347'), (9184145, '9614381'), (9184145, '9614353'), (9184145, '9279833'), (9184145, '4721465'), (9184145, '9506818'), (9184145, '10003461'), (9184145, '9148130'), (9184145, '1131907'), (9184145, '1715454'), (9184145, '10524123'), (9184145, '9991326'), (9184145, '10080829'), (9184145, '1044702'), (9184145, '580072'), (9184145, '10373548'), (9184145, '9665580'), (9184145, '1682854'), (9184145, '7874761'), (9184145, '1101891'), (9184145, '9488145'), (9184145, '9038713'), (9184145, '9616920'), (9184145, '9506849'), (9184145, '9390567'), (9184145, '9407352'), (9184145, '10021360'), (9184145, '9616928'), (9184145, '10029475'), (9184145, '9014310'), (9184145, '1230491'), (9184145, '1229311'), (9184145, '1101910'), (9184145, '5874774'), (9184145, '5713655'), (9184145, '1132736'), (9184145, '1397361'), (9184145, '9631728'), (9184145, '1233701'), (9184145, '9630295'), (9184145, '2056093'), (9184145, '9631709'), (9184145, '5580645'), (9184145, '1131969'), (9184145, '8944786'), (9184145, '9679106'), (9184145, '9729003'), (9184145, '9158856'), (9184145, '9012280'), (9184145, '5800102'), (9184145, '5801833'), (9184145, '10055727'), (9184145, '9750681'), (9184145, '10349087'), (9184145, '9811632'), (9184145, '8160012'), (9184145, '10172022'), (9184145, '10700391'), (9184145, '10701650'), (9184145, '10800621'), (9184145, '10784279'), (9184145, '7735451'), (9184145, '5859513'), (9184145, '5012778'), (9184145, '9617104'), (9184145, '10396069'), (9184145, '10551718'), (9184145, '9681565'), (9184145, '9679112'), (9184145, '9616223'), (9184145, '1370655'), (9184145, '9614646'), (9184145, '9614565'), (9184145, '4761490'), (9184145, '1370656'), (9184145, '5687397'), (9184145, '10742383'), (9184145, '10769577'), (9184145, '9732418'), (9184145, '10025153'), (9184145, '9614384'), (9184145, '5798590'), (9184145, '9326733'), (9184145, '9726269'), (9184145, '9475326'), (9184145, '9617151'), (9184145, '9616805'), (9184145, '9725962'), (9184145, '9022841'), (9184145, '5651557'), (9184145, '5637143'), (9184145, '9616674'), (9184145, '9616291'), (9184145, '9616262'), (9184145, '9616263'), (9184145, '9616292'), (9184145, '9616264'), (9184145, '9616382'), (9184145, '9616386'), (9184145, '7757503'), (9184145, '1371609'), (9184145, '9659590'), (9184145, '9350478'), (9184145, '10024838'), (9184145, '9245162'), (9184145, '9230543'), (9184145, '9038613'), (9184145, '9023531'), (9184145, '9023558'), (9184145, '10784226'), (9184145, '5687427'), (9184145, '5687421'), (9184145, '5687416'), (9184145, '5687426'), (9184145, '9023358'), (9184145, '9604188'), (9184145, '9999430'), (9184145, '9617705'), (9184145, '9617562'), (9184145, '9617549'), (9184145, '10057344'), (9184145, '5043107'), (9184145, '9747920'), (9184145, '9991776'), (9184145, '10033557'), (9184145, '10020466'), (9184145, '9657974'), (9184145, '9525373'), (9184145, '9007207'), (9184145, '9631875'), (9184145, '9073990'), (9184145, '1397364'), (9184145, '825007'), (9184145, '828665'), (9184145, '834271'), (9184145, '831793'), (9184145, '9440763'), (9184145, '9616353'), (9184145, '10027492'), (9184145, '9296178'), (9184145, '4975454'), (9184145, '9280009'), (9184145, '9279974'), (9184145, '9525038'), (9184145, '9614943'), (9184145, '9614779'), (9184145, '9279733'), (9184145, '9279702'), (9184145, '817655'), (9184145, '817175'), (9184145, '816215'), (9184145, '816695'), (9184145, '10011145'), (9184145, '9023526'), (9184145, '5687587'), (9184145, '1339701'), (9184145, '4975441'), (9184145, '4975426'), (9184145, '9410671'), (9184145, '1339417'), (9184145, '1131872'), (9184145, '2056100'), (9184145, '1397345'), (9184145, '10712662'), (9184145, '10712665'), (9184145, '9658006'), (9184145, '9525382'), (9184145, '9440765'), (9184145, '9440767'), (9184145, '693279'), (9184145, '9244681'), (9184145, '9985367'), (9184145, '9998081'), (9184145, '325022'), (9184145, '10045664'), (9184145, '9614577'), (9184145, '9813130'), (9184145, '9682160'), (9184145, '10714333'), (9184145, '10714306'), (9184145, '10714274'), (9184145, '7675122'), (9184145, '813716'), (9184145, '814557'), (9184145, '812553'), (9184145, '813101'), (9184145, '9755012'), (9184145, '9614194'), (9184145, '9328485'), (9184145, '8932292'), (9184145, '9731541'), (9184145, '10079917'), (9184145, '9279690'), (9184145, '9022834'), (9184145, '9755259'), (9184145, '9742708'), (9184145, '10019261'), (9184145, '9781722'), (9184145, '9759904'), (9184145, '1263299'), (9184145, '1035214'), (9184145, '5225154'), (9184145, '1326656'), (9184145, '9492489'), (9184145, '9996290'), (9184145, '9014321'), (9184145, '10067953'), (9184145, '9959748'), (9184145, '10118556'), (9184145, '10047357'), (9184145, '9884885'), (9184145, '9989799'), (9184145, '9980190'), (9184145, '10015685'), (9184145, '10043308'), (9184145, '10059929'), (9184145, '10048349'), (9184145, '10062056'), (9184145, '10289125'), (9184145, '9797102'), (9184145, '10084624'), (9184145, '10047831'), (9184145, '9750699'), (9184145, '9743342'), (9184145, '10709362'), (9184145, '9981771'), (9184145, '10000099'), (9184145, '10007706'), (9184145, '10009681'), (9184145, '10010200'), (9184145, '10203361'), (9184145, '9388503'), (9184145, '9388640'), (9184145, '10248720'), (9184145, '9072172'), (9184145, '9258078'), (9184145, '9615064'), (9184145, '4811771'), (9184145, '9020961'), (9184145, '5678256'), (9184145, '835127'), (9184145, '828221'), (9184145, '9279684'), (9184145, '5687344'), (9184145, '1080728'), (9184145, '828371'), (9184145, '824713'), (9184145, '833977'), (9184145, '831499'), (9184145, '8959582'), (9184145, '8738128'), (9184145, '1174188'), (9184145, '9244958'), (9184145, '9213242'), (9184145, '9617090'), (9184145, '9185576'), (9184145, '9213351'), (9184145, '9213213'), (9184145, '10712306'), (9184145, '9023540'), (9184145, '9023435'), (9184145, '9023437'), (9184145, '9279683'), (9184145, '9279664'), (9184145, '9680834'), (9184145, '9616796'), (9184145, '9616434'), (9184145, '8944758'), (9184145, '10712663'), (9184145, '1339410'), (9184145, '9631881'), (9184145, '9656633'), (9184145, '8974310'), (9184145, '9616754'), (9184145, '9616478'), (9184145, '9616667'), (9184145, '4761479'), (9184145, '8991221'), (9184145, '9615123'), (9184145, '9614892'), (9184145, '9614906'), (9184145, '9212317'), (9184145, '5636618'), (9184145, '9614717'), (9184145, '9614329'), (9184145, '9212298'), (9184145, '9787534'), (9184145, '815968'), (9184145, '817408'), (9184145, '816928'), (9184145, '816448'), (9184145, '9775525'), (9184145, '10071231'), (9184145, '10060533'), (9184145, '10073515'), (9184145, '10328444'), (9184145, '1254778'), (9184145, '9783898'), (9184145, '10081746'), (9184145, '10089561'), (9184145, '7828516'), (9184145, '815876'), (9184145, '817410'), (9184145, '10024684'), (9184145, '9279952'), (9184145, '9631762'), (9184145, '9073985'), (9184145, '1339418'), (9184145, '1131971'), (9184145, '814080'), (9184145, '834648'), (9184145, '813412'), (9184145, '812076'), (9184145, '812744'), (9184145, '827742'), (9184145, '830870'), (9184145, '824084'), (9184145, '10021359'), (9184145, '833140'), (9184145, '9990298'), (9184145, '10057011'), (9184145, '827533'), (9184145, '830661'), (9184145, '826354'), (9184145, '4975457'), (9184145, '9410583'), (9184145, '9410582'), (9184145, '9680849'), (9184145, '8945306'), (9184145, '9410646'), (9184145, '8944789'), (9184145, '5831258'), (9184145, '1371182'), (9184145, '9775320'), (9184145, '9802623'), (9184145, '9794424'), (9184145, '5786362'), (9184145, '9696352'), (9184145, '9632538'), (9184145, '9525047'), (9184145, '7367103'), (9184145, '5687400'), (9184145, '9783992'), (9184145, '5883178'), (9184145, '9805010'), (9184145, '9336524'), (9184145, '9512956'), (9184145, '9655496'), (9184145, '9336780'), (9184145, '9589479'), (9184145, '8939654'), (9184145, '5016206'), (9184145, '818436'), (9184145, '820272'), (9184145, '821752'), (9184145, '821006'), (9184145, '9696359'), (9184145, '5778240'), (9184145, '1268657'), (9184145, '793431'), (9184145, '9074385'), (9184145, '9617363'), (9184145, '9615048'), (9184145, '1021490'), (9184145, '9696353'), (9184145, '5757363'), (9184145, '9729382'), (9184145, '9615030'), (9184145, '835034'), (9184145, '831256'), (9184145, '834588'), (9184145, '827682'), (9184145, '828128'), (9184145, '824470'), (9184145, '812718'), (9184145, '9338453'), (9184145, '9496381'), (9184145, '5870426'), (9184145, '10809796'), (9184145, '9726315'), (9184145, '9449902'), (9184145, '9349659'), (9184145, '9887947'), (9184145, '9738212'), (9184145, '9799324'), (9184145, '9811420'), (9184145, '9224726'), (9184145, '4770175'), (9184145, '5867761'), (9184145, '10714288'), (9184145, '10742469'), (9184145, '9630547'), (9184145, '9616303'), (9184145, '9212310'), (9184145, '5622891'), (9184145, '5678353'), (9184145, '9614399'), (9184145, '1371167'), (9184145, '821166'), (9184145, '817850'), (9184145, '833323'), (9184145, '832707'), (9184145, '835377'), (9184145, '819397'), (9184145, '820527'), (9184145, '814316'), (9184145, '9757774'), (9184145, '9948535'), (9184145, '10259226'), (9184145, '7818539'), (9184145, '9709803'), (9184145, '10712698'), (9184145, '9617706'), (9184145, '9616934'), (9184145, '8974314'), (9184145, '8937662'), (9184145, '7839517'), (9184145, '8151061'), (9184145, '9754895'), (9184145, '9696435'), (9184145, '9615056'), (9184145, '9185468'), (9184145, '9210154'), (9184145, '5657068'), (9184145, '9280049'), (9184145, '9615051'), (9184145, '9614722'), (9184145, '9230545'), (9184145, '1371136'), (9184145, '817236'), (9184145, '833910'), (9184145, '833911'), (9184145, '835093'), (9184145, '9525161'), (9184145, '9427352'), (9184145, '8944681'), (9184145, '9279663'), (9184145, '9279680'), (9184145, '1230523'), (9184145, '9022618'), (9184145, '9616645'), (9184145, '8944764'), (9184145, '8944774'), (9184145, '9616538'), (9184145, '9616446'), (9184145, '9616710'), (9184145, '9616456'), (9184145, '7757900'), (9184145, '9616091'), (9184145, '9616144'), (9184145, '8944699'), (9184145, '9616236'), (9184145, '9616195'), (9184145, '9616374'), (9184145, '10742382'), (9184145, '9617637'), (9184145, '9280010'), (9184145, '9280047'), (9184145, '9457679'), (9184145, '9090754'), (9184145, '9808140'), (9184145, '9195199'), (9184145, '9007132'), (9184145, '833066'), (9184145, '834463'), (9184145, '9073973'), (9184145, '1358494'), (9184145, '9616427'), (9184145, '9617321'), (9184145, '9613997'), (9184145, '9616621'), (9184145, '9615047'), (9184145, '9616198'), (9184145, '9614434'), (9184145, '8952547'), (9184145, '277653'), (9184145, '9071146'), (9184145, '815484'), (9184145, '815677'), (9184145, '812909'), (9184145, '9349653'), (9184145, '9614375'), (9184145, '9326707'), (9184145, '9023450'), (9184145, '9630635'), (9184145, '8169452'), (9184145, '9782844'), (9184145, '5806260'), (9184145, '9800173'), (9184145, '9615106'), (9184145, '9614723'), (9184145, '1128215'), (9184145, '1128210'), (9184145, '1128208'), (9184145, '1128200'), (9184145, '1128205'), (9184145, '10591642'), (9184145, '9419822'), (9184145, '9617060'), (9184145, '9895293'), (9184145, '9616571'), (9184145, '10611539'), (9184145, '9457676'), (9184145, '9090753'), (9184145, '5225143'), (9184145, '1183486'), (9184145, '813650'), (9184145, '9228188'), (9184145, '9228187'), (9184145, '9055845'), (9184145, '1230898'), (9184145, '1264961'), (9184145, '1264960'), (9184145, '1229642'), (9184145, '1700209'), (9184145, '10712658'), (9184145, '9617632'), (9184145, '9397923'), (9184145, '5637128'), (9184145, '8961936'), (9184145, '8987522'), (9184145, '6768671'), (9184145, '9078306'), (9184145, '9076126'), (9184145, '9073285'), (9184145, '9006833'), (9184145, '9009649'), (9184145, '9137484'), (9184145, '8965194'), (9184145, '9064242'), (9184145, '9049049'), (9184145, '9616109'), (9184145, '9489790'), (9184145, '9954329'), (9184145, '10026387'), (9184145, '9749866'), (9184145, '9750085'), (9184145, '9737385'), (9184145, '9734208'), (9184145, '9827234'), (9184145, '5687317'), (9184145, '4975056'), (9184145, '5880713'), (9184145, '5833700'), (9184145, '9106647'), (9184145, '9796784'), (9184145, '9728426'), (9184145, '1121252'), (9184145, '5792725'), (9184145, '4776450'), (9184145, '5845740'), (9184145, '5858922'), (9184145, '5854763'), (9184145, '9781924'), (9184145, '10712661'), (9184145, '9488008'), (9184145, '10733428'), (9184145, '10732583'), (9184145, '9749017'), (9184145, '5860092'), (9184145, '1439660'), (9184145, '11008544'), (9184145, '793306'), (9184145, '5774436'), (9184145, '9732564'), (9184145, '9732554'), (9184145, '9213042'), (9184145, '9770535'), (9184145, '9183646'), (9184145, '5862406'), (9184145, '833554'), (9184145, '833556'), (9184145, '832377'), (9184145, '9617024'), (9184145, '10798298'), (9184145, '9389206'), (9184145, '10694476'), (9184145, '9525452'), (9184145, '1326576'), (9184145, '9643278'), (9184145, '11008444'), (9184145, '9007509'), (9184145, '9743171'), (9184145, '9525391'), (9184145, '9213221'), (9184145, '9227860'), (9184145, '5647849'), (9184145, '9004900'), (9184145, '9188664'), (9184145, '1371232'), (9184145, '1043906'), (9184145, '617367'), (9184145, '1733667'), (9184145, '9882742'), (9184145, '9744027'), (9184145, '8935647'), (9184145, '9617523'), (9184145, '9649894'), (9184145, '9685948'), (9184145, '9257679'), (9184145, '9607979'), (9184145, '9763447'), (9184145, '9768889'), (9184145, '9031046'), (9184145, '9088414'), (9184145, '8985048'), (9184145, '9817380'), (9184145, '8950715'), (9184145, '5868729'), (9184145, '5854276'), (9184145, '827096'), (9184145, '1229526'), (9184145, '10741806'), (9184145, '9735821'), (9184145, '9671842'), (9184145, '9628273'), (9184145, '9773701'), (9184145, '7763584'), (9184145, '9823378'), (9184145, '833137'), (9184145, '827530'), (9184145, '954944'), (9184145, '5819896'), (9184145, '5066765'), (9184145, '5798120'), (9184145, '4721475'), (9184145, '5720238'), (9184145, '1203534'), (9184145, '5771091'), (9184145, '9696434'), (9184145, '9730074'), (9184145, '9515354'), (9184145, '10785323'), (9184145, '9801708'), (9184145, '8157769'), (9184145, '5870099'), (9184145, '9458047'), (9184145, '11008448'), (9184145, '10742405'), (9184145, '9681197'), (9184145, '9336390'), (9184145, '9347132'), (9184145, '5622869'), (9184145, '1246664'), (9184145, '9737302'), (9184145, '9726093'), (9184145, '5684455'), (9184145, '1371228'), (9184145, '833984'), (9184145, '5795303'), (9184145, '9617481'), (9184145, '9427236'), (9184145, '9617142'), (9184145, '5687622'), (9184145, '9680742'), (9184145, '9614913'), (9184145, '5687309'), (9184145, '937034'), (9184145, '818284'), (9184145, '821600'), (9184145, '820854'), (9184145, '820120'), (9184145, '9457984'), (9184145, '11008545'), (9184145, '11008537'), (9184145, '9616134'), (9184145, '9615141'), (9184145, '9022727'), (9184145, '5043113'), (9184145, '4975423'), (9184145, '2056199'), (9184145, '8944788'), (9184145, '313633'), (9184145, '11008638'), (9184145, '9427244'), (9184145, '9614354'), (9184145, '9744748'), (9184145, '5827103'), (9184145, '9189342'), (9184145, '9615067'), (9184145, '834821'), (9184145, '831043'), (9184145, '824257'), (9184145, '827915'), (9184145, '11008151'), (9184145, '8944671'), (9184145, '4956098'), (9184145, '833292'), (9184145, '834021'), (9184145, '828985'), (9184145, '828415'), (9184145, '4721443'), (9184145, '5278435'), (9184145, '248915'), (9184145, '1397350'), (9184145, '5580635'), (9184145, '1397337'), (9184145, '1131889'), (9184145, '11008481'), (9184145, '9506481'), (9184145, '9388506'), (9184145, '9680856'), (9184145, '9279940'), (9184145, '9614213'), (9184145, '803181'), (9184145, '9617526'), (9184145, '9617511'), (9184145, '10741838'), (9184145, '9680972'), (9184145, '9388499'), (9184145, '9614481'), (9184145, '9616435'), (9184145, '9615981'), (9184145, '9616975'), (9184145, '9614844'), (9184145, '9326772'), (9184145, '9008001'), (9184145, '9007999'), (9184145, '9145604'), (9184145, '10742404'), (9184145, '10742369'), (9184145, '10712552'), (9184145, '9614494'), (9184145, '9617194'), (9184145, '9616828'), (9184145, '9616827'), (9184145, '9614831'), (9184145, '7757589'), (9184145, '2056097'), (9184145, '10712580'), (9184145, '9818023'), (9184145, '9819440'), (9184145, '5861056'), (9184145, '9616925'), (9184145, '9757713'), (9184145, '9503539'), (9184145, '9247121'), (9184145, '9789229'), (9184145, '9783082'), (9184145, '9279785'), (9184145, '9231949'), (9184145, '8952506'), (9184145, '9233918'), (9184145, '8945353'), (9184145, '10792709'), (9184145, '9805882'), (9184145, '9695044'), (9184145, '9713961'), (9184145, '9681187'), (9184145, '11008546'), (9184145, '827100'), (9184145, '812980'), (9184145, '812622'), (9184145, '813958'), (9184145, '819011'), (9184145, '833216'), (9184145, '832037'), (9184145, '828909'), (9184145, '825251'), (9184145, '1339711'), (9184145, '4721403'), (9184145, '9080904'), (9184145, '8931816'), (9184145, '7078187'), (9184145, '4721456'), (9184145, '826988'), (9184145, '5725869'), (9184145, '11008535'), (9184145, '11008457'), (9184145, '9614006'), (9184145, '9774710'), (9184145, '5043221'), (9184145, '9617515'), (9184145, '5678907'), (9184145, '9410641'), (9184145, '8944798'), (9184145, '9680764'), (9184145, '9680769'), (9184145, '9680781'), (9184145, '9680759'), (9184145, '9680767'), (9184145, '9680768'), (9184145, '9680783'), (9184145, '9680786'), (9184145, '5612501'), (9184145, '5612495'), (9184145, '5043100'), (9184145, '9614419'), (9184145, '722951'), (9184145, '5759811'), (9184145, '9605512'), (9184145, '9281403'), (9184145, '9616078'), (9184145, '9435405'), (9184145, '7603683'), (9184145, '823746'), (9184145, '835609'), (9184145, '830002'), (9184145, '826874'), (9184145, '9117794'), (9184145, '5808362'), (9184145, '1441091'), (9184145, '10009023'), (9184145, '9728115'), (9184145, '9749581'), (9184145, '9819198'), (9184145, '9666237'), (9184145, '7875419'), (9184145, '9631870'), (9184145, '5043092'), (9184145, '1339709'), (9184145, '9631851'), (9184145, '1131973'), (9184145, '9680815'), (9184145, '9337188'), (9184145, '9440430'), (9184145, '9344687'), (9184145, '8991295'), (9184145, '1280718'), (9184145, '9458675'), (9184145, '9350451'), (9184145, '9280801'), (9184145, '9251817'), (9184145, '9336861'), (9184145, '9410642'), (9184145, '1397358'), (9184145, '9610880'), (9184145, '9617066'), (9184145, '9339744'), (9184145, '9071143'), (9184145, '8970044'), (9184145, '8970639'), (9184145, '9616719'), (9184145, '9616502'), (9184145, '9616328'), (9184145, '9616433'), (9184145, '9616141'), (9184145, '9615127'), (9184145, '9709696'), (9184145, '9614548'), (9184145, '832164'), (9184145, '816075'), (9184145, '813537'), (9184145, '825378'), (9184145, '817035'), (9184145, '812201'), (9184145, '10691752'), (9184145, '9770194'), (9184145, '9614005'), (9184145, '9614382'), (9184145, '5807588'), (9184145, '9787040'), (9184145, '833304'), (9184145, '5849889'), (9184145, '5801229'), (9184145, '9475378'), (9184145, '9616354'), (9184145, '5043108'), (9184145, '9743277'), (9184145, '9446386'), (9184145, '10297534'), (9184145, '9820624'), (9184145, '11008538'), (9184145, '9427246'), (9184145, '9617100'), (9184145, '9617105'), (9184145, '7757551'), (9184145, '9615050'), (9184145, '9696428'), (9184145, '8932329'), (9184145, '1358749'), (9184145, '8931826'), (9184145, '9614669'), (9184145, '9475345'), (9184145, '9091508'), (9184145, '10725321'), (9184145, '9488674'), (9184145, '9616210'), (9184145, '4770190'), (9184145, '7078203'), (9184145, '831530'), (9184145, '831531'), (9184145, '9680854'), (9184145, '9364060'), (9184145, '9245143'), (9184145, '9326021'), (9184145, '9679062'), (9184145, '9679108'), (9184145, '9007356'), (9184145, '9138011'), (9184145, '7754745'), (9184145, '1323879'), (9184145, '9802504'), (9184145, '9292302'), (9184145, '9275062'), (9184145, '10445351'), (9184145, '5861808'), (9184145, '9468117'), (9184145, '9148696'), (9184145, '9815170'), (9184145, '9816851'), (9184145, '4792703'), (9184145, '5848753'), (9184145, '9738590'), (9184145, '10692314'), (9184145, '9754341'), (9184145, '9073969'), (9184145, '833707'), (9184145, '829400'), (9184145, '812637'), (9184145, '815275'), (9184145, '813973'), (9184145, '5794432'), (9184145, '5739621'), (9184145, '1077278'), (9184145, '692988'), (9184145, '7757448'), (9184145, '9410652'), (9184145, '8741115'), (9184145, '9787726'), (9184145, '831693'), (9184145, '823194'), (9184145, '9780517'), (9184145, '9280743'), (9184145, '9737546'), (9184145, '9750072'), (9184145, '9949205'), (9184145, '9357133'), (9184145, '9350337'), (9184145, '8945365'), (9184145, '10742495'), (9184145, '10712694'), (9184145, '10712685'), (9184145, '9734182'), (9184145, '9326019'), (9184145, '9007498'), (9184145, '9616146'), (9184145, '9617582'), (9184145, '9227858'), (9184145, '9374439'), (9184145, '9328491'), (9184145, '9254760'), (9184145, '9181595'), (9184145, '9488033'), (9184145, '9445839'), (9184145, '9374440'), (9184145, '9304874'), (9184145, '9616495'), (9184145, '9616104'), (9184145, '8973991'), (9184145, '9680852'), (9184145, '9007360'), (9184145, '9007282'), (9184145, '9279678'), (9184145, '9616666'), (9184145, '9616676'), (9184145, '9616755'), (9184145, '10712294'), (9184145, '9616244'), (9184145, '9616355'), (9184145, '9739622'), (9184145, '10767582'), (9184145, '1522142'), (9184145, '9615114'), (9184145, '9615108'), (9184145, '5864737'), (9184145, '5766005'), (9184145, '1230501'), (9184145, '5739177'), (9184145, '1231131'), (9184145, '9440777'), (9184145, '1229781'), (9184145, '9797219'), (9184145, '5852038'), (9184145, '8985305'), (9184145, '9142244'), (9184145, '9681162'), (9184145, '9709736'), (9184145, '10714293'), (9184145, '9668185'), (9184145, '9240235'), (9184145, '9824238'), (9184145, '1045046'), (9184145, '1045191'), (9184145, '1339407'), (9184145, '10742494'), (9184145, '5789773'), (9184145, '9609629'), (9184145, '9739961'), (9184145, '9739314'), (9184145, '9741189'), (9184145, '9736094'), (9184145, '9733924'), (9184145, '9752304'), (9184145, '5042825'), (9184145, '9616510'), (9184145, '9184147'), (9184145, '9819014'), (9184145, '9815576'), (9184145, '9817124'), (9184145, '9816487'), (9184145, '8156143'), (9184145, '9709722'), (9184145, '9617362'), (9184145, '9617092'), (9184145, '9279907'), (9184145, '9279743'), (9184145, '9457672'), (9184145, '5637127'), (9184145, '9614427'), (9184145, '816587'), (9184145, '816107'), (9184145, '816500'), (9184145, '824905'), (9184145, '833998'), (9184145, '833037'), (9184145, '831691'), (9184145, '833997'), (9184145, '834169'), (9184145, '828563'), (9184145, '9506798'), (9184145, '9007349'), (9184145, '9007268'), (9184145, '1326580'), (9184145, '9488063'), (9184145, '9586297'), (9184145, '9747103'), (9184145, '9760368'), (9184145, '9681228'), (9184145, '9617613'), (9184145, '9185470'), (9184145, '9185573'), (9184145, '842460'), (9184145, '9755555'), (9184145, '9744943'), (9184145, '9007162'), (9184145, '9615160'), (9184145, '9788040'), (9184145, '9793623'), (9184145, '9784495'), (9184145, '8962565'), (9184145, '9748733'), (9184145, '9614931'), (9184145, '1232023'), (9184145, '8945404'), (9184145, '9055886'), (9184145, '9726191'), (9184145, '9525163'), (9184145, '5538200'), (9184145, '9787118'), (9184145, '5865250'), (9184145, '818528'), (9184145, '818638'), (9184145, '818736'), (9184145, '8991226'), (9184145, '9617638'), (9184145, '11017833'), (9184145, '9758974'), (9184145, '827079'), (9184145, '832686'), (9184145, '830207'), (9184145, '825900'), (9184145, '9058170'), (9184145, '826594'), (9184145, '829722'), (9184145, '823466'), (9184145, '835329'), (9184145, '9364062'), (9184145, '5758629'), (9184145, '9614791'), (9184145, '4721459'), (9184145, '9322634'), (9184145, '9319845'), (9184145, '5773541'), (9184145, '5765177'), (9184145, '9732365'), (9184145, '9809312'), (9184145, '9663208'), (9184145, '9663122'), (9184145, '9663113'), (9184145, '9614255'), (9184145, '10394933'), (9184145, '5848834'), (9184145, '827030'), (9184145, '827027'), (9184145, '833591'), (9184145, '835544'), (9184145, '835765'), (9184145, '5862119'), (9184145, '9632509'), (9184145, '9365654'), (9184145, '5687362'), (9184145, '1397355'), (9184145, '5225156'), (9184145, '823755'), (9184145, '835618'), (9184145, '830011'), (9184145, '834723'), (9184145, '1195554'), (9184145, '1263340'), (9184145, '11027896'), (9184145, '9657975'), (9184145, '9681264'), (9184145, '9710174'), (9184145, '9440797'), (9184145, '9613966'), (9184145, '9326024'), (9184145, '9617626'), (9184145, '9617522'), (9184145, '9614559'), (9184145, '10816311'), (9184145, '11027968'), (9184145, '10712692'), (9184145, '9280039'), (9184145, '9517193'), (9184145, '9280028'), (9184145, '9280040'), (9184145, '9769389'), (9184145, '9615155'), (9184145, '9614674'), (9184145, '9614818'), (9184145, '1015368'), (9184145, '7757454'), (9184145, '9279918'), (9184145, '9022776'), (9184145, '9279790'), (9184145, '8158519'), (9184145, '9809290'), (9184145, '5837458'), (9184145, '1230933'), (9184145, '272987'), (9184145, '9726125'), (9184145, '9617140'), (9184145, '9616060'), (9184145, '9023538'), (9184145, '9023445'), (9184145, '9023346'), (9184145, '1371174'), (9184145, '826883'), (9184145, '9280033'), (9184145, '9279986'), (9184145, '9614836'), (9184145, '4721468'), (9184145, '9923272'), (9184145, '9969095'), (9184145, '10723881'), (9184145, '9993801'), (9184145, '5871059'), (9184145, '1559502'), (9184145, '1700354'), (9184145, '9617509'), (9184145, '9617077'), (9184145, '8945351'), (9184145, '9616626'), (9184145, '9617555'), (9184145, '1132040'), (9184145, '9615126'), (9184145, '9614129'), (9184145, '1370917'), (9184145, '2056158'), (9184145, '2056201'), (9184145, '11027971'), (9184145, '9710203'), (9184145, '9644562'), (9184145, '9644558'), (9184145, '9709841'), (9184145, '9617547'), (9184145, '9617065'), (9184145, '9008076'), (9184145, '10280823'), (9184145, '9657995'), (9184145, '9726264'), (9184145, '9726260'), (9184145, '10717971'), (9184145, '10716937'), (9184145, '10812215'), (9184145, '9486109'), (9184145, '1231717'), (9184145, '11008536'), (9184145, '9614837'), (9184145, '831506'), (9184145, '812574'), (9184145, '824720'), (9184145, '813910'), (9184145, '834186'), (9184145, '9616112'), (9184145, '5988673'), (9184145, '826284'), (9184145, '1232053'), (9184145, '9617370'), (9184145, '5225158'), (9184145, '830483'), (9184145, '827355'), (9184145, '832962'), (9184145, '826176'), (9184145, '1043100'), (9184145, '9059202'), (9184145, '9093086'), (9184145, '9211317'), (9184145, '1358499'), (9184145, '5687585'), (9184145, '8962224'), (9184145, '10712292'), (9184145, '8961925'), (9184145, '10781449'), (9184145, '11029683'), (9184145, '9023539'), (9184145, '8942499'), (9184145, '8037491'), (9184145, '5576435'), (9184145, '823263'), (9184145, '823256'), (9184145, '815396'), (9184145, '1230190'), (9184145, '5781060'), (9184145, '1045423'), (9184145, '1045185'), (9184145, '1044986'), (9184145, '1077190'), (9184145, '5687402'), (9184145, '9749339'), (9184145, '1230987'), (9184145, '10712298'), (9184145, '1101844'), (9184145, '833749'), (9184145, '834346'), (9184145, '828740'), (9184145, '9652937'), (9184145, '5789699'), (9184145, '9036025'), (9184145, '9788285'), (9184145, '6556400'), (9184145, '10742375'), (9184145, '1230211'), (9184145, '1229490'), (9184145, '834188'), (9184145, '6829266'), (9184145, '1178180'), (9184145, '9279878'), (9184145, '8155074'), (9184145, '5867024'), (9184145, '832053'), (9184145, '826944'), (9184145, '824458'), (9184145, '823816'), (9184145, '832872'), (9184145, '835679'), (9184145, '831244'), (9184145, '830393'), (9184145, '830072'), (9184145, '829632'), (9184145, '827265'), (9184145, '823376'), (9184145, '825267'), (9184145, '826086'), (9184145, '9614142'), (9184145, '9616497'), (9184145, '9183993'), (9184145, '9615028'), (9184145, '9614917'), (9184145, '5241796'), (9184145, '9613961'), (9184145, '9427286'), (9184145, '11027881'), (9184145, '11026009'), (9184145, '9325946'), (9184145, '9617528'), (9184145, '9658039'), (9184145, '9726126'), (9184145, '9615065'), (9184145, '10669445'), (9184145, '5843498'), (9184145, '10706138'), (9184145, '11008578'), (9184145, '9506746'), (9184145, '9458046'), (9184145, '9616426'), (9184145, '9617109'), (9184145, '1101835'), (9184145, '9613877'), (9184145, '824553'), (9184145, '824554'), (9184145, '835116'), (9184145, '831338'), (9184145, '831339'), (9184145, '831340'), (9184145, '835117'), (9184145, '828211'), (9184145, '828210'), (9184145, '828212'), (9184145, '813501'), (9184145, '813500'), (9184145, '812833'), (9184145, '812832'), (9184145, '824552'), (9184145, '814169'), (9184145, '814168'), (9184145, '812164'), (9184145, '5584272'), (9184145, '9733294'), (9184145, '5584317'), (9184145, '5584312'), (9184145, '9613889'), (9184145, '10742410'), (9184145, '11029750'), (9184145, '9525142'), (9184145, '9432066'), (9184145, '9664538'), (9184145, '9145656'), (9184145, '7873714'), (9184145, '9664655'), (9184145, '7873831'), (9184145, '8974296'), (9184145, '5678779'), (9184145, '11008579'), (9184145, '9658080'), (9184145, '9008003'), (9184145, '9008004'), (9184145, '10742418'), (9184145, '10742414'), (9184145, '9312035'), (9184145, '9280422'), (9184145, '8945364'), (9184145, '9616570'), (9184145, '9616211'), (9184145, '7605217'), (9184145, '1371177'), (9184145, '9615176'), (9184145, '9615077'), (9184145, '5637019'), (9184145, '10712567'), (9184145, '11026026'), (9184145, '9440758'), (9184145, '9631853'), (9184145, '9366562'), (9184145, '10795454'), (9184145, '9388613'), (9184145, '9617609'), (9184145, '5557225'), (9184145, '9789520'), (9184145, '10637564'), (9184145, '10267749'), (9184145, '9760094'), (9184145, '9242153'), (9184145, '10673650'), (9184145, '5885011'), (9184145, '7602929'), (9184145, '5814260'), (9184145, '4790591'), (9184145, '11008179'), (9184145, '9403059'), (9184145, '11018184'), (9184145, '9238453'), (9184145, '8991522'), (9184145, '9378732'), (9184145, '9007363'), (9184145, '9348351'), (9184145, '9774086'), (9184145, '835668'), (9184145, '10482608'), (9184145, '9362980'), (9184145, '7778391'), (9184145, '5880137'), (9184145, '4815292'), (9184145, '5878563'), (9184145, '5807621'), (9184145, '6603131'), (9184145, '9616333'), (9184145, '11025951'), (9184145, '9617686'), (9184145, '9190467'), (9184145, '9616449'), (9184145, '11027969'), (9184145, '820397'), (9184145, '4955990'), (9184145, '9680765'), (9184145, '1397347'), (9184145, '5783446'), (9184145, '5783406'), (9184145, '1180769'), (9184145, '1180152'), (9184145, '9680803'), (9184145, '2056267'), (9184145, '9630301'), (9184145, '9631880'), (9184145, '9410653'), (9184145, '2056272'), (9184145, '1397363'), (9184145, '9617025'), (9184145, '9681270'), (9184145, '11026010'), (9184145, '9350377'), (9184145, '9673434'), (9184145, '7078192'), (9184145, '1230669'), (9184145, '9279847'), (9184145, '9617617'), (9184145, '9696314'), (9184145, '830561'), (9184145, '9681486'), (9184145, '832353'), (9184145, '9280023'), (9184145, '9279922'), (9184145, '833532'), (9184145, '9664697'), (9184145, '9279852'), (9184145, '7873874'), (9184145, '834495'), (9184145, '834496'), (9184145, '828889'), (9184145, '828890'), (9184145, '813052'), (9184145, '814388'), (9184145, '9692845'), (9184145, '8738121'), (9184145, '11025892'), (9184145, '9619006'), (9184145, '9616892'), (9184145, '9186840'), (9184145, '9665783'), (9184145, '11052275'), (9184145, '10535058'), (9184145, '9254758'), (9184145, '7874965'), (9184145, '9616883'), (9184145, '11029757'), (9184145, '11008407'), (9184145, '9614014'), (9184145, '9145651'), (9184145, '9614082'), (9184145, '5861927'), (9184145, '10712593'), (9184145, '11029745'), (9184145, '9440794'), (9184145, '11028111'), (9184145, '11025949'), (9184145, '9038770'), (9184145, '9159063'), (9184145, '7839545'), (9184145, '5637131'), (9184145, '5637129'), (9184145, '1268636'), (9184145, '9244962'), (9184145, '9617653'), (9184145, '9054771'), (9184145, '9074258'), (9184145, '9185402'), (9184145, '11028070'), (9184145, '9058208'), (9184145, '9234524'), (9184145, '9616627'), (9184145, '9616693'), (9184145, '9631883'), (9184145, '5612499'), (9184145, '1358490'), (9184145, '1132107'), (9184145, '5651235'), (9184145, '9196434'), (9184145, '833796'), (9184145, '829489'), (9184145, '9614130'), (9184145, '7757550'), (9184145, '830791'), (9184145, '9616208'), (9184145, '9614091'), (9184145, '5651009'), (9184145, '5651232'), (9184145, '829488'), (9184145, '9680847'), (9184145, '1339401'), (9184145, '1132108'), (9184145, '9696048'), (9184145, '9755492'), (9184145, '9755995'), (9184145, '832133'), (9184145, '826747'), (9184145, '823619'), (9184145, '833312'), (9184145, '835482'), (9184145, '829875'), (9184145, '829005'), (9184145, '825347'), (9184145, '812074'), (9184145, '813410'), (9184145, '5742646'), (9184145, '10376868'), (9184145, '5830234'), (9184145, '5832731'), (9184145, '5817614'), (9184145, '8945806'), (9184145, '7839375'), (9184145, '10691806'), (9184145, '1308764'), (9184145, '9773369'), (9184145, '9796174'), (9184145, '8741145'), (9184145, '5861850'), (9184145, '5020762'), (9184145, '6180410'), (9184145, '5826686'), (9184145, '5825032'), (9184145, '5824619'), (9184145, '5824623'), (9184145, '5814265'), (9184145, '9616524'), (9184145, '9284413'), (9184145, '9042588'), (9184145, '9614203'), (9184145, '1690049'), (9184145, '7757872'), (9184145, '9614342'), (9184145, '8970602'), (9184145, '7839975'), (9184145, '9614201'), (9184145, '9614202'), (9184145, '9335353'), (9184145, '1043528'), (9184145, '9680818'), (9184145, '5043082'), (9184145, '4975438'), (9184145, '324807'), (9184145, '10800279'), (9184145, '661718'), (9184145, '10698300'), (9184145, '8947533'), (9184145, '9733862'), (9184145, '10793605'), (9184145, '9750766'), (9184145, '5863296'), (9184145, '7605334'), (9184145, '9768786'), (9184145, '1425606'), (9184145, '5794231'), (9184145, '5824240'), (9184145, '4760575'), (9184145, '9104285'), (9184145, '5748966'), (9184145, '1774303'), (9184145, '1829454'), (9184145, '5025874'), (9184145, '9279783'), (9184145, '5687797'), (9184145, '9680920'), (9184145, '10694527'), (9184145, '11029726'), (9184145, '1077187'), (9184145, '693024'), (9184145, '1077188'), (9184145, '693025'), (9184145, '9279837'), (9184145, '824476'), (9184145, '831262'), (9184145, '835040'), (9184145, '828134'), (9184145, '9617333'), (9184145, '9617095'), (9184145, '5580654'), (9184145, '4721345'), (9184145, '9696485'), (9184145, '11052613'), (9184145, '9679120'), (9184145, '9074386'), (9184145, '9617544'), (9184145, '9642727'), (9184145, '9969562'), (9184145, '9898586'), (9184145, '9745335'), (9184145, '9741556'), (9184145, '9734575'), (9184145, '9866846'), (9184145, '9849206'), (9184145, '9674097'), (9184145, '9684541'), (9184145, '9340886'), (9184145, '9201399'), (9184145, '9723984'), (9184145, '9646903'), (9184145, '9607072'), (9184145, '9634404'), (9184145, '9680811'), (9184145, '9382722'), (9184145, '10692440'), (9184145, '1263002'), (9184145, '10786733'), (9184145, '9746132'), (9184145, '7749578'), (9184145, '7757461'), (9184145, '9078330'), (9184145, '816015'), (9184145, '832861'), (9184145, '595797'), (9184145, '348203'), (9184145, '345336'), (9184145, '346292'), (9184145, '5845946'), (9184145, '9185457'), (9184145, '5687390'), (9184145, '5687386'), (9184145, '9743920'), (9184145, '9280026'), (9184145, '8944686'), (9184145, '5636393'), (9184145, '5636394'), (9184145, '5865382'), (9184145, '833040'), (9184145, '827433'), (9184145, '9968590'), (9184145, '9737434'), (9184145, '6307024'), (9184145, '9495493'), (9184145, '9194098'), (9184145, '6048835'), (9184145, '9794433'), (9184145, '9753549'), (9184145, '5819529'), (9184145, '9733888'), (9184145, '10796802'), (9184145, '10696599'), (9184145, '9757399'), (9184145, '5810704'), (9184145, '5813802'), (9184145, '9381739'), (9184145, '10206310'), (9184145, '10770660'), (9184145, '10798175'), (9184145, '9808886'), (9184145, '9772911'), (9184145, '10754885'), (9184145, '9807691'), (9184145, '5865238'), (9184145, '9216581'), (9184145, '9440898'), (9184145, '4885940'), (9184145, '827055'), (9184145, '823927'), (9184145, '835790'), (9184145, '830183'), (9184145, '5819217'), (9184145, '9107877'), (9184145, '9801454'), (9184145, '10661441'), (9184145, '9681177'), (9184145, '9007194'), (9184145, '9736805'), (9184145, '10072226'), (9184145, '5865217'), (9184145, '5819204'), (9184145, '4721457'), (9184145, '5843670'), (9184145, '5846804'), (9184145, '9617465'), (9184145, '9733090'), (9184145, '820600'), (9184145, '819866'), (9184145, '9090737'), (9184145, '821005'), (9184145, '1750832'), (9184145, '9445167'), (9184145, '9761505'), (9184145, '9615116'), (9184145, '5002394'), (9184145, '5913151'), (9184145, '6366560'), (9184145, '9713430'), (9184145, '9650633'), (9184145, '9633642'), (9184145, '9603255'), (9184145, '9591211'), (9184145, '9749550'), (9184145, '9741111'), (9184145, '9866114'), (9184145, '9658369'), (9184145, '9691284'), (9184145, '5865248'), (9184145, '9765072'), (9184145, '9808432'), (9184145, '10789527'), (9184145, '9505885'), (9184145, '9982402'), (9184145, '9781989'), (9184145, '9374835'), (9184145, '9771786'), (9184145, '9758872'), (9184145, '9770338'), (9184145, '10153115'), (9184145, '9004741'), (9184145, '9009441'), (9184145, '9166695'), (9184145, '5865721'), (9184145, '5816807'), (9184145, '9764664'), (9184145, '1145953'), (9184145, '832079'), (9184145, '826979'), (9184145, '823851'), (9184145, '835714'), (9184145, '833954'), (9184145, '833258'), (9184145, '830107'), (9184145, '9614721'), (9184145, '9279718'), (9184145, '9680861'), (9184145, '9279944'), (9184145, '10694486'), (9184145, '829942'), (9184145, '823686'), (9184145, '9081255'), (9184145, '9279859'), (9184145, '5622921'), (9184145, '7778676'), (9184145, '1371186'), (9184145, '826630'), (9184145, '829758'), (9184145, '824375'), (9184145, '823502'), (9184145, '10783260'), (9184145, '11052612'), (9184145, '9709859'), (9184145, '10714348'), (9184145, '9783753'), (9184145, '815101'), (9184145, '5891059'), (9184145, '1903974'), (9184145, '11029546'), (9184145, '9750503'), (9184145, '9279841'), (9184145, '832661'), (9184145, '828162'), (9184145, '825875'), (9184145, '815239'), (9184145, '1099350'), (9184145, '1231691'), (9184145, '1229872'), (9184145, '11031875'), (9184145, '10808870'), (9184145, '9789286'), (9184145, '10741242'), (9184145, '9720214'), (9184145, '5822385'), (9184145, '5738797'), (9184145, '9073960'), (9184145, '9073967'), (9184145, '9073937'), (9184145, '5813821'), (9184145, '9444019'), (9184145, '5826357'), (9184145, '9404039'), (9184145, '1231067'), (9184145, '833277'), (9184145, '833279'), (9184145, '828970'), (9184145, '828972'), (9184145, '9279860'), (9184145, '7757450'), (9184145, '834869'), (9184145, '5043090'), (9184145, '816118'), (9184145, '817078'), (9184145, '817558'), (9184145, '816598'), (9184145, '5826489'), (9184145, '834450'), (9184145, '5830912'), (9184145, '4835980'), (9184145, '11056082'), (9184145, '9475341'), (9184145, '9679065'), (9184145, '9617641'), (9184145, '9617327'), (9184145, '11025966'), (9184145, '9280760'), (9184145, '9617002'), (9184145, '8974311'), (9184145, '9616452'), (9184145, '11025922'), (9184145, '9183997'), (9184145, '9080013'), (9184145, '835669'), (9184145, '826934'), (9184145, '11056121'), (9184145, '11052610'), (9184145, '9411009'), (9184145, '9644579'), (9184145, '11008539'), (9184145, '9099438'), (9184145, '9487997'), (9184145, '5810757'), (9184145, '8944688'), (9184145, '8944725'), (9184145, '8944717'), (9184145, '9675651'), (9184145, '9614265'), (9184145, '815746'), (9184145, '823261'), (9184145, '823259'), (9184145, '823258'), (9184145, '823228'), (9184145, '5854371'), (9184145, '4928822'), (9184145, '830464'), (9184145, '832943'), (9184145, '812498'), (9184145, '826157'), (9184145, '814502'), (9184145, '814510'), (9184145, '813834'), (9184145, '273000'), (9184145, '5689833'), (9184145, '11029701'), (9184145, '5796731'), (9184145, '5847594'), (9184145, '11008543'), (9184145, '9279688'), (9184145, '9213202'), (9184145, '11056118'), (9184145, '11029716'), (9184145, '11029714'), (9184145, '11029725'), (9184145, '9644688'), (9184145, '9696487'), (9184145, '9617527'), (9184145, '9617319'), (9184145, '816064'), (9184145, '823821'), (9184145, '835684'), (9184145, '830077'), (9184145, '826949'), (9184145, '817024'), (9184145, '9616590'), (9184145, '2056162'), (9184145, '2056130'), (9184145, '826254'), (9184145, '9617119'), (9184145, '815754'), (9184145, '1230516'), (9184145, '830209'), (9184145, '825902'), (9184145, '812325'), (9184145, '813661'), (9184145, '5761644'), (9184145, '1960267'), (9184145, '1309660'), (9184145, '5043141'), (9184145, '9770575'), (9184145, '1042268'), (9184145, '1068859'), (9184145, '8080585'), (9184145, '1907292'), (9184145, '10111714'), (9184145, '11055471'), (9184145, '10742381'), (9184145, '9657976'), (9184145, '9614027'), (9184145, '9617636'), (9184145, '1099525'), (9184145, '1230730'), (9184145, '9681148'), (9184145, '10742435'), (9184145, '11008480'), (9184145, '11056173'), (9184145, '9326840'), (9184145, '10700415'), (9184145, '9792192'), (9184145, '9822321'), (9184145, '5805319'), (9184145, '5789052'), (9184145, '9310406'), (9184145, '11055482'), (9184145, '832781'), (9184145, '9475231'), (9184145, '9519888'), (9184145, '9522066'), (9184145, '9746354'), (9184145, '9746757'), (9184145, '9750351'), (9184145, '9752464'), (9184145, '9674153'), (9184145, '10691727'), (9184145, '10773174'), (9184145, '9438288'), (9184145, '10225413'), (9184145, '9800791'), (9184145, '9546297'), (9184145, '9041386'), (9184145, '10002214'), (9184145, '10201761'), (9184145, '9573775'), (9184145, '9681247'), (9184145, '11056112'), (9184145, '11055462'), (9184145, '9767369'), (9184145, '1229790'), (9184145, '9666363'), (9184145, '9614854'), (9184145, '1398633'), (9184145, '9816062'), (9184145, '4805409'), (9184145, '5837612'), (9184145, '5827809'), (9184145, '1442355'), (9184145, '9614503'), (9184145, '5803263'), (9184145, '1674286'), (9184145, '9791861'), (9184145, '9378138'), (9184145, '9605572'), (9184145, '9794348'), (9184145, '5819401'), (9184145, '5806325'), (9184145, '5814103'), (9184145, '9680857'), (9184145, '4721832'), (9184145, '11055472'), (9184145, '9614896'), (9184145, '9614441'), (9184145, '9614284'), (9184145, '9458634'), (9184145, '1132522'), (9184145, '9279741'), (9184145, '9459310'), (9184145, '5223695'), (9184145, '9280460'), (9184145, '9364064'), (9184145, '11051037'), (9184145, '9200588'), (9184145, '9213272'), (9184145, '9739179'), (9184145, '1280768'), (9184145, '9244673'), (9184145, '9244674'), (9184145, '819713'), (9184145, '820447'), (9184145, '9680990'), (9184145, '1339396'), (9184145, '1132046'), (9184145, '11055526'), (9184145, '11055477'), (9184145, '11055460'), (9184145, '5612500'), (9184145, '9796081'), (9184145, '9427238'), (9184145, '10757852'), (9184145, '9615012'), (9184145, '5814194'), (9184145, '5788530'), (9184145, '1044317'), (9184145, '1045644'), (9184145, '9212284'), (9184145, '5622925'), (9184145, '5687363'), (9184145, '5647848'), (9184145, '4990925'), (9184145, '5580741'), (9184145, '5043118'), (9184145, '5008423'), (9184145, '4974942'), (9184145, '5687347'), (9184145, '5687429'), (9184145, '1776377'), (9184145, '4770424'), (9184145, '1048937'), (9184145, '9617102'), (9184145, '8991241'), (9184145, '9616488'), (9184145, '9497773'), (9184145, '9785761'), (9184145, '9785370'), (9184145, '9758589'), (9184145, '9777852'), (9184145, '9615078'), (9184145, '9373902'), (9184145, '5225574'), (9184145, '9413692'), (9184145, '9741413'), (9184145, '9777880'), (9184145, '11028030'), (9184145, '5650955'), (9184145, '816336'), (9184145, '817296'), (9184145, '1229723'), (9184145, '9617634'), (9184145, '1230578'), (9184145, '9212299'), (9184145, '816395'), (9184145, '827039'), (9184145, '834654'), (9184145, '827748'), (9184145, '9058588'), (9184145, '9813823'), (9184145, '8951629'), (9184145, '9805198'), (9184145, '5867559'), (9184145, '9772032'), (9184145, '9774552'), (9184145, '5861417'), (9184145, '5824454'), (9184145, '9775998'), (9184145, '9614700'), (9184145, '9350357'), (9184145, '11008479'), (9184145, '11055531'), (9184145, '11055532'), (9184145, '11008527'), (9184145, '9696342'), (9184145, '11055468'), (9184145, '11055463'), (9184145, '5678354'), (9184145, '7605279'), (9184145, '5883242'), (9184145, '9058301'), (9184145, '8933683'), (9184145, '9680970'), (9184145, '11057980'), (9184145, '9361479'), (9184145, '1714210'), (9184145, '9616489'), (9184145, '834046'), (9184145, '1045171'), (9184145, '9617513'), (9184145, '11052270'), (9184145, '11027956'), (9184145, '11052536'), (9184145, '11027954'), (9184145, '9296973'), (9184145, '5687612'), (9184145, '11029753'), (9184145, '11056117'), (9184145, '9795095'), (9184145, '9471238'), (9184145, '9747508'), (9184145, '1630213'), (9184145, '5861190'), (9184145, '11057645'), (9184145, '11027888'), (9184145, '9337248'), (9184145, '9338065'), (9184145, '7765180'), (9184145, '9731972'), (9184145, '5773158'), (9184145, '11089870'), (9184145, '9007107'), (9184145, '9617053'), (9184145, '11055476'), (9184145, '8945284'), (9184145, '9279908'), (9184145, '9616705'), (9184145, '9007779'), (9184145, '9007507'), (9184145, '5562648'), (9184145, '9728731'), (9184145, '9617136'), (9184145, '9145600'), (9184145, '9765878'), (9184145, '9768017'), (9184145, '9616662'), (9184145, '11025921'), (9184145, '11055467'), (9184145, '10742233'), (9184145, '1230045'), (9184145, '9615988'), (9184145, '9615992'), (9184145, '9696360'), (9184145, '9506911'), (9184145, '9506910'), (9184145, '9614578'), (9184145, '9686178'), (9184145, '9164004'), (9184145, '5863367'), (9184145, '832083'), (9184145, '833262'), (9184145, '828955'), (9184145, '825297'), (9184145, '10741825'), (9184145, '11008405'), (9184145, '9613998'), (9184145, '9696509'), (9184145, '9366239'), (9184145, '11057870'), (9184145, '1231182'), (9184145, '9023125'), (9184145, '1181888'), (9184145, '815856'), (9184145, '816816'), (9184145, '9056966'), (9184145, '816543'), (9184145, '817503'), (9184145, '833795'), (9184145, '834286'), (9184145, '812634'), (9184145, '813970'), (9184145, '9616647'), (9184145, '9352891'), (9184145, '9739996'), (9184145, '9732965'), (9184145, '7836102'), (9184145, '5868889'), (9184145, '9773926'), (9184145, '9337606'), (9184145, '4956034'), (9184145, '5811531'), (9184145, '9350352'), (9184145, '9616646'), (9184145, '9616699'), (9184145, '5225179'), (9184145, '11056307'), (9184145, '5580732'), (9184145, '9038305'), (9184145, '9617303'), (9184145, '5547384'), (9184145, '8932179'), (9184145, '11057871'), (9184145, '10742465'), (9184145, '9616661'), (9184145, '9616340'), (9184145, '11054315'), (9184145, '9074239'), (9184145, '11057207'), (9184145, '9440407'), (9184145, '9680766'), (9184145, '9410591'), (9184145, '9614647'), (9184145, '11052506'), (9184145, '8961955'), (9184145, '11057223'), (9184145, '9007226'), (9184145, '9752180'), (9184145, '9068487'), (9184145, '9769711'), (9184145, '9773960'), (9184145, '9638254'), (9184145, '9787367'), (9184145, '7772018'), (9184145, '9617282'), (9184145, '11057634'), (9184145, '11052558'), (9184145, '11008541'), (9184145, '9681478'), (9184145, '9696356'), (9184145, '9196429'), (9184145, '9279981'), (9184145, '1229389'), (9184145, '1229349'), (9184145, '8944652'), (9184145, '9525012'), (9184145, '10527620'), (9184145, '9777117'), (9184145, '5848282'), (9184145, '9741390'), (9184145, '9736252'), (9184145, '10048849'), (9184145, '9773341'), (9184145, '5599603'), (9184145, '9786964'), (9184145, '9804782'), (9184145, '9771174'), (9184145, '9816282'), (9184145, '5848103'), (9184145, '7512437'), (9184145, '9754612'), (9184145, '9752899'), (9184145, '9767972'), (9184145, '9767211'), (9184145, '8156238'), (9184145, '11027937'), (9184145, '9656215'), (9184145, '9392212'), (9184145, '11014112'), (9184145, '9279671'), (9184145, '4975405'), (9184145, '9733141'), (9184145, '9729932'), (9184145, '9968772'), (9184145, '9744704'), (9184145, '9743675'), (9184145, '9739461'), (9184145, '9737864'), (9184145, '9748147'), (9184145, '9749990'), (9184145, '9750932'), (9184145, '9746988'), (9184145, '9752300'), (9184145, '9733365'), (9184145, '9732281'), (9184145, '5002517'), (9184145, '10694557'), (9184145, '9644640'), (9184145, '5612231'), (9184145, '9279923'), (9184145, '9279896'), (9184145, '9279758'), (9184145, '5612473'), (9184145, '5636990'), (9184145, '5837922'), (9184145, '834727'), (9184145, '10600081'), (9184145, '9721189'), (9184145, '5845346'), (9184145, '10279995'), (9184145, '9816193'), (9184145, '814622'), (9184145, '814623'), (9184145, '5762352'), (9184145, '9455983'), (9184145, '9519439'), (9184145, '9752218'), (9184145, '9494359'), (9184145, '9227163'), (9184145, '9358393'), (9184145, '9224962'), (9184145, '9187761'), (9184145, '9475106'), (9184145, '9279748'), (9184145, '9279749'), (9184145, '833692'), (9184145, '832928'), (9184145, '833524'), (9184145, '832513'), (9184145, '832345'), (9184145, '829217'), (9184145, '829385'), (9184145, '837035'), (9184145, '11008542'), (9184145, '9696357'), (9184145, '9279773'), (9184145, '11052276'), (9184145, '11057230'), (9184145, '9617382'), (9184145, '11057203'), (9184145, '11052249'), (9184145, '4975440'), (9184145, '9680790'), (9184145, '9680788'), (9184145, '4975428'), (9184145, '1419293'), (9184145, '8974949'), (9184145, '11057210'), (9184145, '5801760'), (9184145, '5763044'), (9184145, '1203535'), (9184145, '816376'), (9184145, '817336'), (9184145, '4721467'), (9184145, '10774363'), (9184145, '7793857'), (9184145, '9737383'), (9184145, '7932469'), (9184145, '10502089'), (9184145, '8289529'), (9184145, '5580232'), (9184145, '9894038'), (9184145, '9965815'), (9184145, '9419178'), (9184145, '10345643'), (9184145, '1339391'), (9184145, '9545543'), (9184145, '10578346'), (9184145, '9054189'), (9184145, '8982829'), (9184145, '8951120'), (9184145, '1371142'), (9184145, '830238'), (9184145, '825931'), (9184145, '9696358'), (9184145, '9617167'), (9184145, '9616243'), (9184145, '9067075'), (9184145, '8974040'), (9184145, '1371152'), (9184145, '1371151'), (9184145, '10796044'), (9184145, '7759547'), (9184145, '815454'), (9184145, '9520951'), (9184145, '9729296'), (9184145, '9469211'), (9184145, '9754527'), (9184145, '9733923'), (9184145, '9782268'), (9184145, '9433908'), (9184145, '9430001'), (9184145, '9382999'), (9184145, '5868567'), (9184145, '9820463'), (9184145, '9769729'), (9184145, '9745931'), (9184145, '9702907'), (9184145, '9615086'), (9184145, '9615014'), (9184145, '9614673'), (9184145, '9614355'), (9184145, '4721446'), (9184145, '1532852'), (9184145, '9696351'), (9184145, '9328494'), (9184145, '9616713'), (9184145, '8740883'), (9184145, '11025916'), (9184145, '8931853'), (9184145, '11025895'), (9184145, '1268641'), (9184145, '9288577'), (9184145, '9185459'), (9184145, '4991653'), (9184145, '4721343'), (9184145, '9799138'), (9184145, '11092288'), (9184145, '832931'), (9184145, '830452'), (9184145, '827324'), (9184145, '826145'), (9184145, '9090750'), (9184145, '9090749'), (9184145, '11052279'), (9184145, '11072982'), (9184145, '9735337'), (9184145, '9753331'), (9184145, '5225573'), (9184145, '9654664'), (9184145, '11091787'), (9184145, '7078191'), (9184145, '11091611'), (9184145, '11091237'), (9184145, '11091797'), (9184145, '11091796'), (9184145, '7772053'), (9184145, '1184773'), (9184145, '9187749'), (9184145, '11092004'), (9184145, '11091695'), (9184145, '9740509'), (9184145, '9817387'), (9184145, '5837397'), (9184145, '9185861'), (9184145, '8944673'), (9184145, '8944742'), (9184145, '9337767'), (9184145, '9605746'), (9184145, '9726286'), (9184145, '821193'), (9184145, '5776546'), (9184145, '9082113'), (9184145, '9058578'), (9184145, '11057983'), (9184145, '11055524'), (9184145, '11057218'), (9184145, '9475355'), (9184145, '11091458'), (9184145, '11056294'), (9184145, '9681490'), (9184145, '11091790'), (9184145, '824005'), (9184145, '834569'), (9184145, '827663'), (9184145, '9613956'), (9184145, '9627407'), (9184145, '11027920'), (9184145, '9326032'), (9184145, '11091192'), (9184145, '9242927'), (9184145, '9196428'), (9184145, '9696037'), (9184145, '5636314'), (9184145, '11055498'), (9184145, '1618265'), (9184145, '11054290'), (9184145, '11029807'), (9184145, '11028112'), (9184145, '11091642'), (9184145, '9440817'), (9184145, '9614495'), (9184145, '11092327'), (9184145, '9617291'), (9184145, '9658077'), (9184145, '9757711'), (9184145, '9686945'), (9184145, '9616804'), (9184145, '9752083'), (9184145, '9410831'), (9184145, '9751403'), (9184145, '9717986'), (9184145, '10773818'), (9184145, '10770970'), (9184145, '10272480'), (9184145, '9802226'), (9184145, '10787442'), (9184145, '9761170'), (9184145, '9748610'), (9184145, '9861443'), (9184145, '9770398'), (9184145, '9786078'), (9184145, '9108391'), (9184145, '9744973'), (9184145, '11008402'), (9184145, '9789609'), (9184145, '9800326'), (9184145, '11055523'), (9184145, '11055496'), (9184145, '11055501'), (9184145, '11055495'), (9184145, '11114516'), (9184145, '9486410'), (9184145, '11114419'), (9184145, '9453765'), (9184145, '832822'), (9184145, '830343'), (9184145, '827215'), (9184145, '826036'), (9184145, '1230241'), (9184145, '1230294'), (9184145, '1229337'), (9184145, '5876589'), (9184145, '5816307'), (9184145, '5822855'), (9184145, '8151711'), (9184145, '5792173'), (9184145, '1628447'), (9184145, '1630581'), (9184145, '1514793'), (9184145, '5780448'), (9184145, '11114531'), (9184145, '11114530'), (9184145, '10816323'), (9184145, '11091625'), (9184145, '11091268'), (9184145, '9298787'), (9184145, '5678786'), (9184145, '827029'), (9184145, '835764'), (9184145, '9007422'), (9184145, '830355'), (9184145, '834458'), (9184145, '828852'), (9184145, '1044095'), (9184145, '4770405'), (9184145, '1339393'), (9184145, '9475313'), (9184145, '9630545'), (9184145, '9616304'), (9184145, '9213204'), (9184145, '11091808'), (9184145, '11092023'), (9184145, '11008442'), (9184145, '8961930'), (9184145, '9657744'), (9184145, '9317484'), (9184145, '9748577'), (9184145, '9782886'), (9184145, '9809375'), (9184145, '5845899'), (9184145, '5856880'), (9184145, '1468545'), (9184145, '11091609'), (9184145, '11091281'), (9184145, '11091308'), (9184145, '9744577'), (9184145, '9760426'), (9184145, '9140061'), (9184145, '11008530'), (9184145, '11114543'), (9184145, '9696345'), (9184145, '9679078'), (9184145, '5759255'), (9184145, '9731893'), (9184145, '9783165'), (9184145, '11114418'), (9184145, '1132039'), (9184145, '11027914'), (9184145, '9054828'), (9184145, '11091633'), (9184145, '4975520'), (9184145, '7757552'), (9184145, '11091253'), (9184145, '11091244'), (9184145, '11091278'), (9184145, '11091271'), (9184145, '9616145'), (9184145, '11091823'), (9184145, '11091825'), (9184145, '9758018'), (9184145, '9200570'), (9184145, '9180176'), (9184145, '9338953'), (9184145, '1268637'), (9184145, '11056306'), (9184145, '11114392'), (9184145, '10816019'), (9184145, '9023568'), (9184145, '9023479'), (9184145, '9614402'), (9184145, '834013'), (9184145, '828407'), (9184145, '9427353'), (9184145, '9388505'), (9184145, '1244138'), (9184145, '831161'), (9184145, '9617046'), (9184145, '9616282'), (9184145, '835365'), (9184145, '834939'), (9184145, '11091605'), (9184145, '832144'), (9184145, '829016'), (9184145, '825358'), (9184145, '11027912'), (9184145, '9462603'), (9184145, '11055511'), (9184145, '11114330'), (9184145, '248979'), (9184145, '278729'), (9184145, '11091634'), (9184145, '7771990'), (9184145, '11091229'), (9184145, '11091320'), (9184145, '11091314'), (9184145, '11091311'), (9184145, '11091299'), (9184145, '11091297'), (9184145, '11091322'), (9184145, '11092018'), (9184145, '11092014'), (9184145, '9384100'), (9184145, '4794693'), (9184145, '9614428'), (9184145, '9614415'), (9184145, '5687298'), (9184145, '1326575'), (9184145, '7735692'), (9184145, '11091462'), (9184145, '9185399'), (9184145, '7735358'), (9184145, '9617052'), (9184145, '9330690'), (9184145, '9605449'), (9184145, '9525157'), (9184145, '9696361'), (9184145, '9615978'), (9184145, '11057170'), (9184145, '9440404'), (9184145, '8991541'), (9184145, '11091682'), (9184145, '818057'), (9184145, '820627'), (9184145, '821373'), (9184145, '819893'), (9184145, '1230515'), (9184145, '9358372'), (9184145, '9475377'), (9184145, '7760091'), (9184145, '9709755'), (9184145, '9756946'), (9184145, '9770529'), (9184145, '9811978'), (9184145, '9768458'), (9184145, '9824047'), (9184145, '5801139'), (9184145, '813251'), (9184145, '814587'), (9184145, '812583'), (9184145, '813919'), (9184145, '9687850'), (9184145, '9349545'), (9184145, '9007840'), (9184145, '9755057'), (9184145, '11055464'), (9184145, '9780315'), (9184145, '11091270'), (9184145, '9497959'), (9184145, '816498'), (9184145, '817458'), (9184145, '9057721'), (9184145, '1230486'), (9184145, '9007263'), (9184145, '11091603'), (9184145, '9680932'), (9184145, '1371024'), (9184145, '9614788'), (9184145, '11091679'), (9184145, '833921'), (9184145, '831443'), (9184145, '828315'), (9184145, '824657'), (9184145, '11056120'), (9184145, '9515447'), (9184145, '9611611'), (9184145, '9617507'), (9184145, '11091316'), (9184145, '9615055'), (9184145, '11114333'), (9184145, '9326026'), (9184145, '9616442'), (9184145, '1370984'), (9184145, '9616283'), (9184145, '9616079'), (9184145, '9616067'), (9184145, '9614715'), (9184145, '11027938'), (9184145, '812969'), (9184145, '814305'), (9184145, '11091254'), (9184145, '9616589'), (9184145, '7757899'), (9184145, '9023347'), (9184145, '9681186'), (9184145, '823288'), (9184145, '11114501'), (9184145, '9613989'), (9184145, '11054007'), (9184145, '9444651'), (9184145, '11091232'), (9184145, '9616903'), (9184145, '5806450'), (9184145, '11008145'), (9184145, '831968'), (9184145, '825182'), (9184145, '11115756'), (9184145, '10712548'), (9184145, '9617542'), (9184145, '9185471'), (9184145, '5651286'), (9184145, '11027922'), (9184145, '9785476'), (9184145, '9800855'), (9184145, '1230437'), (9184145, '11114303'), (9184145, '9617369'), (9184145, '10712693'), (9184145, '9616658'), (9184145, '9616679'), (9184145, '830222'), (9184145, '825915'), (9184145, '823232'), (9184145, '832701'), (9184145, '827094'), (9184145, '815424'), (9184145, '815423'), (9184145, '11055503'), (9184145, '11091602'), (9184145, '829994'), (9184145, '823738'), (9184145, '9810432'), (9184145, '5856873'), (9184145, '9401123'), (9184145, '9145543'), (9184145, '9023521'), (9184145, '11057822'), (9184145, '9613962'), (9184145, '11114304'), (9184145, '8152530'), (9184145, '9753406'), (9184145, '11114268'), (9184145, '11114247'), (9184145, '9761029'), (9184145, '9816496'), (9184145, '5866785'), (9184145, '1371223'), (9184145, '829073'), (9184145, '820734'), (9184145, '833380'), (9184145, '834285'), (9184145, '11091816'), (9184145, '828809'), (9184145, '9738437'), (9184145, '11025900'), (9184145, '9696370'), (9184145, '8099691'), (9184145, '9605695'), (9184145, '9185811'), (9184145, '11091452'), (9184145, '11088673'), (9184145, '5225128'), (9184145, '5046942'), (9184145, '11091715'), (9184145, '9615162'), (9184145, '10712290'), (9184145, '5826490'), (9184145, '1099210'), (9184145, '9665784'), (9184145, '11092487'), (9184145, '1679164'), (9184145, '11115778'), (9184145, '11052521'), (9184145, '11114532'), (9184145, '11091692'), (9184145, '9007096'), (9184145, '1179087'), (9184145, '9616101'), (9184145, '9784527'), (9184145, '11091647'), (9184145, '9616503'), (9184145, '9617165'), (9184145, '9525046'), (9184145, '9525045'), (9184145, '11028080'), (9184145, '9614601'), (9184145, '9616753'), (9184145, '8931912'), (9184145, '9488016'), (9184145, '9710065'), (9184145, '11054448'), (9184145, '5687689'), (9184145, '11006525'), (9184145, '1629396'), (9184145, '1046186'), (9184145, '9338005'), (9184145, '8962329'), (9184145, '9339566'), (9184145, '11111398'), (9184145, '11011604'), (9184145, '9503492'), (9184145, '11092007'), (9184145, '9732122'), (9184145, '9728398'), (9184145, '9742378'), (9184145, '9751464'), (9184145, '9715982'), (9184145, '9627957'), (9184145, '9361115'), (9184145, '830631'), (9184145, '827503'), (9184145, '833110'), (9184145, '826324'), (9184145, '829656'), (9184145, '826528'), (9184145, '823400'), (9184145, '835263'), (9184145, '5656263'), (9184145, '1397338'), (9184145, '11114506'), (9184145, '1132042'), (9184145, '1397352'), (9184145, '1359383'), (9184145, '4761565'), (9184145, '5818286'), (9184145, '1441594'), (9184145, '9765038'), (9184145, '9517458'), (9184145, '11089821'), (9184145, '9808484'), (9184145, '8155409'), (9184145, '11091464'), (9184145, '9230557'), (9184145, '11114305'), (9184145, '1115157'), (9184145, '9617615'), (9184145, '11057232'), (9184145, '9410592'), (9184145, '8944792'), (9184145, '11057178'), (9184145, '11077663'), (9184145, '9746658'), (9184145, '9785259'), (9184145, '11027915'), (9184145, '5769245'), (9184145, '11077649'), (9184145, '10818954'), (9184145, '1397300'), (9184145, '11056086'), (9184145, '11114741'), (9184145, '11091740'), (9184145, '5547379'), (9184145, '11091992'), (9184145, '11091721'), (9184145, '1248318'), (9184145, '11027952'), (9184145, '10742429'), (9184145, '11057802'), (9184145, '11117054'), (9184145, '11117053'), (9184145, '11027908'), (9184145, '7864971'), (9184145, '9778099'), (9184145, '832132'), (9184145, '825346'), (9184145, '815362'), (9184145, '11117313'), (9184145, '11117399'), (9184145, '11117005'), (9184145, '1043948'), (9184145, '9617034'), (9184145, '11029749'), (9184145, '10694506'), (9184145, '11057221'), (9184145, '11091658'), (9184145, '11091250'), (9184145, '1419285'), (9184145, '11110727'), (9184145, '9775222'), (9184145, '9753459'), (9184145, '9749184'), (9184145, '10057600'), (9184145, '9802742'), (9184145, '9788038'), (9184145, '5561843'), (9184145, '5824732'), (9184145, '1443734'), (9184145, '9814577'), (9184145, '9613991'), (9184145, '9681110'), (9184145, '9615058'), (9184145, '9616603'), (9184145, '7367112'), (9184145, '10775823'), (9184145, '8944704'), (9184145, '11116957'), (9184145, '820930'), (9184145, '820196'), (9184145, '821267'), (9184145, '820521'), (9184145, '812982'), (9184145, '812314'), (9184145, '819434'), (9184145, '819048'), (9184145, '818855'), (9184145, '11117006'), (9184145, '831799'), (9184145, '9681488'), (9184145, '4770638'), (9184145, '9616965'), (9184145, '9616868'), (9184145, '11091981'), (9184145, '11092429'), (9184145, '9616700'), (9184145, '9616723'), (9184145, '11055469'), (9184145, '11116959'), (9184145, '9658136'), (9184145, '9722140'), (9184145, '10328219'), (9184145, '10218919'), (9184145, '9336565'), (9184145, '9337019'), (9184145, '9337967'), (9184145, '10102648'), (9184145, '9644435'), (9184145, '9487969'), (9184145, '9696307'), (9184145, '9681295'), (9184145, '10711066'), (9184145, '11059412'), (9184145, '11095220'), (9184145, '11101226'), (9184145, '10783025'), (9184145, '9736414'), (9184145, '9073963'), (9184145, '11091698'), (9184145, '1339412'), (9184145, '9073930'), (9184145, '9838170'), (9184145, '9767766'), (9184145, '5666800'), (9184145, '10742239'), (9184145, '10816391'), (9184145, '9737134'), (9184145, '4785296'), (9184145, '9306558'), (9184145, '5826700'), (9184145, '9804532'), (9184145, '9819887'), (9184145, '10714328'), (9184145, '9768621'), (9184145, '5814003'), (9184145, '11029740'), (9184145, '11115766'), (9184145, '11118534'), (9184145, '11118498'), (9184145, '11057740'), (9184145, '11057872'), (9184145, '11092412'), (9184145, '11117479'), (9184145, '9388579'), (9184145, '11026008'), (9184145, '1379720'), (9184145, '10153784'), (9184145, '9709616'), (9184145, '9774372'), (9184145, '11115765'), (9184145, '11043952'), (9184145, '11111272'), (9184145, '11110052'), (9184145, '9486747'), (9184145, '9783453'), (9184145, '11091276'), (9184145, '9786761'), (9184145, '9767619'), (9184145, '8156384'), (9184145, '10714234'), (9184145, '11091234'), (9184145, '9525049'), (9184145, '9649841'), (9184145, '11107604'), (9184145, '11092021'), (9184145, '11092000'), (9184145, '10013912'), (9184145, '9868041'), (9184145, '9977345'), (9184145, '9975195'), (9184145, '9763698'), (9184145, '10438355'), (9184145, '10219057'), (9184145, '10049217'), (9184145, '11089866'), (9184145, '9663120'), (9184145, '11118480'), (9184145, '11115801'), (9184145, '11115795'), (9184145, '1131979'), (9184145, '5043088'), (9184145, '9038314'), (9184145, '1339400'), (9184145, '1339386'), (9184145, '9059920'), (9184145, '11095707'), (9184145, '11055529'), (9184145, '8931848'), (9184145, '9645738'), (9184145, '929456'), (9184145, '9616926'), (9184145, '11063423'), (9184145, '9277440'), (9184145, '816287'), (9184145, '817247'), (9184145, '815807'), (9184145, '816767'), (9184145, '9664900'), (9184145, '825622'), (9184145, '829280'), (9184145, '833587'), (9184145, '812368'), (9184145, '832408'), (9184145, '815758'), (9184145, '813704'), (9184145, '9696376'), (9184145, '5687432'), (9184145, '9347134'), (9184145, '8945253'), (9184145, '5988680'), (9184145, '5622960'), (9184145, '1371139'), (9184145, '1371122'), (9184145, '1249101'), (9184145, '5779539'), (9184145, '9216502'), (9184145, '9023395'), (9184145, '9750840'), (9184145, '9736781'), (9184145, '9755599'), (9184145, '9616256'), (9184145, '9482380'), (9184145, '5636495'), (9184145, '9730192'), (9184145, '10694311'), (9184145, '9614215'), (9184145, '5545323'), (9184145, '830987'), (9184145, '824201'), (9184145, '11028118'), (9184145, '9396613'), (9184145, '9680509'), (9184145, '5678906'), (9184145, '9158862'), (9184145, '10794443'), (9184145, '9613972'), (9184145, '11118590'), (9184145, '11026003'), (9184145, '11115802'), (9184145, '5043083'), (9184145, '11057216'), (9184145, '9617464'), (9184145, '9326708'), (9184145, '11091565'), (9184145, '9617068'), (9184145, '9616721'), (9184145, '11091793'), (9184145, '9388219'), (9184145, '9814834'), (9184145, '7974545'), (9184145, '7771744'), (9184145, '7602749'), (9184145, '7757847'), (9184145, '8169082'), (9184145, '9338292'), (9184145, '5679159'), (9184145, '5677628'), (9184145, '10712297'), (9184145, '9338439'), (9184145, '10759073'), (9184145, '10511450'), (9184145, '10635099'), (9184145, '9743080'), (9184145, '9313384'), (9184145, '5878961'), (9184145, '9165650'), (9184145, '4808073'), (9184145, '4790700'), (9184145, '1261731'), (9184145, '5770746'), (9184145, '1679333'), (9184145, '1370998'), (9184145, '9734383'), (9184145, '11075795'), (9184145, '9107612'), (9184145, '9248704'), (9184145, '11088858'), (9184145, '8596708'), (9184145, '9486248'), (9184145, '5901480'), (9184145, '4771029'), (9184145, '9743514'), (9184145, '11117475'), (9184145, '11117474'), (9184145, '5847243'), (9184145, '9491748'), (9184145, '9824540'), (9184145, '278730'), (9184145, '1132063'), (9184145, '1132036'), (9184145, '11114517'), (9184145, '9022557'), (9184145, '5043086'), (9184145, '4975443'), (9184145, '1131877'), (9184145, '1358495'), (9184145, '1358505'), (9184145, '11057167'), (9184145, '1263432'), (9184145, '11119149'), (9184145, '11114323'), (9184145, '9725812'), (9184145, '9212306'), (9184145, '1291574'), (9184145, '9780637'), (9184145, '9185518'), (9184145, '1268634'), (9184145, '9410644'), (9184145, '9410643'), (9184145, '8944814'), (9184145, '9073935'), (9184145, '11053984'), (9184145, '11055510'), (9184145, '9617408'), (9184145, '11091555'), (9184145, '7757553'), (9184145, '9617466'), (9184145, '9617463'), (9184145, '9245242'), (9184145, '11116057'), (9184145, '9326027'), (9184145, '11091640'), (9184145, '11091614'), (9184145, '11091594'), (9184145, '11091273'), (9184145, '5687980'), (9184145, '835288'), (9184145, '829681'), (9184145, '826553'), (9184145, '823425'), (9184145, '9185067'), (9184145, '859128'), (9184145, '11117213'), (9184145, '11008445'), (9184145, '9644567'), (9184145, '9074274'), (9184145, '9797244'), (9184145, '9782843'), (9184145, '9745836'), (9184145, '9748464'), (9184145, '9729679'), (9184145, '9728225'), (9184145, '9741507'), (9184145, '9968922'), (9184145, '5818981'), (9184145, '10803314'), (9184145, '9696133'), (9184145, '10794919'), (9184145, '9345132'), (9184145, '9788767'), (9184145, '9792325'), (9184145, '9796957'), (9184145, '5864340'), (9184145, '5846839'), (9184145, '1045047'), (9184145, '11009261'), (9184145, '5022339'), (9184145, '1178793'), (9184145, '1178958'), (9184145, '1131855'), (9184145, '11119050'), (9184145, '11118910'), (9184145, '11105656'), (9184145, '11117305'), (9184145, '11029828'), (9184145, '10742248'), (9184145, '11120202'), (9184145, '11057778'), (9184145, '9739290'), (9184145, '11057226'), (9184145, '5580641'), (9184145, '5580640'), (9184145, '10800443'), (9184145, '5595052'), (9184145, '11121373'), (9184145, '1231000'), (9184145, '1044891'), (9184145, '11118994'), (9184145, '11117068'), (9184145, '9614398'), (9184145, '9193053'), (9184145, '9819197'), (9184145, '4793641'), (9184145, '825787'), (9184145, '830298'), (9184145, '830297'), (9184145, '830296'), (9184145, '833752'), (9184145, '832776'), (9184145, '832775'), (9184145, '832777'), (9184145, '829445'), (9184145, '815594'), (9184145, '815418'), (9184145, '815691'), (9184145, '827170'), (9184145, '827169'), (9184145, '9073992'), (9184145, '1233912'), (9184145, '1208176'), (9184145, '11118488'), (9184145, '9388518'), (9184145, '9617290'), (9184145, '4771062'), (9184145, '1691026'), (9184145, '11099823'), (9184145, '5885325'), (9184145, '9312983'), (9184145, '9764510'), (9184145, '8552800'), (9184145, '9023334'), (9184145, '11092015'), (9184145, '8974301'), (9184145, '10649033'), (9184145, '9796597'), (9184145, '9798849'), (9184145, '9797829'), (9184145, '9793129'), (9184145, '826702'), (9184145, '826304'), (9184145, '824587'), (9184145, '830749'), (9184145, '830138'), (9184145, '835151'), (9184145, '826215'), (9184145, '830522'), (9184145, '8944712'), (9184145, '11057775'), (9184145, '9614704'), (9184145, '11118619'), (9184145, '11008580'), (9184145, '9617350'), (9184145, '9614340'), (9184145, '9506832'), (9184145, '9506831'), (9184145, '11091628'), (9184145, '11091791'), (9184145, '815232'), (9184145, '11089873'), (9184145, '9730352'), (9184145, '11116938'), (9184145, '835774'), (9184145, '830167'), (9184145, '9644387'), (9184145, '11118350'), (9184145, '9297699'), (9184145, '9728195'), (9184145, '8990424'), (9184145, '9796032'), (9184145, '5878707'), (9184145, '9810294'), (9184145, '10267588'), (9184145, '9769366'), (9184145, '9812201'), (9184145, '10777800'), (9184145, '9817626'), (9184145, '5049369'), (9184145, '5830839'), (9184145, '5830297'), (9184145, '9816251'), (9184145, '5838092'), (9184145, '11129794'), (9184145, '11120353'), (9184145, '11120439'), (9184145, '9726283'), (9184145, '9616954'), (9184145, '8945406'), (9184145, '9779160'), (9184145, '10541322'), (9184145, '11117224'), (9184145, '10742399'), (9184145, '9617442'), (9184145, '11115993'), (9184145, '9714985'), (9184145, '9741407'), (9184145, '9739276'), (9184145, '9818996'), (9184145, '9105222'), (9184145, '9824373'), (9184145, '7839514'), (9184145, '8153100'), (9184145, '10816027'), (9184145, '9515347'), (9184145, '825293'), (9184145, '825003'), (9184145, '834267'), (9184145, '10816029'), (9184145, '10816025'), (9184145, '1358159'), (9184145, '11091332'), (9184145, '5580646'), (9184145, '11092387'), (9184145, '9506347'), (9184145, '7839980'), (9184145, '9696612'), (9184145, '11114284'), (9184145, '7691614'), (9184145, '11115797'), (9184145, '11057199'), (9184145, '9680756'), (9184145, '5687571'), (9184145, '11114554'), (9184145, '9644584'), (9184145, '11114558'), (9184145, '11117298'), (9184145, '11055509'), (9184145, '9617411'), (9184145, '11120484'), (9184145, '11120490'), (9184145, '11120486'), (9184145, '5009048'), (9184145, '9074390'), (9184145, '8961956'), (9184145, '11091748'), (9184145, '10694200'), (9184145, '4794821'), (9184145, '815020'), (9184145, '11116955'), (9184145, '11116956'), (9184145, '11116941'), (9184145, '9783111'), (9184145, '9719248'), (9184145, '11091719'), (9184145, '9817557'), (9184145, '5866657'), (9184145, '5863830'), (9184145, '9810443'), (9184145, '825507'), (9184145, '825508'), (9184145, '824703'), (9184145, '9761001'), (9184145, '5858719'), (9184145, '835068'), (9184145, '814363'), (9184145, '5831286'), (9184145, '5769058'), (9184145, '9614840'), (9184145, '11119214'), (9184145, '9364031'), (9184145, '11114409'), (9184145, '9412756'), (9184145, '11024016'), (9184145, '4721830'), (9184145, '5774991'), (9184145, '1397344'), (9184145, '1397343'), (9184145, '11118974'), (9184145, '9779416'), (9184145, '9217288'), (9184145, '11114921'), (9184145, '5888151'), (9184145, '10789537'), (9184145, '10779927'), (9184145, '10759832'), (9184145, '1371230'), (9184145, '5769630'), (9184145, '9824516'), (9184145, '1800332'), (9184145, '1348922'), (9184145, '5637132'), (9184145, '9007180'), (9184145, '827405'), (9184145, '826226'), (9184145, '826269'), (9184145, '826271'), (9184145, '825057'), (9184145, '825675'), (9184145, '825904'), (9184145, '831843'), (9184145, '830970'), (9184145, '830211'), (9184145, '834748'), (9184145, '5656236'), (9184145, '5656228'), (9184145, '5861678'), (9184145, '5859024'), (9184145, '5857414'), (9184145, '5612466'), (9184145, '5851616'), (9184145, '5851055'), (9184145, '5856958'), (9184145, '7821686'), (9184145, '7708812'), (9184145, '5849593'), (9184145, '5846471'), (9184145, '9023455'), (9184145, '1068189'), (9184145, '819863'), (9184145, '820597'), (9184145, '11091657'), (9184145, '11118490'), (9184145, '11114594'), (9184145, '9736871'), (9184145, '9736505'), (9184145, '9751728'), (9184145, '9741842'), (9184145, '9742465'), (9184145, '9740519'), (9184145, '9738592'), (9184145, '9754177'), (9184145, '9753615'), (9184145, '11091759'), (9184145, '11091729'), (9184145, '11056236'), (9184145, '10144991'), (9184145, '9873899'), (9184145, '9837567'), (9184145, '812438'), (9184145, '813774'), (9184145, '1126263'), (9184145, '1374288'), (9184145, '11118519'), (9184145, '11114564'), (9184145, '9617514'), (9184145, '9023499'), (9184145, '9617045'), (9184145, '9783659'), (9184145, '825917'), (9184145, '830224'), (9184145, '832703'), (9184145, '11118511'), (9184145, '5772848'), (9184145, '9616736'), (9184145, '1133101'), (9184145, '9728806'), (9184145, '11116961'), (9184145, '9615046'), (9184145, '11027967'), (9184145, '9614221'), (9184145, '9427181'), (9184145, '9617658'), (9184145, '11091644'), (9184145, '5868532'), (9184145, '1196752'), (9184145, '5253022'), (9184145, '1798783'), (9184145, '1230475'), (9184145, '11116069'), (9184145, '9696488'), (9184145, '9073974'), (9184145, '1077259'), (9184145, '1077251'), (9184145, '1077221'), (9184145, '1077230'), (9184145, '693001'), (9184145, '692971'), (9184145, '693060'), (9184145, '693058'), (9184145, '11091846'), (9184145, '11091829'), (9184145, '11174688'), (9184145, '11120326'), (9184145, '11173245'), (9184145, '11117211'), (9184145, '11120167'), (9184145, '11119088'), (9184145, '11173356'), (9184145, '11173104'), (9184145, '11173141'), (9184145, '11057200'), (9184145, '11174010'), (9184145, '11055525'), (9184145, '4975422'), (9184145, '9658145'), (9184145, '9225657'), (9184145, '11057350'), (9184145, '11089411'), (9184145, '7767069'), (9184145, '7767056'), (9184145, '9339328'), (9184145, '10515459'), (9184145, '8157904'), (9184145, '9738905'), (9184145, '11174715'), (9184145, '11173205'), (9184145, '9073988'), (9184145, '1308754'), (9184145, '11091776'), (9184145, '823211'), (9184145, '1045032'), (9184145, '1181912'), (9184145, '11106746'), (9184145, '10758849'), (9184145, '9506883'), (9184145, '9616588'), (9184145, '11118990'), (9184145, '9696419'), (9184145, '9644563'), (9184145, '9757703'), (9184145, '11091761'), (9184145, '835317'), (9184145, '835316'), (9184145, '826582'), (9184145, '826581'), (9184145, '817581'), (9184145, '816621'), (9184145, '812627'), (9184145, '813963'), (9184145, '11008452'), (9184145, '11025954'), (9184145, '9726229'), (9184145, '9729162'), (9184145, '9728760'), (9184145, '9732362'), (9184145, '11056165'), (9184145, '9399210'), (9184145, '9696350'), (9184145, '9726270'), (9184145, '11021922'), (9184145, '9746500'), (9184145, '9729420'), (9184145, '9734552'), (9184145, '9750035'), (9184145, '9753529'), (9184145, '5872357'), (9184145, '10751834'), (9184145, '9760200'), (9184145, '9763652'), (9184145, '9756848'), (9184145, '9768226'), (9184145, '9778430'), (9184145, '9286516'), (9184145, '9251258'), (9184145, '9663027'), (9184145, '832717'), (9184145, '827110'), (9184145, '11120110'), (9184145, '11173130'), (9184145, '11114395'), (9184145, '9617558'), (9184145, '1321326'), (9184145, '1322842'), (9184145, '1336681'), (9184145, '1322887'), (9184145, '6572567'), (9184145, '7959909'), (9184145, '1127310'), (9184145, '1194239'), (9184145, '815226'), (9184145, '7917083'), (9184145, '7691048'), (9184145, '1051961'), (9184145, '9678788'), (9184145, '9337100'), (9184145, '11036561'), (9184145, '11111571'), (9184145, '9680808'), (9184145, '9410645'), (9184145, '8944821'), (9184145, '7839406'), (9184145, '9073942'), (9184145, '9615068'), (9184145, '9615971'), (9184145, '9614422'), (9184145, '9614311'), (9184145, '11091670'), (9184145, '9397826'), (9184145, '9757537'), (9184145, '835786'), (9184145, '830179'), (9184145, '830842'), (9184145, '827051'), (9184145, '824056'), (9184145, '823923'), (9184145, '812070'), (9184145, '813932'), (9184145, '813406'), (9184145, '812596'), (9184145, '5778054'), (9184145, '10712644'), (9184145, '9775504'), (9184145, '11173210'), (9184145, '11029731'), (9184145, '9455981'), (9184145, '9056212'), (9184145, '9038605'), (9184145, '11201688'), (9184145, '9289347'), (9184145, '825013'), (9184145, '11117375'), (9184145, '11029697'), (9184145, '11091279'), (9184145, '11092039'), (9184145, '11114278'), (9184145, '5611665'), (9184145, '11091665'), (9184145, '11172890'), (9184145, '11173212'), (9184145, '11054311'), (9184145, '11029728'), (9184145, '9756983'), (9184145, '832888'), (9184145, '826102'), (9184145, '830409'), (9184145, '827281'), (9184145, '11055466'), (9184145, '11052622'), (9184145, '8961927'), (9184145, '1132478'), (9184145, '10765456'), (9184145, '10761616'), (9184145, '11008367'), (9184145, '7922965'), (9184145, '10458338'), (9184145, '5791374'), (9184145, '7986084'), (9184145, '9347629'), (9184145, '824984'), (9184145, '834487'), (9184145, '829973'), (9184145, '835580'), (9184145, '834762'), (9184145, '834248'), (9184145, '831770'), (9184145, '828642'), (9184145, '827856'), (9184145, '826845'), (9184145, '823717'), (9184145, '9681036'), (9184145, '9353805'), (9184145, '11119016'), (9184145, '11117289'), (9184145, '11174686'), (9184145, '11091248'), (9184145, '9159494'), (9184145, '9617133'), (9184145, '9969558'), (9184145, '9320212'), (9184145, '9258605'), (9184145, '9756142'), (9184145, '9767105'), (9184145, '10649026'), (9184145, '5807250'), (9184145, '8183974'), (9184145, '5699085'), (9184145, '5698742'), (9184145, '1921983'), (9184145, '5693589'), (9184145, '5721489'), (9184145, '1898523'), (9184145, '5695147'), (9184145, '5693384'), (9184145, '5696805'), (9184145, '11120385'), (9184145, '9631770'), (9184145, '9631751'), (9184145, '9631754'), (9184145, '9631737'), (9184145, '11173211'), (9184145, '9771707'), (9184145, '9771487'), (9184145, '5830867'), (9184145, '11120109'), (9184145, '11174776'), (9184145, '11174821'), (9184145, '11173995'), (9184145, '9681031'), (9184145, '1818178'), (9184145, '9280421'), (9184145, '11172887'), (9184145, '11119012'), (9184145, '11116983'), (9184145, '9617166'), (9184145, '9023366'), (9184145, '9022764'), (9184145, '11056119'), (9184145, '9515369'), (9184145, '9748151'), (9184145, '9497719'), (9184145, '9458043'), (9184145, '9766126'), (9184145, '9770143'), (9184145, '9811358'), (9184145, '11174827'), (9184145, '8567558'), (9184145, '8570882'), (9184145, '8718437'), (9184145, '11114435'), (9184145, '9519394'), (9184145, '9038577'), (9184145, '10696359'), (9184145, '9496620'), (9184145, '9617047'), (9184145, '7766312'), (9184145, '10708130'), (9184145, '11205244'), (9184145, '11057982'), (9184145, '11029784'), (9184145, '11205625'), (9184145, '11057183'), (9184145, '9614686'), (9184145, '9614712'), (9184145, '9709692'), (9184145, '1132041'), (9184145, '11114218'), (9184145, '11091673'), (9184145, '814271'), (9184145, '812267'), (9184145, '812935'), (9184145, '813603'), (9184145, '11205770'), (9184145, '5857625'), (9184145, '10789494'), (9184145, '9748426'), (9184145, '9741649'), (9184145, '9745181'), (9184145, '9753484'), (9184145, '9604951'), (9184145, '4850829'), (9184145, '9796163'), (9184145, '5811607'), (9184145, '9765964'), (9184145, '10732807'), (9184145, '9326871'), (9184145, '9023417'), (9184145, '10782808'), (9184145, '9789450'), (9184145, '5797382'), (9184145, '1957493'), (9184145, '1879757'), (9184145, '1991425'), (9184145, '9488060'), (9184145, '11172892'), (9184145, '11091454'), (9184145, '11091460'), (9184145, '11091188'), (9184145, '11057204'), (9184145, '8945304'), (9184145, '4975521'), (9184145, '10096897'), (9184145, '5630413'), (9184145, '8156915'), (9184145, '11029723'), (9184145, '9668456'), (9184145, '9617081'), (9184145, '10818108'), (9184145, '9852030'), (9184145, '5808336'), (9184145, '11008581'), (9184145, '9644585'), (9184145, '11091451'), (9184145, '9812909'), (9184145, '9812906'), (9184145, '11201189'), (9184145, '11054066'), (9184145, '9245229'), (9184145, '11205226'), (9184145, '9663672'), (9184145, '7872843'), (9184145, '9614037'), (9184145, '11057227'), (9184145, '5049929'), (9184145, '1587414'), (9184145, '5825017'), (9184145, '1433875'), (9184145, '1444268'), (9184145, '11037900'), (9184145, '9205877'), (9184145, '9098545'), (9184145, '9821074'), (9184145, '9756705'), (9184145, '5884790'), (9184145, '8158727'), (9184145, '1682630'), (9184145, '11201686'), (9184145, '9750096'), (9184145, '11114349'), (9184145, '7760078'), (9184145, '11114287'), (9184145, '11205722'), (9184145, '5852055'), (9184145, '9774324'), (9184145, '5819064'), (9184145, '1138904'), (9184145, '10816353'), (9184145, '1077210'), (9184145, '693032'), (9184145, '9475354'), (9184145, '11172894'), (9184145, '11172893'), (9184145, '11172891'), (9184145, '825641'), (9184145, '833606'), (9184145, '832427'), (9184145, '829299'), (9184145, '11119943'), (9184145, '11119062'), (9184145, '11119061'), (9184145, '9695358'), (9184145, '820200'), (9184145, '821680'), (9184145, '820934'), (9184145, '818364'), (9184145, '9811853'), (9184145, '9631708'), (9184145, '9073939'), (9184145, '11091489'), (9184145, '11116984'), (9184145, '11173126'), (9184145, '11057863'), (9184145, '10742240'), (9184145, '11205325'), (9184145, '9741695'), (9184145, '4978088'), (9184145, '9757515'), (9184145, '1231425'), (9184145, '9073958'), (9184145, '815303'), (9184145, '9462602'), (9184145, '7760084'), (9184145, '1371120'), (9184145, '815277'), (9184145, '8970010'), (9184145, '815364'), (9184145, '815357'), (9184145, '815309'), (9184145, '815269'), (9184145, '815270'), (9184145, '11118989'), (9184145, '1358508'), (9184145, '11207621'), (9184145, '1230351'), (9184145, '9630566'), (9184145, '11207757'), (9184145, '827510'), (9184145, '826331'), (9184145, '833117'), (9184145, '830638'), (9184145, '11207629'), (9184145, '9388516'), (9184145, '815291'), (9184145, '1184017'), (9184145, '8944675'), (9184145, '11203070'), (9184145, '9057054'), (9184145, '9658000'), (9184145, '11174777'), (9184145, '11201672'), (9184145, '9007225'), (9184145, '10618540'), (9184145, '825158'), (9184145, '819220'), (9184145, '819027'), (9184145, '819413'), (9184145, '818834'), (9184145, '9213207'), (9184145, '4770138'), (9184145, '835081'), (9184145, '820778'), (9184145, '820682'), (9184145, '9023476'), (9184145, '5637123'), (9184145, '9023232'), (9184145, '9730181'), (9184145, '9525399'), (9184145, '9658020'), (9184145, '9023317'), (9184145, '9022657'), (9184145, '9023271'), (9184145, '10792939'), (9184145, '9733278'), (9184145, '5822630'), (9184145, '11055470'), (9184145, '11700847'), (9184145, '9616242'), (9184145, '9042325'), (9184145, '10780572'), (9184145, '9111310'), (9184145, '9802184'), (9184145, '9789533'), (9184145, '8159914'), (9184145, '1230284'), (9184145, '5636683'), (9184145, '819742'), (9184145, '835091'), (9184145, '8152432'), (9184145, '9818362'), (9184145, '9819203'), (9184145, '9163974'), (9184145, '11618218'), (9184145, '9770179'), (9184145, '5802275'), (9184145, '9680876'), (9184145, '9023555'), (9184145, '9023554'), (9184145, '7840278'), (9184145, '5754882'), (9184145, '9201594'), (9184145, '835723'), (9184145, '10706160'), (9184145, '11089864'), (9184145, '815787'), (9184145, '9478080'), (9184145, '9085767'), (9184145, '826078'), (9184145, '826690'), (9184145, '826689'), (9184145, '826688'), (9184145, '9298295'), (9184145, '9304847'), (9184145, '9681203'), (9184145, '10816403'), (9184145, '11700273'), (9184145, '9329283'), (9184145, '5806514'), (9184145, '10712646'), (9184145, '11202012'), (9184145, '9741117'), (9184145, '9772852'), (9184145, '4787865'), (9184145, '10752177'), (9184145, '11027923'), (9184145, '10712545'), (9184145, '9679104'), (9184145, '11202974'), (9184145, '11061768'), (9184145, '9780483'), (9184145, '9663693'), (9184145, '9670420'), (9184145, '10791415'), (9184145, '9786657'), (9184145, '5794626'), (9184145, '11057211'), (9184145, '11700962'), (9184145, '11205227'), (9184145, '8944644'), (9184145, '11201677'), (9184145, '11116039'), (9184145, '9023448'), (9184145, '9287472'), (9184145, '11116008'), (9184145, '830363'), (9184145, '832842'), (9184145, '826056'), (9184145, '827235'), (9184145, '11207740'), (9184145, '825305'), (9184145, '835284'), (9184145, '834650'), (9184145, '833270'), (9184145, '832091'), (9184145, '11207689'), (9184145, '11119213'), (9184145, '1186925'), (9184145, '11201194'), (9184145, '10712309'), (9184145, '11117004'), (9184145, '10712301'), (9184145, '8961914'), (9184145, '9614949'), (9184145, '9681128'), (9184145, '11008449'), (9184145, '9615013'), (9184145, '9022537'), (9184145, '11096077'), (9184145, '9655074'), (9184145, '11059405'), (9184145, '10695824'), (9184145, '9889351'), (9184145, '9751367'), (9184145, '9765383'), (9184145, '9769443'), (9184145, '9753826'), (9184145, '9754109'), (9184145, '5859021'), (9184145, '11114267'), (9184145, '9296954'), (9184145, '7874966'), (9184145, '11701206'), (9184145, '11117364'), (9184145, '9680992'), (9184145, '9488017'), (9184145, '11235593'), (9184145, '9616938'), (9184145, '11091198'), (9184145, '11205772'), (9184145, '11700761'), (9184145, '1132012'), (9184145, '11092292'), (9184145, '9681027'), (9184145, '9681211'), (9184145, '9644604'), (9184145, '833581'), (9184145, '832402'), (9184145, '829274'), (9184145, '825616'), (9184145, '1045478'), (9184145, '11117012'), (9184145, '9616894'), (9184145, '9090743'), (9184145, '11057205'), (9184145, '11700794'), (9184145, '11700800'), (9184145, '11118680'), (9184145, '9616309'), (9184145, '9007837'), (9184145, '9617209'), (9184145, '9726332'), (9184145, '11120336'), (9184145, '9616335'), (9184145, '11207691'), (9184145, '11207690'), (9184145, '11118966'), (9184145, '11700858'), (9184145, '9644598'), (9184145, '9658078'), (9184145, '11120251'), (9184145, '11056109'), (9184145, '10438620'), (9184145, '9614900'), (9184145, '11202172'), (9184145, '9747687'), (9184145, '10742371'), (9184145, '11201739'), (9184145, '11201737'), (9184145, '11201736'), (9184145, '11201734'), (9184145, '11201735'), (9184145, '11201733'), (9184145, '11201732'), (9184145, '11203373'), (9184145, '9616436'), (9184145, '11118624'), (9184145, '11114569'), (9184145, '1413335'), (9184145, '11194503'), (9184145, '9741922'), (9184145, '9741005'), (9184145, '9433808'), (9184145, '9467633'), (9184145, '9679131'), (9184145, '11091982'), (9184145, '11091187'), (9184145, '11117480'), (9184145, '11092069'), (9184145, '11091694'), (9184145, '11702227'), (9184145, '11117028'), (9184145, '833343'), (9184145, '829036'), (9184145, '817515'), (9184145, '816555'), (9184145, '828951'), (9184145, '815131'), (9184145, '815796'), (9184145, '819956'), (9184145, '9056183'), (9184145, '835450'), (9184145, '833417'), (9184145, '1229413'), (9184145, '9297019'), (9184145, '11008484'), (9184145, '11701824'), (9184145, '9616654'), (9184145, '9745766'), (9184145, '9615151'), (9184145, '11700724'), (9184145, '11099471'), (9184145, '10797685'), (9184145, '5830447'), (9184145, '10721444'), (9184145, '9068531'), (9184145, '1231259'), (9184145, '696139'), (9184145, '696231'), (9184145, '11701547'), (9184145, '11701877'), (9184145, '11700966'), (9184145, '9614244'), (9184145, '8944728'), (9184145, '820419'), (9184145, '819685'), (9184145, '812939'), (9184145, '835508'), (9184145, '826773'), (9184145, '814275'), (9184145, '11114246'), (9184145, '11114248'), (9184145, '11114245'), (9184145, '9745560'), (9184145, '4854250'), (9184145, '9617035'), (9184145, '11029699'), (9184145, '1291587'), (9184145, '9800710'), (9184145, '9056802'), (9184145, '11054338'), (9184145, '11701889'), (9184145, '11701885'), (9184145, '11700853'), (9184145, '11700849'), (9184145, '9680928'), (9184145, '9007238'), (9184145, '9680886'), (9184145, '9680824'), (9184145, '9680822'), (9184145, '1358269'), (9184145, '9614731'), (9184145, '11202409'), (9184145, '5687903'), (9184145, '11700783'), (9184145, '11201695'), (9184145, '5687396'), (9184145, '9614592'), (9184145, '11702228'), (9184145, '8961940'), (9184145, '11205241'), (9184145, '11701552'), (9184145, '11173106'), (9184145, '11201935'), (9184145, '11205207'), (9184145, '11202385'), (9184145, '11201833'), (9184145, '9007232'), (9184145, '11119045'), (9184145, '11119087'), (9184145, '2056216'), (9184145, '9614309'), (9184145, '10789281'), (9184145, '9749567'), (9184145, '9314446'), (9184145, '9231789'), (9184145, '11617919'), (9184145, '9779815'), (9184145, '10773447'), (9184145, '9807457'), (9184145, '11052520'), (9184145, '11702248'), (9184145, '10773181'), (9184145, '10759985'), (9184145, '11028029'), (9184145, '9616059'), (9184145, '11025961'), (9184145, '11008466'), (9184145, '9336561'), (9184145, '11206187'), (9184145, '11161944'), (9184145, '11029696'), (9184145, '11201727'), (9184145, '11201722'), (9184145, '11702354'), (9184145, '9617675'), (9184145, '1044958'), (9184145, '1845128'), (9184145, '1969172'), (9184145, '11173345'), (9184145, '8945359'), (9184145, '829552'), (9184145, '835159'), (9184145, '826424'), (9184145, '823296'), (9184145, '831877'), (9184145, '828749'), (9184145, '834355'), (9184145, '825091'), (9184145, '11700747'), (9184145, '11700852'), (9184145, '11116940'), (9184145, '11114244'), (9184145, '9614632'), (9184145, '11201671'), (9184145, '9007202'), (9184145, '11055458'), (9184145, '11700777'), (9184145, '9631745'), (9184145, '9631731'), (9184145, '9631741'), (9184145, '10712558'), (9184145, '11091683'), (9184145, '5636688'), (9184145, '818112'), (9184145, '831303'), (9184145, '9615956'), (9184145, '9483971'), (9184145, '11089881'), (9184145, '9608178'), (9184145, '7766309'), (9184145, '1371180'), (9184145, '10799042'), (9184145, '9658079'), (9184145, '9809623'), (9184145, '11117223'), (9184145, '11117470'), (9184145, '10694513'), (9184145, '1388851'), (9184145, '10256682'), (9184145, '11091196'), (9184145, '9396865'), (9184145, '5826117'), (9184145, '11702172'), (9184145, '11708837'), (9184145, '9616228'), (9184145, '9615969'), (9184145, '5804693'), (9184145, '9794559'), (9184145, '11205149'), (9184145, '9457673'), (9184145, '9090751'), (9184145, '9731640'), (9184145, '9752321'), (9184145, '9730036'), (9184145, '9815516'), (9184145, '8151683'), (9184145, '9755665'), (9184145, '9739563'), (9184145, '5865605'), (9184145, '5846963'), (9184145, '5844917'), (9184145, '5848261'), (9184145, '5850289'), (9184145, '11120406'), (9184145, '11117290'), (9184145, '9022870'), (9184145, '9377158'), (9184145, '832100'), (9184145, '832099'), (9184145, '832098'), (9184145, '815717'), (9184145, '820220'), (9184145, '819021'), (9184145, '820954'), (9184145, '825314'), (9184145, '11114865'), (9184145, '11114370'), (9184145, '9073977'), (9184145, '9073954'), (9184145, '11057172'), (9184145, '9616783'), (9184145, '1135255'), (9184145, '11702131'), (9184145, '11120483'), (9184145, '9755398'), (9184145, '9737893'), (9184145, '832143'), (9184145, '833322'), (9184145, '829015'), (9184145, '825357'), (9184145, '835106'), (9184145, '824542'), (9184145, '9809229'), (9184145, '10502789'), (9184145, '10380661'), (9184145, '6415993'), (9184145, '4786469'), (9184145, '8168513'), (9184145, '8167593'), (9184145, '8167473'), (9184145, '9089133'), (9184145, '9211858'), (9184145, '9160835'), (9184145, '6745279'), (9184145, '6745265'), (9184145, '7838958'), (9184145, '7837537'), (9184145, '1093866'), (9184145, '5597721'), (9184145, '5796215'), (9184145, '11029690'), (9184145, '11708923'), (9184145, '11708415'), (9184145, '9753979'), (9184145, '11708343'), (9184145, '11174880'), (9184145, '11207654'), (9184145, '9617564'), (9184145, '11207667'), (9184145, '9184066'), (9184145, '9617078'), (9184145, '9617076'), (9184145, '11700963'), (9184145, '11057667'), (9184145, '11207780'), (9184145, '11118495'), (9184145, '9617671'), (9184145, '11205589'), (9184145, '9489035'), (9184145, '9470261'), (9184145, '8914655'), (9184145, '9075073'), (9184145, '9006593'), (9184145, '5546980'), (9184145, '11712119'), (9184145, '4764678'), (9184145, '9057548'), (9184145, '1699090'), (9184145, '1231962'), (9184145, '5809086'), (9184145, '11118462'), (9184145, '11712171'), (9184145, '11011863'), (9184145, '9737401'), (9184145, '9744796'), (9184145, '9172156'), (9184145, '5821477'), (9184145, '8920147'), (9184145, '10509213'), (9184145, '9156105'), (9184145, '11205646'), (9184145, '9332446'), (9184145, '9390604')])"
      ]
     },
     "execution_count": 63,
     "metadata": {},
     "output_type": "execute_result"
    }
   ],
   "source": [
    "G.edges(selected_node)"
   ]
  },
  {
   "cell_type": "code",
   "execution_count": 33,
   "metadata": {},
   "outputs": [
    {
     "name": "stdout",
     "output_type": "stream",
     "text": [
      "Network density: 6.715007207530386e-06\n"
     ]
    }
   ],
   "source": [
    "density = nx.density(G)\n",
    "print(\"Network density:\", density)"
   ]
  },
  {
   "cell_type": "code",
   "execution_count": 35,
   "metadata": {},
   "outputs": [],
   "source": [
    "degree_dict = dict(G.degree(G.nodes()))"
   ]
  },
  {
   "cell_type": "code",
   "execution_count": 36,
   "metadata": {},
   "outputs": [],
   "source": [
    "nx.set_node_attributes(G, degree_dict, 'degree')"
   ]
  },
  {
   "cell_type": "code",
   "execution_count": 38,
   "metadata": {},
   "outputs": [],
   "source": [
    "from operator import itemgetter"
   ]
  },
  {
   "cell_type": "code",
   "execution_count": 39,
   "metadata": {},
   "outputs": [],
   "source": [
    "sorted_degree = sorted(degree_dict.items(), key=itemgetter(1), reverse=True)"
   ]
  },
  {
   "cell_type": "code",
   "execution_count": 45,
   "metadata": {},
   "outputs": [
    {
     "name": "stdout",
     "output_type": "stream",
     "text": [
      "Top 20 nodes by degree:\n",
      "9184145\n",
      "9410986\n",
      "10742405\n",
      "9617550\n",
      "9658064\n",
      "9185472\n",
      "1370772\n",
      "1207951\n",
      "9696377\n",
      "9506892\n",
      "9630564\n",
      "9644566\n",
      "9696379\n",
      "9245159\n",
      "9326736\n",
      "9617511\n",
      "9427247\n",
      "9210154\n",
      "9644605\n",
      "9184145\n"
     ]
    }
   ],
   "source": [
    "print(\"Top 20 nodes by degree:\")\n",
    "for d in sorted_degree[:20]:\n",
    "    print(d[0])"
   ]
  },
  {
   "cell_type": "code",
   "execution_count": 46,
   "metadata": {},
   "outputs": [
    {
     "data": {
      "text/plain": [
       "EdgeDataView([(9184145, '5656269'), (9184145, '9106916'), (9184145, '9007275'), (9184145, '9187394'), (9184145, '5611872'), (9184145, '9184145'), (9184145, '9158057'), (9184145, '9090780'), (9184145, '8991239'), (9184145, '8945066'), (9184145, '8931890'), (9184145, '8931889'), (9184145, '5651260'), (9184145, '5636739'), (9184145, '5612475'), (9184145, '5547106'), (9184145, '9299114'), (9184145, '9301186'), (9184145, '9290265'), (9184145, '9291819'), (9184145, '9338985'), (9184145, '9338974'), (9184145, '9103567'), (9184145, '5008790'), (9184145, '9229684'), (9184145, '9158081'), (9184145, '9090776'), (9184145, '8959428'), (9184145, '8740875'), (9184145, '7778914'), (9184145, '5580330'), (9184145, '9269122'), (9184145, '9273776'), (9184145, '9276910'), (9184145, '9254825'), (9184145, '9237801'), (9184145, '9261318'), (9184145, '9342499'), (9184145, '9411090'), (9184145, '9230658'), (9184145, '1420114'), (9184145, '9007237'), (9184145, '9176259'), (9184145, '9338952'), (9184145, '9338620'), (9184145, '1420001'), (9184145, '9475252'), (9184145, '9489622'), (9184145, '9412578'), (9184145, '9503259'), (9184145, '9146078'), (9184145, '5043091'), (9184145, '1358481'), (9184145, '1379365'), (9184145, '1339960'), (9184145, '8944805'), (9184145, '9410662'), (9184145, '9349624'), (9184145, '5567047'), (9184145, '9280791'), (9184145, '9427247'), (9184145, '9245245'), (9184145, '9388554'), (9184145, '5684544'), (9184145, '8959427'), (9184145, '9349626'), (9184145, '9364154'), (9184145, '1370829'), (9184145, '9006702'), (9184145, '9042479'), (9184145, '9034874'), (9184145, '9209060'), (9184145, '9230594'), (9184145, '9326734'), (9184145, '9440768'), (9184145, '9326015'), (9184145, '9506886'), (9184145, '9185400'), (9184145, '4734892'), (9184145, '5002528'), (9184145, '1339644'), (9184145, '1326628'), (9184145, '1207951'), (9184145, '1145956'), (9184145, '9518623'), (9184145, '9585532'), (9184145, '9525504'), (9184145, '9306395'), (9184145, '9203966'), (9184145, '1571551'), (9184145, '5012691'), (9184145, '5651913'), (9184145, '9513410'), (9184145, '1396914'), (9184145, '9607874'), (9184145, '9603896'), (9184145, '1207994'), (9184145, '320441'), (9184145, '728634'), (9184145, '9614648'), (9184145, '1244769'), (9184145, '693147'), (9184145, '693199'), (9184145, '322375'), (9184145, '9617620'), (9184145, '9616914'), (9184145, '9617368'), (9184145, '9617546'), (9184145, '8945349'), (9184145, '9410673'), (9184145, '8944802'), (9184145, '9410674'), (9184145, '8944809'), (9184145, '1132025'), (9184145, '1131927'), (9184145, '1131968'), (9184145, '4991484'), (9184145, '9410651'), (9184145, '9410650'), (9184145, '9410649'), (9184145, '9410648'), (9184145, '8944790'), (9184145, '9603157'), (9184145, '4975442'), (9184145, '1131960'), (9184145, '8944785'), (9184145, '1099472'), (9184145, '9073945'), (9184145, '5612498'), (9184145, '1132028'), (9184145, '1131921'), (9184145, '9679098'), (9184145, '9657991'), (9184145, '9638755'), (9184145, '9648839'), (9184145, '9637640'), (9184145, '9620970'), (9184145, '9648844'), (9184145, '9680850'), (9184145, '9670873'), (9184145, '1043260'), (9184145, '9696050'), (9184145, '9631858'), (9184145, '9631756'), (9184145, '9631736'), (9184145, '5580644'), (9184145, '5043106'), (9184145, '4975427'), (9184145, '1068792'), (9184145, '1132005'), (9184145, '1132004'), (9184145, '1358491'), (9184145, '323360'), (9184145, '9631889'), (9184145, '9713245'), (9184145, '9700647'), (9184145, '9650394'), (9184145, '9648264'), (9184145, '9634352'), (9184145, '9679100'), (9184145, '9679099'), (9184145, '9616200'), (9184145, '9679053'), (9184145, '10060058'), (9184145, '9774112'), (9184145, '9762152'), (9184145, '8159324'), (9184145, '10061307'), (9184145, '10098691'), (9184145, '9657993'), (9184145, '9644544'), (9184145, '9616741'), (9184145, '5612238'), (9184145, '5612214'), (9184145, '5612213'), (9184145, '5612226'), (9184145, '9616142'), (9184145, '9614952'), (9184145, '10064414'), (9184145, '9665616'), (9184145, '9665615'), (9184145, '9614764'), (9184145, '9279806'), (9184145, '9279795'), (9184145, '7874797'), (9184145, '7874796'), (9184145, '823274'), (9184145, '6145131'), (9184145, '10026070'), (9184145, '10000994'), (9184145, '8945281'), (9184145, '9615164'), (9184145, '8991291'), (9184145, '9525100'), (9184145, '9617577'), (9184145, '9617541'), (9184145, '9038581'), (9184145, '10026069'), (9184145, '10026068'), (9184145, '10013030'), (9184145, '10027156'), (9184145, '10021609'), (9184145, '10021608'), (9184145, '10033259'), (9184145, '10033261'), (9184145, '9614131'), (9184145, '832765'), (9184145, '833600'), (9184145, '817620'), (9184145, '817619'), (9184145, '5687572'), (9184145, '9616293'), (9184145, '9614825'), (9184145, '8167984'), (9184145, '5813757'), (9184145, '9616288'), (9184145, '9616379'), (9184145, '9616260'), (9184145, '9185469'), (9184145, '9617552'), (9184145, '9614676'), (9184145, '9616784'), (9184145, '9279897'), (9184145, '9617316'), (9184145, '9710059'), (9184145, '9616518'), (9184145, '8944775'), (9184145, '693300'), (9184145, '5813424'), (9184145, '9657994'), (9184145, '5842989'), (9184145, '9057697'), (9184145, '9681561'), (9184145, '9617601'), (9184145, '9614740'), (9184145, '9616330'), (9184145, '9613940'), (9184145, '9696381'), (9184145, '9630564'), (9184145, '9658064'), (9184145, '9696335'), (9184145, '9696489'), (9184145, '9613843'), (9184145, '9617707'), (9184145, '9440762'), (9184145, '9410584'), (9184145, '8945290'), (9184145, '9213205'), (9184145, '9616924'), (9184145, '9617043'), (9184145, '5796671'), (9184145, '5801835'), (9184145, '9279979'), (9184145, '9279721'), (9184145, '10046533'), (9184145, '10037871'), (9184145, '9614667'), (9184145, '829293'), (9184145, '832421'), (9184145, '825635'), (9184145, '5773651'), (9184145, '5764323'), (9184145, '9388630'), (9184145, '10024268'), (9184145, '9019434'), (9184145, '9335825'), (9184145, '1613483'), (9184145, '9578928'), (9184145, '9696375'), (9184145, '9786736'), (9184145, '1424177'), (9184145, '9349379'), (9184145, '5852438'), (9184145, '5535049'), (9184145, '1721611'), (9184145, '1701458'), (9184145, '1725155'), (9184145, '5861281'), (9184145, '5600320'), (9184145, '8151337'), (9184145, '1686498'), (9184145, '9801975'), (9184145, '9475372'), (9184145, '9475375'), (9184145, '9297163'), (9184145, '9388510'), (9184145, '9680885'), (9184145, '9506821'), (9184145, '5666871'), (9184145, '9328502'), (9184145, '10004287'), (9184145, '10008053'), (9184145, '9836228'), (9184145, '7856552'), (9184145, '5656264'), (9184145, '9631714'), (9184145, '9616352'), (9184145, '10068235'), (9184145, '9056343'), (9184145, '1179220'), (9184145, '9696329'), (9184145, '9696328'), (9184145, '9613856'), (9184145, '9613858'), (9184145, '9630287'), (9184145, '9631869'), (9184145, '9631867'), (9184145, '9631865'), (9184145, '9631760'), (9184145, '9410586'), (9184145, '8945270'), (9184145, '5656261'), (9184145, '5656265'), (9184145, '9614884'), (9184145, '9012270'), (9184145, '9658017'), (9184145, '4724636'), (9184145, '910740'), (9184145, '9018350'), (9184145, '9073957'), (9184145, '10086007'), (9184145, '9225426'), (9184145, '5659105'), (9184145, '812242'), (9184145, '812598'), (9184145, '814122'), (9184145, '812786'), (9184145, '816279'), (9184145, '816744'), (9184145, '817239'), (9184145, '817704'), (9184145, '815438'), (9184145, '9696639'), (9184145, '9860907'), (9184145, '9982403'), (9184145, '9213160'), (9184145, '9279888'), (9184145, '10026334'), (9184145, '9728720'), (9184145, '9680823'), (9184145, '10044255'), (9184145, '9780009'), (9184145, '10191333'), (9184145, '9757017'), (9184145, '9775964'), (9184145, '9776659'), (9184145, '10049199'), (9184145, '10051988'), (9184145, '9770075'), (9184145, '9774550'), (9184145, '9775089'), (9184145, '9616942'), (9184145, '9614204'), (9184145, '9506909'), (9184145, '9617378'), (9184145, '9350351'), (9184145, '5687895'), (9184145, '5593662'), (9184145, '9279673'), (9184145, '10026083'), (9184145, '10012227'), (9184145, '10016758'), (9184145, '9989846'), (9184145, '10031460'), (9184145, '9280002'), (9184145, '9616206'), (9184145, '9022871'), (9184145, '9022844'), (9184145, '9279960'), (9184145, '9617519'), (9184145, '7757463'), (9184145, '9614333'), (9184145, '9614393'), (9184145, '9614328'), (9184145, '9614364'), (9184145, '9614036'), (9184145, '9212328'), (9184145, '9212327'), (9184145, '10553222'), (9184145, '9973469'), (9184145, '5792561'), (9184145, '9812063'), (9184145, '9680867'), (9184145, '5836680'), (9184145, '833663'), (9184145, '832484'), (9184145, '825698'), (9184145, '10030869'), (9184145, '10011577'), (9184145, '10021941'), (9184145, '9988082'), (9184145, '9741404'), (9184145, '10063665'), (9184145, '10088863'), (9184145, '9279731'), (9184145, '830350'), (9184145, '832829'), (9184145, '9658116'), (9184145, '9746648'), (9184145, '9128209'), (9184145, '6767348'), (9184145, '6833461'), (9184145, '6832569'), (9184145, '9958670'), (9184145, '9263685'), (9184145, '8944768'), (9184145, '10436454'), (9184145, '8974298'), (9184145, '9618993'), (9184145, '10029164'), (9184145, '10018190'), (9184145, '10034932'), (9184145, '10033012'), (9184145, '10031251'), (9184145, '9943029'), (9184145, '9824443'), (9184145, '9296953'), (9184145, '8944960'), (9184145, '5580643'), (9184145, '9631706'), (9184145, '1131910'), (9184145, '9525389'), (9184145, '9631716'), (9184145, '8944959'), (9184145, '5687583'), (9184145, '5687575'), (9184145, '5612497'), (9184145, '1087232'), (9184145, '5656266'), (9184145, '1358510'), (9184145, '1132120'), (9184145, '1132007'), (9184145, '9644605'), (9184145, '9410986'), (9184145, '10086089'), (9184145, '828164'), (9184145, '829113'), (9184145, '828751'), (9184145, '828750'), (9184145, '833420'), (9184145, '834357'), (9184145, '834356'), (9184145, '814152'), (9184145, '812816'), (9184145, '835070'), (9184145, '7835426'), (9184145, '5849896'), (9184145, '9726280'), (9184145, '4975408'), (9184145, '10021033'), (9184145, '10031756'), (9184145, '10040583'), (9184145, '9775859'), (9184145, '9765817'), (9184145, '9479968'), (9184145, '9435048'), (9184145, '8970626'), (9184145, '5784587'), (9184145, '1178701'), (9184145, '9617550'), (9184145, '9244689'), (9184145, '9614336'), (9184145, '9617377'), (9184145, '9614438'), (9184145, '9679124'), (9184145, '9758042'), (9184145, '5568963'), (9184145, '9807056'), (9184145, '10085673'), (9184145, '9747412'), (9184145, '9615163'), (9184145, '5773934'), (9184145, '9799229'), (9184145, '9734187'), (9184145, '9488018'), (9184145, '9043631'), (9184145, '9071144'), (9184145, '10059473'), (9184145, '10000414'), (9184145, '9615105'), (9184145, '10691633'), (9184145, '10035658'), (9184145, '10032721'), (9184145, '5848470'), (9184145, '8991205'), (9184145, '10053559'), (9184145, '10049202'), (9184145, '10072223'), (9184145, '8160119'), (9184145, '10077351'), (9184145, '9058152'), (9184145, '9616093'), (9184145, '9520310'), (9184145, '9631921'), (9184145, '9680877'), (9184145, '9525134'), (9184145, '9617379'), (9184145, '9679125'), (9184145, '10694579'), (9184145, '9709749'), (9184145, '8991550'), (9184145, '9054884'), (9184145, '7366958'), (9184145, '9615057'), (9184145, '10006103'), (9184145, '9995931'), (9184145, '9994791'), (9184145, '10051212'), (9184145, '10057216'), (9184145, '10037573'), (9184145, '1853794'), (9184145, '9279817'), (9184145, '9280041'), (9184145, '9843914'), (9184145, '9814190'), (9184145, '10082584'), (9184145, '9313187'), (9184145, '9364013'), (9184145, '1426765'), (9184145, '1625655'), (9184145, '9696486'), (9184145, '9741618'), (9184145, '1440533'), (9184145, '9784004'), (9184145, '9784005'), (9184145, '9778670'), (9184145, '10056296'), (9184145, '9803364'), (9184145, '9785808'), (9184145, '1674623'), (9184145, '9776707'), (9184145, '9615060'), (9184145, '8160807'), (9184145, '9326290'), (9184145, '9325592'), (9184145, '9465318'), (9184145, '9996730'), (9184145, '10002624'), (9184145, '10600355'), (9184145, '1228338'), (9184145, '9016547'), (9184145, '10082966'), (9184145, '8000403'), (9184145, '9280432'), (9184145, '9657980'), (9184145, '9644580'), (9184145, '9074389'), (9184145, '9159147'), (9184145, '9695893'), (9184145, '9617580'), (9184145, '1180288'), (9184145, '5765704'), (9184145, '10445022'), (9184145, '9973607'), (9184145, '10010575'), (9184145, '10051961'), (9184145, '10022875'), (9184145, '10001644'), (9184145, '9613879'), (9184145, '10016605'), (9184145, '10029836'), (9184145, '9986506'), (9184145, '10038964'), (9184145, '10059026'), (9184145, '10074315'), (9184145, '10046447'), (9184145, '9810609'), (9184145, '9795203'), (9184145, '10043372'), (9184145, '10013589'), (9184145, '5848061'), (9184145, '10052547'), (9184145, '10324577'), (9184145, '9763864'), (9184145, '9731562'), (9184145, '9410690'), (9184145, '8944813'), (9184145, '8974318'), (9184145, '829047'), (9184145, '828653'), (9184145, '833354'), (9184145, '834259'), (9184145, '9614097'), (9184145, '9055597'), (9184145, '9681556'), (9184145, '814162'), (9184145, '820908'), (9184145, '835094'), (9184145, '814293'), (9184145, '814301'), (9184145, '9022889'), (9184145, '9022807'), (9184145, '9022711'), (9184145, '9022562'), (9184145, '9022706'), (9184145, '9022884'), (9184145, '9279874'), (9184145, '9279775'), (9184145, '7861054'), (9184145, '10028643'), (9184145, '9616985'), (9184145, '9617150'), (9184145, '9990310'), (9184145, '10694449'), (9184145, '10060217'), (9184145, '10051498'), (9184145, '9726285'), (9184145, '9488122'), (9184145, '9213256'), (9184145, '9616739'), (9184145, '9614750'), (9184145, '9506351'), (9184145, '10058831'), (9184145, '9616147'), (9184145, '830292'), (9184145, '832771'), (9184145, '827164'), (9184145, '825985'), (9184145, '1229282'), (9184145, '9007343'), (9184145, '9007261'), (9184145, '10694516'), (9184145, '9525370'), (9184145, '9709748'), (9184145, '8974292'), (9184145, '8944761'), (9184145, '9212337'), (9184145, '9212336'), (9184145, '9244692'), (9184145, '8944770'), (9184145, '8944777'), (9184145, '8944776'), (9184145, '7757594'), (9184145, '9617200'), (9184145, '9617110'), (9184145, '9617058'), (9184145, '9617056'), (9184145, '10001591'), (9184145, '9279809'), (9184145, '9279797'), (9184145, '5687900'), (9184145, '9616876'), (9184145, '5593663'), (9184145, '9212295'), (9184145, '7719068'), (9184145, '8962223'), (9184145, '10712308'), (9184145, '10712303'), (9184145, '9778843'), (9184145, '9770270'), (9184145, '5866094'), (9184145, '9813328'), (9184145, '9101422'), (9184145, '9364808'), (9184145, '10714324'), (9184145, '9012768'), (9184145, '9090929'), (9184145, '4853937'), (9184145, '1217984'), (9184145, '10083034'), (9184145, '9023158'), (9184145, '10071913'), (9184145, '1128214'), (9184145, '9057093'), (9184145, '9616126'), (9184145, '9981481'), (9184145, '9747346'), (9184145, '10066379'), (9184145, '9614356'), (9184145, '10087045'), (9184145, '5857755'), (9184145, '5852989'), (9184145, '816039'), (9184145, '816519'), (9184145, '816999'), (9184145, '817479'), (9184145, '814835'), (9184145, '9680761'), (9184145, '9245156'), (9184145, '9680879'), (9184145, '9073962'), (9184145, '9440412'), (9184145, '9680848'), (9184145, '9680846'), (9184145, '9680845'), (9184145, '9680814'), (9184145, '9680816'), (9184145, '5612521'), (9184145, '9410587'), (9184145, '9993326'), (9184145, '10021074'), (9184145, '10081815'), (9184145, '10057396'), (9184145, '10058849'), (9184145, '10045346'), (9184145, '10052262'), (9184145, '10070455'), (9184145, '9617602'), (9184145, '10007962'), (9184145, '830405'), (9184145, '830410'), (9184145, '832889'), (9184145, '832884'), (9184145, '832242'), (9184145, '829114'), (9184145, '827282'), (9184145, '827277'), (9184145, '833421'), (9184145, '10713003'), (9184145, '9037823'), (9184145, '9657992'), (9184145, '10038648'), (9184145, '9617590'), (9184145, '9426949'), (9184145, '10311072'), (9184145, '9349192'), (9184145, '4821219'), (9184145, '1437868'), (9184145, '1025742'), (9184145, '1620846'), (9184145, '1045446'), (9184145, '9279679'), (9184145, '9279677'), (9184145, '9279676'), (9184145, '9506759'), (9184145, '816747'), (9184145, '817707'), (9184145, '8991577'), (9184145, '9038644'), (9184145, '9350481'), (9184145, '9091862'), (9184145, '9279668'), (9184145, '10032381'), (9184145, '5636424'), (9184145, '8974042'), (9184145, '10048193'), (9184145, '816250'), (9184145, '816730'), (9184145, '817210'), (9184145, '817690'), (9184145, '826103'), (9184145, '826098'), (9184145, '9230542'), (9184145, '7757585'), (9184145, '10031797'), (9184145, '9022788'), (9184145, '9506846'), (9184145, '9506844'), (9184145, '9023388'), (9184145, '9023264'), (9184145, '9616127'), (9184145, '9297018'), (9184145, '9989250'), (9184145, '9506706'), (9184145, '9475408'), (9184145, '9980140'), (9184145, '9980261'), (9184145, '10057295'), (9184145, '10059027'), (9184145, '10059029'), (9184145, '9616505'), (9184145, '9779283'), (9184145, '5813391'), (9184145, '9475324'), (9184145, '9679101'), (9184145, '9230596'), (9184145, '9616135'), (9184145, '9980188'), (9184145, '10056735'), (9184145, '5687588'), (9184145, '5612496'), (9184145, '9630304'), (9184145, '9680787'), (9184145, '9680785'), (9184145, '9657983'), (9184145, '9681472'), (9184145, '10712537'), (9184145, '9614482'), (9184145, '9658066'), (9184145, '9709733'), (9184145, '9614010'), (9184145, '9616531'), (9184145, '9617604'), (9184145, '9617605'), (9184145, '1132074'), (9184145, '1207997'), (9184145, '1132053'), (9184145, '9488061'), (9184145, '10712664'), (9184145, '10694450'), (9184145, '9488029'), (9184145, '9631759'), (9184145, '9680809'), (9184145, '9631724'), (9184145, '9680773'), (9184145, '1358502'), (9184145, '1043262'), (9184145, '8961924'), (9184145, '8944720'), (9184145, '10052871'), (9184145, '9614390'), (9184145, '9614379'), (9184145, '7757592'), (9184145, '9710185'), (9184145, '9696378'), (9184145, '9644568'), (9184145, '9644566'), (9184145, '9074367'), (9184145, '8945279'), (9184145, '8945289'), (9184145, '9185472'), (9184145, '9617520'), (9184145, '9617516'), (9184145, '9073991'), (9184145, '9073989'), (9184145, '9073972'), (9184145, '9777602'), (9184145, '9757887'), (9184145, '8158699'), (9184145, '9051746'), (9184145, '9818652'), (9184145, '9468512'), (9184145, '5657067'), (9184145, '8929205'), (9184145, '9020670'), (9184145, '10073222'), (9184145, '9615972'), (9184145, '9276411'), (9184145, '5687586'), (9184145, '9631712'), (9184145, '8944767'), (9184145, '8962219'), (9184145, '9280012'), (9184145, '9279914'), (9184145, '9614133'), (9184145, '9696379'), (9184145, '9681480'), (9184145, '9696377'), (9184145, '9007351'), (9184145, '8961962'), (9184145, '6745285'), (9184145, '831328'), (9184145, '828200'), (9184145, '828262'), (9184145, '829268'), (9184145, '829081'), (9184145, '827560'), (9184145, '826993'), (9184145, '835728'), (9184145, '833575'), (9184145, '833167'), (9184145, '833388'), (9184145, '833868'), (9184145, '812579'), (9184145, '10712551'), (9184145, '9644556'), (9184145, '9617376'), (9184145, '9616922'), (9184145, '9617149'), (9184145, '9615993'), (9184145, '9615144'), (9184145, '9614734'), (9184145, '9614436'), (9184145, '9614231'), (9184145, '1708474'), (9184145, '1743293'), (9184145, '1791293'), (9184145, '9734292'), (9184145, '10042057'), (9184145, '816626'), (9184145, '817586'), (9184145, '9350398'), (9184145, '9614020'), (9184145, '9656636'), (9184145, '9617480'), (9184145, '9617064'), (9184145, '9617106'), (9184145, '9617091'), (9184145, '9022665'), (9184145, '7757554'), (9184145, '8944778'), (9184145, '9022614'), (9184145, '9022883'), (9184145, '9979485'), (9184145, '10026794'), (9184145, '5593861'), (9184145, '9739229'), (9184145, '9733648'), (9184145, '9776289'), (9184145, '9789490'), (9184145, '9665775'), (9184145, '10714301'), (9184145, '10714261'), (9184145, '5852948'), (9184145, '5848617'), (9184145, '9817197'), (9184145, '9279750'), (9184145, '8917715'), (9184145, '5806818'), (9184145, '1290487'), (9184145, '7874957'), (9184145, '5774231'), (9184145, '1163961'), (9184145, '9614039'), (9184145, '9658040'), (9184145, '9007385'), (9184145, '9617168'), (9184145, '9440413'), (9184145, '10062287'), (9184145, '9023430'), (9184145, '5612221'), (9184145, '9616325'), (9184145, '5687303'), (9184145, '9023309'), (9184145, '9023251'), (9184145, '9614699'), (9184145, '9022692'), (9184145, '9616063'), (9184145, '9458149'), (9184145, '1389291'), (9184145, '9631855'), (9184145, '10712304'), (9184145, '9233924'), (9184145, '1371181'), (9184145, '9630290'), (9184145, '9410691'), (9184145, '9073947'), (9184145, '1128212'), (9184145, '9457695'), (9184145, '10054807'), (9184145, '9616329'), (9184145, '825456'), (9184145, '9615125'), (9184145, '10081398'), (9184145, '9617472'), (9184145, '9616751'), (9184145, '9613873'), (9184145, '9280441'), (9184145, '7757579'), (9184145, '9995640'), (9184145, '10002660'), (9184145, '9984528'), (9184145, '9998210'), (9184145, '9979441'), (9184145, '9972842'), (9184145, '10030935'), (9184145, '10021414'), (9184145, '10011002'), (9184145, '10018522'), (9184145, '10007774'), (9184145, '10009750'), (9184145, '1132081'), (9184145, '9038597'), (9184145, '9440411'), (9184145, '9440410'), (9184145, '9073946'), (9184145, '9410679'), (9184145, '9616740'), (9184145, '9244684'), (9184145, '9614380'), (9184145, '9614389'), (9184145, '10187027'), (9184145, '8989063'), (9184145, '9349424'), (9184145, '9768052'), (9184145, '9808665'), (9184145, '9166932'), (9184145, '5838474'), (9184145, '9989882'), (9184145, '9976766'), (9184145, '10020775'), (9184145, '746719'), (9184145, '9974058'), (9184145, '9984257'), (9184145, '9985166'), (9184145, '10025717'), (9184145, '10020976'), (9184145, '1231774'), (9184145, '1231773'), (9184145, '834542'), (9184145, '833840'), (9184145, '820495'), (9184145, '820646'), (9184145, '820285'), (9184145, '835225'), (9184145, '9726228'), (9184145, '9613852'), (9184145, '9145640'), (9184145, '9617445'), (9184145, '9616919'), (9184145, '9022843'), (9184145, '9213190'), (9184145, '9074240'), (9184145, '8961954'), (9184145, '10036614'), (9184145, '9475409'), (9184145, '9326736'), (9184145, '9245159'), (9184145, '9616536'), (9184145, '10059028'), (9184145, '9614207'), (9184145, '9456470'), (9184145, '10693668'), (9184145, '9656425'), (9184145, '9478785'), (9184145, '9383855'), (9184145, '8957368'), (9184145, '1298503'), (9184145, '9052986'), (9184145, '1443826'), (9184145, '9709849'), (9184145, '10017972'), (9184145, '9616616'), (9184145, '10000563'), (9184145, '9982632'), (9184145, '10030758'), (9184145, '10018037'), (9184145, '10040484'), (9184145, '10040343'), (9184145, '9616519'), (9184145, '10005871'), (9184145, '10063105'), (9184145, '10062904'), (9184145, '9614738'), (9184145, '9614772'), (9184145, '9980799'), (9184145, '9256907'), (9184145, '693194'), (9184145, '9022517'), (9184145, '10027160'), (9184145, '10019182'), (9184145, '9785994'), (9184145, '9981391'), (9184145, '9968555'), (9184145, '10266687'), (9184145, '9093117'), (9184145, '4762123'), (9184145, '5789604'), (9184145, '7895192'), (9184145, '1677010'), (9184145, '1052281'), (9184145, '5770142'), (9184145, '7681894'), (9184145, '953042'), (9184145, '9617437'), (9184145, '9938276'), (9184145, '9988014'), (9184145, '9993387'), (9184145, '9756045'), (9184145, '9981087'), (9184145, '9983204'), (9184145, '9785124'), (9184145, '10087349'), (9184145, '9171054'), (9184145, '9659256'), (9184145, '9710359'), (9184145, '9745004'), (9184145, '9765771'), (9184145, '10042394'), (9184145, '9794556'), (9184145, '9818570'), (9184145, '9631757'), (9184145, '5656262'), (9184145, '10062980'), (9184145, '9800427'), (9184145, '10088472'), (9184145, '9021695'), (9184145, '5015673'), (9184145, '5862784'), (9184145, '5817952'), (9184145, '5812745'), (9184145, '9012327'), (9184145, '1230889'), (9184145, '9617380'), (9184145, '9710060'), (9184145, '10795006'), (9184145, '10001453'), (9184145, '9742093'), (9184145, '9771929'), (9184145, '829929'), (9184145, '826801'), (9184145, '835536'), (9184145, '823673'), (9184145, '9813131'), (9184145, '831253'), (9184145, '828125'), (9184145, '835031'), (9184145, '815439'), (9184145, '811959'), (9184145, '813295'), (9184145, '824467'), (9184145, '9058379'), (9184145, '9279682'), (9184145, '9616234'), (9184145, '9631852'), (9184145, '9631854'), (9184145, '5687339'), (9184145, '9614719'), (9184145, '9279829'), (9184145, '10074536'), (9184145, '10067619'), (9184145, '9325961'), (9184145, '9615161'), (9184145, '9616384'), (9184145, '9090757'), (9184145, '9616265'), (9184145, '9616381'), (9184145, '2056215'), (9184145, '9614168'), (9184145, '10369299'), (9184145, '9986500'), (9184145, '1131881'), (9184145, '9280764'), (9184145, '10742391'), (9184145, '821350'), (9184145, '820604'), (9184145, '819870'), (9184145, '818034'), (9184145, '1081113'), (9184145, '8932156'), (9184145, '1133110'), (9184145, '9614927'), (9184145, '5547463'), (9184145, '9709836'), (9184145, '9709837'), (9184145, '9658147'), (9184145, '9617700'), (9184145, '9007490'), (9184145, '4721723'), (9184145, '7757597'), (9184145, '4826963'), (9184145, '10046617'), (9184145, '9996039'), (9184145, '839589'), (9184145, '1379704'), (9184145, '1080933'), (9184145, '9990918'), (9184145, '10000745'), (9184145, '9736368'), (9184145, '1371019'), (9184145, '10055775'), (9184145, '10078344'), (9184145, '5658457'), (9184145, '819925'), (9184145, '820659'), (9184145, '821405'), (9184145, '818089'), (9184145, '5830654'), (9184145, '10429336'), (9184145, '10672720'), (9184145, '9074300'), (9184145, '9457896'), (9184145, '9616504'), (9184145, '5043103'), (9184145, '9761458'), (9184145, '1185085'), (9184145, '5869436'), (9184145, '9614926'), (9184145, '9296683'), (9184145, '5071967'), (9184145, '5844239'), (9184145, '9769804'), (9184145, '9774574'), (9184145, '1432618'), (9184145, '9728103'), (9184145, '10020720'), (9184145, '9768865'), (9184145, '10066525'), (9184145, '10047545'), (9184145, '1208373'), (9184145, '9800329'), (9184145, '9732787'), (9184145, '10057715'), (9184145, '9184501'), (9184145, '9038144'), (9184145, '9810078'), (9184145, '8214484'), (9184145, '9993667'), (9184145, '5834584'), (9184145, '7691129'), (9184145, '5763362'), (9184145, '9695475'), (9184145, '9709843'), (9184145, '9614021'), (9184145, '9427240'), (9184145, '9989247'), (9184145, '10029752'), (9184145, '9616415'), (9184145, '9978227'), (9184145, '9008000'), (9184145, '9280473'), (9184145, '9617364'), (9184145, '5225576'), (9184145, '9279685'), (9184145, '9616530'), (9184145, '8944771'), (9184145, '10021611'), (9184145, '817674'), (9184145, '816234'), (9184145, '817194'), (9184145, '816714'), (9184145, '9616128'), (9184145, '817583'), (9184145, '816143'), (9184145, '817103'), (9184145, '816623'), (9184145, '10084477'), (9184145, '10042099'), (9184145, '10087699'), (9184145, '10394738'), (9184145, '9082782'), (9184145, '10035654'), (9184145, '10031949'), (9184145, '9974352'), (9184145, '4975430'), (9184145, '323906'), (9184145, '2056091'), (9184145, '5225152'), (9184145, '9614880'), (9184145, '9614792'), (9184145, '9631768'), (9184145, '5043105'), (9184145, '5043089'), (9184145, '1358503'), (9184145, '1132111'), (9184145, '1131920'), (9184145, '9614487'), (9184145, '9616818'), (9184145, '9279700'), (9184145, '9617283'), (9184145, '9617080'), (9184145, '9616108'), (9184145, '9615989'), (9184145, '10059283'), (9184145, '10010729'), (9184145, '10802322'), (9184145, '10755474'), (9184145, '4811263'), (9184145, '5055285'), (9184145, '9745497'), (9184145, '9813828'), (9184145, '9768269'), (9184145, '5768029'), (9184145, '1701637'), (9184145, '9506892'), (9184145, '9617041'), (9184145, '9709766'), (9184145, '5043225'), (9184145, '9210152'), (9184145, '9506819'), (9184145, '9993738'), (9184145, '10003902'), (9184145, '9994608'), (9184145, '5803330'), (9184145, '9605574'), (9184145, '9211259'), (9184145, '5575714'), (9184145, '10058920'), (9184145, '9091286'), (9184145, '10021648'), (9184145, '1276556'), (9184145, '9163394'), (9184145, '8919020'), (9184145, '1357776'), (9184145, '8982260'), (9184145, '9605441'), (9184145, '9200569'), (9184145, '1370772'), (9184145, '9402273'), (9184145, '9468510'), (9184145, '10241846'), (9184145, '9656716'), (9184145, '5651448'), (9184145, '5624079'), (9184145, '9527520'), (9184145, '1424809'), (9184145, '5812595'), (9184145, '9746159'), (9184145, '10273022'), (9184145, '9767967'), (9184145, '10712676'), (9184145, '9973923'), (9184145, '10072497'), (9184145, '9800635'), (9184145, '10081257'), (9184145, '9054761'), (9184145, '9658042'), (9184145, '1043587'), (9184145, '10046801'), (9184145, '9761232'), (9184145, '10052640'), (9184145, '9990761'), (9184145, '9728094'), (9184145, '9699691'), (9184145, '10017803'), (9184145, '10018250'), (9184145, '10044895'), (9184145, '10212601'), (9184145, '9614437'), (9184145, '5788827'), (9184145, '5210683'), (9184145, '9073787'), (9184145, '9617559'), (9184145, '9831400'), (9184145, '9616696'), (9184145, '9616671'), (9184145, '9616660'), (9184145, '9615941'), (9184145, '9614693'), (9184145, '5225142'), (9184145, '9696380'), (9184145, '9475380'), (9184145, '9613871'), (9184145, '5226721'), (9184145, '10252355'), (9184145, '9536657'), (9184145, '5894245'), (9184145, '7848126'), (9184145, '5679681'), (9184145, '9985310'), (9184145, '5011135'), (9184145, '1769898'), (9184145, '9260246'), (9184145, '9723659'), (9184145, '10723096'), (9184145, '9670415'), (9184145, '9491164'), (9184145, '9486039'), (9184145, '9618403'), (9184145, '9740816'), (9184145, '9878990'), (9184145, '9946054'), (9184145, '9617581'), (9184145, '9475404'), (9184145, '9245158'), (9184145, '9745355'), (9184145, '10021558'), (9184145, '7757483'), (9184145, '10067805'), (9184145, '9616295'), (9184145, '9616391'), (9184145, '9996037'), (9184145, '823270'), (9184145, '9617456'), (9184145, '9617343'), (9184145, '9506870'), (9184145, '9617131'), (9184145, '9210150'), (9184145, '5612465'), (9184145, '7839411'), (9184145, '835542'), (9184145, '829935'), (9184145, '826807'), (9184145, '823679'), (9184145, '9244682'), (9184145, '5225227'), (9184145, '9710054'), (9184145, '9710058'), (9184145, '4721767'), (9184145, '9614688'), (9184145, '5225225'), (9184145, '1081024'), (9184145, '4721462'), (9184145, '5687800'), (9184145, '8961933'), (9184145, '1132051'), (9184145, '10004740'), (9184145, '9200655'), (9184145, '9213212'), (9184145, '9616299'), (9184145, '5636997'), (9184145, '5043132'), (9184145, '1195706'), (9184145, '1146347'), (9184145, '9614381'), (9184145, '9614353'), (9184145, '9279833'), (9184145, '4721465'), (9184145, '9506818'), (9184145, '10003461'), (9184145, '9148130'), (9184145, '1131907'), (9184145, '1715454'), (9184145, '10524123'), (9184145, '9991326'), (9184145, '10080829'), (9184145, '1044702'), (9184145, '580072'), (9184145, '10373548'), (9184145, '9665580'), (9184145, '1682854'), (9184145, '7874761'), (9184145, '1101891'), (9184145, '9488145'), (9184145, '9038713'), (9184145, '9616920'), (9184145, '9506849'), (9184145, '9390567'), (9184145, '9407352'), (9184145, '10021360'), (9184145, '9616928'), (9184145, '10029475'), (9184145, '9014310'), (9184145, '1230491'), (9184145, '1229311'), (9184145, '1101910'), (9184145, '5874774'), (9184145, '5713655'), (9184145, '1132736'), (9184145, '1397361'), (9184145, '9631728'), (9184145, '1233701'), (9184145, '9630295'), (9184145, '2056093'), (9184145, '9631709'), (9184145, '5580645'), (9184145, '1131969'), (9184145, '8944786'), (9184145, '9679106'), (9184145, '9729003'), (9184145, '9158856'), (9184145, '9012280'), (9184145, '5800102'), (9184145, '5801833'), (9184145, '10055727'), (9184145, '9750681'), (9184145, '10349087'), (9184145, '9811632'), (9184145, '8160012'), (9184145, '10172022'), (9184145, '10700391'), (9184145, '10701650'), (9184145, '10800621'), (9184145, '10784279'), (9184145, '7735451'), (9184145, '5859513'), (9184145, '5012778'), (9184145, '9617104'), (9184145, '10396069'), (9184145, '10551718'), (9184145, '9681565'), (9184145, '9679112'), (9184145, '9616223'), (9184145, '1370655'), (9184145, '9614646'), (9184145, '9614565'), (9184145, '4761490'), (9184145, '1370656'), (9184145, '5687397'), (9184145, '10742383'), (9184145, '10769577'), (9184145, '9732418'), (9184145, '10025153'), (9184145, '9614384'), (9184145, '5798590'), (9184145, '9326733'), (9184145, '9726269'), (9184145, '9475326'), (9184145, '9617151'), (9184145, '9616805'), (9184145, '9725962'), (9184145, '9022841'), (9184145, '5651557'), (9184145, '5637143'), (9184145, '9616674'), (9184145, '9616291'), (9184145, '9616262'), (9184145, '9616263'), (9184145, '9616292'), (9184145, '9616264'), (9184145, '9616382'), (9184145, '9616386'), (9184145, '7757503'), (9184145, '1371609'), (9184145, '9659590'), (9184145, '9350478'), (9184145, '10024838'), (9184145, '9245162'), (9184145, '9230543'), (9184145, '9038613'), (9184145, '9023531'), (9184145, '9023558'), (9184145, '10784226'), (9184145, '5687427'), (9184145, '5687421'), (9184145, '5687416'), (9184145, '5687426'), (9184145, '9023358'), (9184145, '9604188'), (9184145, '9999430'), (9184145, '9617705'), (9184145, '9617562'), (9184145, '9617549'), (9184145, '10057344'), (9184145, '5043107'), (9184145, '9747920'), (9184145, '9991776'), (9184145, '10033557'), (9184145, '10020466'), (9184145, '9657974'), (9184145, '9525373'), (9184145, '9007207'), (9184145, '9631875'), (9184145, '9073990'), (9184145, '1397364'), (9184145, '825007'), (9184145, '828665'), (9184145, '834271'), (9184145, '831793'), (9184145, '9440763'), (9184145, '9616353'), (9184145, '10027492'), (9184145, '9296178'), (9184145, '4975454'), (9184145, '9280009'), (9184145, '9279974'), (9184145, '9525038'), (9184145, '9614943'), (9184145, '9614779'), (9184145, '9279733'), (9184145, '9279702'), (9184145, '817655'), (9184145, '817175'), (9184145, '816215'), (9184145, '816695'), (9184145, '10011145'), (9184145, '9023526'), (9184145, '5687587'), (9184145, '1339701'), (9184145, '4975441'), (9184145, '4975426'), (9184145, '9410671'), (9184145, '1339417'), (9184145, '1131872'), (9184145, '2056100'), (9184145, '1397345'), (9184145, '10712662'), (9184145, '10712665'), (9184145, '9658006'), (9184145, '9525382'), (9184145, '9440765'), (9184145, '9440767'), (9184145, '693279'), (9184145, '9244681'), (9184145, '9985367'), (9184145, '9998081'), (9184145, '325022'), (9184145, '10045664'), (9184145, '9614577'), (9184145, '9813130'), (9184145, '9682160'), (9184145, '10714333'), (9184145, '10714306'), (9184145, '10714274'), (9184145, '7675122'), (9184145, '813716'), (9184145, '814557'), (9184145, '812553'), (9184145, '813101'), (9184145, '9755012'), (9184145, '9614194'), (9184145, '9328485'), (9184145, '8932292'), (9184145, '9731541'), (9184145, '10079917'), (9184145, '9279690'), (9184145, '9022834'), (9184145, '9755259'), (9184145, '9742708'), (9184145, '10019261'), (9184145, '9781722'), (9184145, '9759904'), (9184145, '1263299'), (9184145, '1035214'), (9184145, '5225154'), (9184145, '1326656'), (9184145, '9492489'), (9184145, '9996290'), (9184145, '9014321'), (9184145, '10067953'), (9184145, '9959748'), (9184145, '10118556'), (9184145, '10047357'), (9184145, '9884885'), (9184145, '9989799'), (9184145, '9980190'), (9184145, '10015685'), (9184145, '10043308'), (9184145, '10059929'), (9184145, '10048349'), (9184145, '10062056'), (9184145, '10289125'), (9184145, '9797102'), (9184145, '10084624'), (9184145, '10047831'), (9184145, '9750699'), (9184145, '9743342'), (9184145, '10709362'), (9184145, '9981771'), (9184145, '10000099'), (9184145, '10007706'), (9184145, '10009681'), (9184145, '10010200'), (9184145, '10203361'), (9184145, '9388503'), (9184145, '9388640'), (9184145, '10248720'), (9184145, '9072172'), (9184145, '9258078'), (9184145, '9615064'), (9184145, '4811771'), (9184145, '9020961'), (9184145, '5678256'), (9184145, '835127'), (9184145, '828221'), (9184145, '9279684'), (9184145, '5687344'), (9184145, '1080728'), (9184145, '828371'), (9184145, '824713'), (9184145, '833977'), (9184145, '831499'), (9184145, '8959582'), (9184145, '8738128'), (9184145, '1174188'), (9184145, '9244958'), (9184145, '9213242'), (9184145, '9617090'), (9184145, '9185576'), (9184145, '9213351'), (9184145, '9213213'), (9184145, '10712306'), (9184145, '9023540'), (9184145, '9023435'), (9184145, '9023437'), (9184145, '9279683'), (9184145, '9279664'), (9184145, '9680834'), (9184145, '9616796'), (9184145, '9616434'), (9184145, '8944758'), (9184145, '10712663'), (9184145, '1339410'), (9184145, '9631881'), (9184145, '9656633'), (9184145, '8974310'), (9184145, '9616754'), (9184145, '9616478'), (9184145, '9616667'), (9184145, '4761479'), (9184145, '8991221'), (9184145, '9615123'), (9184145, '9614892'), (9184145, '9614906'), (9184145, '9212317'), (9184145, '5636618'), (9184145, '9614717'), (9184145, '9614329'), (9184145, '9212298'), (9184145, '9787534'), (9184145, '815968'), (9184145, '817408'), (9184145, '816928'), (9184145, '816448'), (9184145, '9775525'), (9184145, '10071231'), (9184145, '10060533'), (9184145, '10073515'), (9184145, '10328444'), (9184145, '1254778'), (9184145, '9783898'), (9184145, '10081746'), (9184145, '10089561'), (9184145, '7828516'), (9184145, '815876'), (9184145, '817410'), (9184145, '10024684'), (9184145, '9279952'), (9184145, '9631762'), (9184145, '9073985'), (9184145, '1339418'), (9184145, '1131971'), (9184145, '814080'), (9184145, '834648'), (9184145, '813412'), (9184145, '812076'), (9184145, '812744'), (9184145, '827742'), (9184145, '830870'), (9184145, '824084'), (9184145, '10021359'), (9184145, '833140'), (9184145, '9990298'), (9184145, '10057011'), (9184145, '827533'), (9184145, '830661'), (9184145, '826354'), (9184145, '4975457'), (9184145, '9410583'), (9184145, '9410582'), (9184145, '9680849'), (9184145, '8945306'), (9184145, '9410646'), (9184145, '8944789'), (9184145, '5831258'), (9184145, '1371182'), (9184145, '9775320'), (9184145, '9802623'), (9184145, '9794424'), (9184145, '5786362'), (9184145, '9696352'), (9184145, '9632538'), (9184145, '9525047'), (9184145, '7367103'), (9184145, '5687400'), (9184145, '9783992'), (9184145, '5883178'), (9184145, '9805010'), (9184145, '9336524'), (9184145, '9512956'), (9184145, '9655496'), (9184145, '9336780'), (9184145, '9589479'), (9184145, '8939654'), (9184145, '5016206'), (9184145, '818436'), (9184145, '820272'), (9184145, '821752'), (9184145, '821006'), (9184145, '9696359'), (9184145, '5778240'), (9184145, '1268657'), (9184145, '793431'), (9184145, '9074385'), (9184145, '9617363'), (9184145, '9615048'), (9184145, '1021490'), (9184145, '9696353'), (9184145, '5757363'), (9184145, '9729382'), (9184145, '9615030'), (9184145, '835034'), (9184145, '831256'), (9184145, '834588'), (9184145, '827682'), (9184145, '828128'), (9184145, '824470'), (9184145, '812718'), (9184145, '9338453'), (9184145, '9496381'), (9184145, '5870426'), (9184145, '10809796'), (9184145, '9726315'), (9184145, '9449902'), (9184145, '9349659'), (9184145, '9887947'), (9184145, '9738212'), (9184145, '9799324'), (9184145, '9811420'), (9184145, '9224726'), (9184145, '4770175'), (9184145, '5867761'), (9184145, '10714288'), (9184145, '10742469'), (9184145, '9630547'), (9184145, '9616303'), (9184145, '9212310'), (9184145, '5622891'), (9184145, '5678353'), (9184145, '9614399'), (9184145, '1371167'), (9184145, '821166'), (9184145, '817850'), (9184145, '833323'), (9184145, '832707'), (9184145, '835377'), (9184145, '819397'), (9184145, '820527'), (9184145, '814316'), (9184145, '9757774'), (9184145, '9948535'), (9184145, '10259226'), (9184145, '7818539'), (9184145, '9709803'), (9184145, '10712698'), (9184145, '9617706'), (9184145, '9616934'), (9184145, '8974314'), (9184145, '8937662'), (9184145, '7839517'), (9184145, '8151061'), (9184145, '9754895'), (9184145, '9696435'), (9184145, '9615056'), (9184145, '9185468'), (9184145, '9210154'), (9184145, '5657068'), (9184145, '9280049'), (9184145, '9615051'), (9184145, '9614722'), (9184145, '9230545'), (9184145, '1371136'), (9184145, '817236'), (9184145, '833910'), (9184145, '833911'), (9184145, '835093'), (9184145, '9525161'), (9184145, '9427352'), (9184145, '8944681'), (9184145, '9279663'), (9184145, '9279680'), (9184145, '1230523'), (9184145, '9022618'), (9184145, '9616645'), (9184145, '8944764'), (9184145, '8944774'), (9184145, '9616538'), (9184145, '9616446'), (9184145, '9616710'), (9184145, '9616456'), (9184145, '7757900'), (9184145, '9616091'), (9184145, '9616144'), (9184145, '8944699'), (9184145, '9616236'), (9184145, '9616195'), (9184145, '9616374'), (9184145, '10742382'), (9184145, '9617637'), (9184145, '9280010'), (9184145, '9280047'), (9184145, '9457679'), (9184145, '9090754'), (9184145, '9808140'), (9184145, '9195199'), (9184145, '9007132'), (9184145, '833066'), (9184145, '834463'), (9184145, '9073973'), (9184145, '1358494'), (9184145, '9616427'), (9184145, '9617321'), (9184145, '9613997'), (9184145, '9616621'), (9184145, '9615047'), (9184145, '9616198'), (9184145, '9614434'), (9184145, '8952547'), (9184145, '277653'), (9184145, '9071146'), (9184145, '815484'), (9184145, '815677'), (9184145, '812909'), (9184145, '9349653'), (9184145, '9614375'), (9184145, '9326707'), (9184145, '9023450'), (9184145, '9630635'), (9184145, '8169452'), (9184145, '9782844'), (9184145, '5806260'), (9184145, '9800173'), (9184145, '9615106'), (9184145, '9614723'), (9184145, '1128215'), (9184145, '1128210'), (9184145, '1128208'), (9184145, '1128200'), (9184145, '1128205'), (9184145, '10591642'), (9184145, '9419822'), (9184145, '9617060'), (9184145, '9895293'), (9184145, '9616571'), (9184145, '10611539'), (9184145, '9457676'), (9184145, '9090753'), (9184145, '5225143'), (9184145, '1183486'), (9184145, '813650'), (9184145, '9228188'), (9184145, '9228187'), (9184145, '9055845'), (9184145, '1230898'), (9184145, '1264961'), (9184145, '1264960'), (9184145, '1229642'), (9184145, '1700209'), (9184145, '10712658'), (9184145, '9617632'), (9184145, '9397923'), (9184145, '5637128'), (9184145, '8961936'), (9184145, '8987522'), (9184145, '6768671'), (9184145, '9078306'), (9184145, '9076126'), (9184145, '9073285'), (9184145, '9006833'), (9184145, '9009649'), (9184145, '9137484'), (9184145, '8965194'), (9184145, '9064242'), (9184145, '9049049'), (9184145, '9616109'), (9184145, '9489790'), (9184145, '9954329'), (9184145, '10026387'), (9184145, '9749866'), (9184145, '9750085'), (9184145, '9737385'), (9184145, '9734208'), (9184145, '9827234'), (9184145, '5687317'), (9184145, '4975056'), (9184145, '5880713'), (9184145, '5833700'), (9184145, '9106647'), (9184145, '9796784'), (9184145, '9728426'), (9184145, '1121252'), (9184145, '5792725'), (9184145, '4776450'), (9184145, '5845740'), (9184145, '5858922'), (9184145, '5854763'), (9184145, '9781924'), (9184145, '10712661'), (9184145, '9488008'), (9184145, '10733428'), (9184145, '10732583'), (9184145, '9749017'), (9184145, '5860092'), (9184145, '1439660'), (9184145, '11008544'), (9184145, '793306'), (9184145, '5774436'), (9184145, '9732564'), (9184145, '9732554'), (9184145, '9213042'), (9184145, '9770535'), (9184145, '9183646'), (9184145, '5862406'), (9184145, '833554'), (9184145, '833556'), (9184145, '832377'), (9184145, '9617024'), (9184145, '10798298'), (9184145, '9389206'), (9184145, '10694476'), (9184145, '9525452'), (9184145, '1326576'), (9184145, '9643278'), (9184145, '11008444'), (9184145, '9007509'), (9184145, '9743171'), (9184145, '9525391'), (9184145, '9213221'), (9184145, '9227860'), (9184145, '5647849'), (9184145, '9004900'), (9184145, '9188664'), (9184145, '1371232'), (9184145, '1043906'), (9184145, '617367'), (9184145, '1733667'), (9184145, '9882742'), (9184145, '9744027'), (9184145, '8935647'), (9184145, '9617523'), (9184145, '9649894'), (9184145, '9685948'), (9184145, '9257679'), (9184145, '9607979'), (9184145, '9763447'), (9184145, '9768889'), (9184145, '9031046'), (9184145, '9088414'), (9184145, '8985048'), (9184145, '9817380'), (9184145, '8950715'), (9184145, '5868729'), (9184145, '5854276'), (9184145, '827096'), (9184145, '1229526'), (9184145, '10741806'), (9184145, '9735821'), (9184145, '9671842'), (9184145, '9628273'), (9184145, '9773701'), (9184145, '7763584'), (9184145, '9823378'), (9184145, '833137'), (9184145, '827530'), (9184145, '954944'), (9184145, '5819896'), (9184145, '5066765'), (9184145, '5798120'), (9184145, '4721475'), (9184145, '5720238'), (9184145, '1203534'), (9184145, '5771091'), (9184145, '9696434'), (9184145, '9730074'), (9184145, '9515354'), (9184145, '10785323'), (9184145, '9801708'), (9184145, '8157769'), (9184145, '5870099'), (9184145, '9458047'), (9184145, '11008448'), (9184145, '10742405'), (9184145, '9681197'), (9184145, '9336390'), (9184145, '9347132'), (9184145, '5622869'), (9184145, '1246664'), (9184145, '9737302'), (9184145, '9726093'), (9184145, '5684455'), (9184145, '1371228'), (9184145, '833984'), (9184145, '5795303'), (9184145, '9617481'), (9184145, '9427236'), (9184145, '9617142'), (9184145, '5687622'), (9184145, '9680742'), (9184145, '9614913'), (9184145, '5687309'), (9184145, '937034'), (9184145, '818284'), (9184145, '821600'), (9184145, '820854'), (9184145, '820120'), (9184145, '9457984'), (9184145, '11008545'), (9184145, '11008537'), (9184145, '9616134'), (9184145, '9615141'), (9184145, '9022727'), (9184145, '5043113'), (9184145, '4975423'), (9184145, '2056199'), (9184145, '8944788'), (9184145, '313633'), (9184145, '11008638'), (9184145, '9427244'), (9184145, '9614354'), (9184145, '9744748'), (9184145, '5827103'), (9184145, '9189342'), (9184145, '9615067'), (9184145, '834821'), (9184145, '831043'), (9184145, '824257'), (9184145, '827915'), (9184145, '11008151'), (9184145, '8944671'), (9184145, '4956098'), (9184145, '833292'), (9184145, '834021'), (9184145, '828985'), (9184145, '828415'), (9184145, '4721443'), (9184145, '5278435'), (9184145, '248915'), (9184145, '1397350'), (9184145, '5580635'), (9184145, '1397337'), (9184145, '1131889'), (9184145, '11008481'), (9184145, '9506481'), (9184145, '9388506'), (9184145, '9680856'), (9184145, '9279940'), (9184145, '9614213'), (9184145, '803181'), (9184145, '9617526'), (9184145, '9617511'), (9184145, '10741838'), (9184145, '9680972'), (9184145, '9388499'), (9184145, '9614481'), (9184145, '9616435'), (9184145, '9615981'), (9184145, '9616975'), (9184145, '9614844'), (9184145, '9326772'), (9184145, '9008001'), (9184145, '9007999'), (9184145, '9145604'), (9184145, '10742404'), (9184145, '10742369'), (9184145, '10712552'), (9184145, '9614494'), (9184145, '9617194'), (9184145, '9616828'), (9184145, '9616827'), (9184145, '9614831'), (9184145, '7757589'), (9184145, '2056097'), (9184145, '10712580'), (9184145, '9818023'), (9184145, '9819440'), (9184145, '5861056'), (9184145, '9616925'), (9184145, '9757713'), (9184145, '9503539'), (9184145, '9247121'), (9184145, '9789229'), (9184145, '9783082'), (9184145, '9279785'), (9184145, '9231949'), (9184145, '8952506'), (9184145, '9233918'), (9184145, '8945353'), (9184145, '10792709'), (9184145, '9805882'), (9184145, '9695044'), (9184145, '9713961'), (9184145, '9681187'), (9184145, '11008546'), (9184145, '827100'), (9184145, '812980'), (9184145, '812622'), (9184145, '813958'), (9184145, '819011'), (9184145, '833216'), (9184145, '832037'), (9184145, '828909'), (9184145, '825251'), (9184145, '1339711'), (9184145, '4721403'), (9184145, '9080904'), (9184145, '8931816'), (9184145, '7078187'), (9184145, '4721456'), (9184145, '826988'), (9184145, '5725869'), (9184145, '11008535'), (9184145, '11008457'), (9184145, '9614006'), (9184145, '9774710'), (9184145, '5043221'), (9184145, '9617515'), (9184145, '5678907'), (9184145, '9410641'), (9184145, '8944798'), (9184145, '9680764'), (9184145, '9680769'), (9184145, '9680781'), (9184145, '9680759'), (9184145, '9680767'), (9184145, '9680768'), (9184145, '9680783'), (9184145, '9680786'), (9184145, '5612501'), (9184145, '5612495'), (9184145, '5043100'), (9184145, '9614419'), (9184145, '722951'), (9184145, '5759811'), (9184145, '9605512'), (9184145, '9281403'), (9184145, '9616078'), (9184145, '9435405'), (9184145, '7603683'), (9184145, '823746'), (9184145, '835609'), (9184145, '830002'), (9184145, '826874'), (9184145, '9117794'), (9184145, '5808362'), (9184145, '1441091'), (9184145, '10009023'), (9184145, '9728115'), (9184145, '9749581'), (9184145, '9819198'), (9184145, '9666237'), (9184145, '7875419'), (9184145, '9631870'), (9184145, '5043092'), (9184145, '1339709'), (9184145, '9631851'), (9184145, '1131973'), (9184145, '9680815'), (9184145, '9337188'), (9184145, '9440430'), (9184145, '9344687'), (9184145, '8991295'), (9184145, '1280718'), (9184145, '9458675'), (9184145, '9350451'), (9184145, '9280801'), (9184145, '9251817'), (9184145, '9336861'), (9184145, '9410642'), (9184145, '1397358'), (9184145, '9610880'), (9184145, '9617066'), (9184145, '9339744'), (9184145, '9071143'), (9184145, '8970044'), (9184145, '8970639'), (9184145, '9616719'), (9184145, '9616502'), (9184145, '9616328'), (9184145, '9616433'), (9184145, '9616141'), (9184145, '9615127'), (9184145, '9709696'), (9184145, '9614548'), (9184145, '832164'), (9184145, '816075'), (9184145, '813537'), (9184145, '825378'), (9184145, '817035'), (9184145, '812201'), (9184145, '10691752'), (9184145, '9770194'), (9184145, '9614005'), (9184145, '9614382'), (9184145, '5807588'), (9184145, '9787040'), (9184145, '833304'), (9184145, '5849889'), (9184145, '5801229'), (9184145, '9475378'), (9184145, '9616354'), (9184145, '5043108'), (9184145, '9743277'), (9184145, '9446386'), (9184145, '10297534'), (9184145, '9820624'), (9184145, '11008538'), (9184145, '9427246'), (9184145, '9617100'), (9184145, '9617105'), (9184145, '7757551'), (9184145, '9615050'), (9184145, '9696428'), (9184145, '8932329'), (9184145, '1358749'), (9184145, '8931826'), (9184145, '9614669'), (9184145, '9475345'), (9184145, '9091508'), (9184145, '10725321'), (9184145, '9488674'), (9184145, '9616210'), (9184145, '4770190'), (9184145, '7078203'), (9184145, '831530'), (9184145, '831531'), (9184145, '9680854'), (9184145, '9364060'), (9184145, '9245143'), (9184145, '9326021'), (9184145, '9679062'), (9184145, '9679108'), (9184145, '9007356'), (9184145, '9138011'), (9184145, '7754745'), (9184145, '1323879'), (9184145, '9802504'), (9184145, '9292302'), (9184145, '9275062'), (9184145, '10445351'), (9184145, '5861808'), (9184145, '9468117'), (9184145, '9148696'), (9184145, '9815170'), (9184145, '9816851'), (9184145, '4792703'), (9184145, '5848753'), (9184145, '9738590'), (9184145, '10692314'), (9184145, '9754341'), (9184145, '9073969'), (9184145, '833707'), (9184145, '829400'), (9184145, '812637'), (9184145, '815275'), (9184145, '813973'), (9184145, '5794432'), (9184145, '5739621'), (9184145, '1077278'), (9184145, '692988'), (9184145, '7757448'), (9184145, '9410652'), (9184145, '8741115'), (9184145, '9787726'), (9184145, '831693'), (9184145, '823194'), (9184145, '9780517'), (9184145, '9280743'), (9184145, '9737546'), (9184145, '9750072'), (9184145, '9949205'), (9184145, '9357133'), (9184145, '9350337'), (9184145, '8945365'), (9184145, '10742495'), (9184145, '10712694'), (9184145, '10712685'), (9184145, '9734182'), (9184145, '9326019'), (9184145, '9007498'), (9184145, '9616146'), (9184145, '9617582'), (9184145, '9227858'), (9184145, '9374439'), (9184145, '9328491'), (9184145, '9254760'), (9184145, '9181595'), (9184145, '9488033'), (9184145, '9445839'), (9184145, '9374440'), (9184145, '9304874'), (9184145, '9616495'), (9184145, '9616104'), (9184145, '8973991'), (9184145, '9680852'), (9184145, '9007360'), (9184145, '9007282'), (9184145, '9279678'), (9184145, '9616666'), (9184145, '9616676'), (9184145, '9616755'), (9184145, '10712294'), (9184145, '9616244'), (9184145, '9616355'), (9184145, '9739622'), (9184145, '10767582'), (9184145, '1522142'), (9184145, '9615114'), (9184145, '9615108'), (9184145, '5864737'), (9184145, '5766005'), (9184145, '1230501'), (9184145, '5739177'), (9184145, '1231131'), (9184145, '9440777'), (9184145, '1229781'), (9184145, '9797219'), (9184145, '5852038'), (9184145, '8985305'), (9184145, '9142244'), (9184145, '9681162'), (9184145, '9709736'), (9184145, '10714293'), (9184145, '9668185'), (9184145, '9240235'), (9184145, '9824238'), (9184145, '1045046'), (9184145, '1045191'), (9184145, '1339407'), (9184145, '10742494'), (9184145, '5789773'), (9184145, '9609629'), (9184145, '9739961'), (9184145, '9739314'), (9184145, '9741189'), (9184145, '9736094'), (9184145, '9733924'), (9184145, '9752304'), (9184145, '5042825'), (9184145, '9616510'), (9184145, '9184147'), (9184145, '9819014'), (9184145, '9815576'), (9184145, '9817124'), (9184145, '9816487'), (9184145, '8156143'), (9184145, '9709722'), (9184145, '9617362'), (9184145, '9617092'), (9184145, '9279907'), (9184145, '9279743'), (9184145, '9457672'), (9184145, '5637127'), (9184145, '9614427'), (9184145, '816587'), (9184145, '816107'), (9184145, '816500'), (9184145, '824905'), (9184145, '833998'), (9184145, '833037'), (9184145, '831691'), (9184145, '833997'), (9184145, '834169'), (9184145, '828563'), (9184145, '9506798'), (9184145, '9007349'), (9184145, '9007268'), (9184145, '1326580'), (9184145, '9488063'), (9184145, '9586297'), (9184145, '9747103'), (9184145, '9760368'), (9184145, '9681228'), (9184145, '9617613'), (9184145, '9185470'), (9184145, '9185573'), (9184145, '842460'), (9184145, '9755555'), (9184145, '9744943'), (9184145, '9007162'), (9184145, '9615160'), (9184145, '9788040'), (9184145, '9793623'), (9184145, '9784495'), (9184145, '8962565'), (9184145, '9748733'), (9184145, '9614931'), (9184145, '1232023'), (9184145, '8945404'), (9184145, '9055886'), (9184145, '9726191'), (9184145, '9525163'), (9184145, '5538200'), (9184145, '9787118'), (9184145, '5865250'), (9184145, '818528'), (9184145, '818638'), (9184145, '818736'), (9184145, '8991226'), (9184145, '9617638'), (9184145, '11017833'), (9184145, '9758974'), (9184145, '827079'), (9184145, '832686'), (9184145, '830207'), (9184145, '825900'), (9184145, '9058170'), (9184145, '826594'), (9184145, '829722'), (9184145, '823466'), (9184145, '835329'), (9184145, '9364062'), (9184145, '5758629'), (9184145, '9614791'), (9184145, '4721459'), (9184145, '9322634'), (9184145, '9319845'), (9184145, '5773541'), (9184145, '5765177'), (9184145, '9732365'), (9184145, '9809312'), (9184145, '9663208'), (9184145, '9663122'), (9184145, '9663113'), (9184145, '9614255'), (9184145, '10394933'), (9184145, '5848834'), (9184145, '827030'), (9184145, '827027'), (9184145, '833591'), (9184145, '835544'), (9184145, '835765'), (9184145, '5862119'), (9184145, '9632509'), (9184145, '9365654'), (9184145, '5687362'), (9184145, '1397355'), (9184145, '5225156'), (9184145, '823755'), (9184145, '835618'), (9184145, '830011'), (9184145, '834723'), (9184145, '1195554'), (9184145, '1263340'), (9184145, '11027896'), (9184145, '9657975'), (9184145, '9681264'), (9184145, '9710174'), (9184145, '9440797'), (9184145, '9613966'), (9184145, '9326024'), (9184145, '9617626'), (9184145, '9617522'), (9184145, '9614559'), (9184145, '10816311'), (9184145, '11027968'), (9184145, '10712692'), (9184145, '9280039'), (9184145, '9517193'), (9184145, '9280028'), (9184145, '9280040'), (9184145, '9769389'), (9184145, '9615155'), (9184145, '9614674'), (9184145, '9614818'), (9184145, '1015368'), (9184145, '7757454'), (9184145, '9279918'), (9184145, '9022776'), (9184145, '9279790'), (9184145, '8158519'), (9184145, '9809290'), (9184145, '5837458'), (9184145, '1230933'), (9184145, '272987'), (9184145, '9726125'), (9184145, '9617140'), (9184145, '9616060'), (9184145, '9023538'), (9184145, '9023445'), (9184145, '9023346'), (9184145, '1371174'), (9184145, '826883'), (9184145, '9280033'), (9184145, '9279986'), (9184145, '9614836'), (9184145, '4721468'), (9184145, '9923272'), (9184145, '9969095'), (9184145, '10723881'), (9184145, '9993801'), (9184145, '5871059'), (9184145, '1559502'), (9184145, '1700354'), (9184145, '9617509'), (9184145, '9617077'), (9184145, '8945351'), (9184145, '9616626'), (9184145, '9617555'), (9184145, '1132040'), (9184145, '9615126'), (9184145, '9614129'), (9184145, '1370917'), (9184145, '2056158'), (9184145, '2056201'), (9184145, '11027971'), (9184145, '9710203'), (9184145, '9644562'), (9184145, '9644558'), (9184145, '9709841'), (9184145, '9617547'), (9184145, '9617065'), (9184145, '9008076'), (9184145, '10280823'), (9184145, '9657995'), (9184145, '9726264'), (9184145, '9726260'), (9184145, '10717971'), (9184145, '10716937'), (9184145, '10812215'), (9184145, '9486109'), (9184145, '1231717'), (9184145, '11008536'), (9184145, '9614837'), (9184145, '831506'), (9184145, '812574'), (9184145, '824720'), (9184145, '813910'), (9184145, '834186'), (9184145, '9616112'), (9184145, '5988673'), (9184145, '826284'), (9184145, '1232053'), (9184145, '9617370'), (9184145, '5225158'), (9184145, '830483'), (9184145, '827355'), (9184145, '832962'), (9184145, '826176'), (9184145, '1043100'), (9184145, '9059202'), (9184145, '9093086'), (9184145, '9211317'), (9184145, '1358499'), (9184145, '5687585'), (9184145, '8962224'), (9184145, '10712292'), (9184145, '8961925'), (9184145, '10781449'), (9184145, '11029683'), (9184145, '9023539'), (9184145, '8942499'), (9184145, '8037491'), (9184145, '5576435'), (9184145, '823263'), (9184145, '823256'), (9184145, '815396'), (9184145, '1230190'), (9184145, '5781060'), (9184145, '1045423'), (9184145, '1045185'), (9184145, '1044986'), (9184145, '1077190'), (9184145, '5687402'), (9184145, '9749339'), (9184145, '1230987'), (9184145, '10712298'), (9184145, '1101844'), (9184145, '833749'), (9184145, '834346'), (9184145, '828740'), (9184145, '9652937'), (9184145, '5789699'), (9184145, '9036025'), (9184145, '9788285'), (9184145, '6556400'), (9184145, '10742375'), (9184145, '1230211'), (9184145, '1229490'), (9184145, '834188'), (9184145, '6829266'), (9184145, '1178180'), (9184145, '9279878'), (9184145, '8155074'), (9184145, '5867024'), (9184145, '832053'), (9184145, '826944'), (9184145, '824458'), (9184145, '823816'), (9184145, '832872'), (9184145, '835679'), (9184145, '831244'), (9184145, '830393'), (9184145, '830072'), (9184145, '829632'), (9184145, '827265'), (9184145, '823376'), (9184145, '825267'), (9184145, '826086'), (9184145, '9614142'), (9184145, '9616497'), (9184145, '9183993'), (9184145, '9615028'), (9184145, '9614917'), (9184145, '5241796'), (9184145, '9613961'), (9184145, '9427286'), (9184145, '11027881'), (9184145, '11026009'), (9184145, '9325946'), (9184145, '9617528'), (9184145, '9658039'), (9184145, '9726126'), (9184145, '9615065'), (9184145, '10669445'), (9184145, '5843498'), (9184145, '10706138'), (9184145, '11008578'), (9184145, '9506746'), (9184145, '9458046'), (9184145, '9616426'), (9184145, '9617109'), (9184145, '1101835'), (9184145, '9613877'), (9184145, '824553'), (9184145, '824554'), (9184145, '835116'), (9184145, '831338'), (9184145, '831339'), (9184145, '831340'), (9184145, '835117'), (9184145, '828211'), (9184145, '828210'), (9184145, '828212'), (9184145, '813501'), (9184145, '813500'), (9184145, '812833'), (9184145, '812832'), (9184145, '824552'), (9184145, '814169'), (9184145, '814168'), (9184145, '812164'), (9184145, '5584272'), (9184145, '9733294'), (9184145, '5584317'), (9184145, '5584312'), (9184145, '9613889'), (9184145, '10742410'), (9184145, '11029750'), (9184145, '9525142'), (9184145, '9432066'), (9184145, '9664538'), (9184145, '9145656'), (9184145, '7873714'), (9184145, '9664655'), (9184145, '7873831'), (9184145, '8974296'), (9184145, '5678779'), (9184145, '11008579'), (9184145, '9658080'), (9184145, '9008003'), (9184145, '9008004'), (9184145, '10742418'), (9184145, '10742414'), (9184145, '9312035'), (9184145, '9280422'), (9184145, '8945364'), (9184145, '9616570'), (9184145, '9616211'), (9184145, '7605217'), (9184145, '1371177'), (9184145, '9615176'), (9184145, '9615077'), (9184145, '5637019'), (9184145, '10712567'), (9184145, '11026026'), (9184145, '9440758'), (9184145, '9631853'), (9184145, '9366562'), (9184145, '10795454'), (9184145, '9388613'), (9184145, '9617609'), (9184145, '5557225'), (9184145, '9789520'), (9184145, '10637564'), (9184145, '10267749'), (9184145, '9760094'), (9184145, '9242153'), (9184145, '10673650'), (9184145, '5885011'), (9184145, '7602929'), (9184145, '5814260'), (9184145, '4790591'), (9184145, '11008179'), (9184145, '9403059'), (9184145, '11018184'), (9184145, '9238453'), (9184145, '8991522'), (9184145, '9378732'), (9184145, '9007363'), (9184145, '9348351'), (9184145, '9774086'), (9184145, '835668'), (9184145, '10482608'), (9184145, '9362980'), (9184145, '7778391'), (9184145, '5880137'), (9184145, '4815292'), (9184145, '5878563'), (9184145, '5807621'), (9184145, '6603131'), (9184145, '9616333'), (9184145, '11025951'), (9184145, '9617686'), (9184145, '9190467'), (9184145, '9616449'), (9184145, '11027969'), (9184145, '820397'), (9184145, '4955990'), (9184145, '9680765'), (9184145, '1397347'), (9184145, '5783446'), (9184145, '5783406'), (9184145, '1180769'), (9184145, '1180152'), (9184145, '9680803'), (9184145, '2056267'), (9184145, '9630301'), (9184145, '9631880'), (9184145, '9410653'), (9184145, '2056272'), (9184145, '1397363'), (9184145, '9617025'), (9184145, '9681270'), (9184145, '11026010'), (9184145, '9350377'), (9184145, '9673434'), (9184145, '7078192'), (9184145, '1230669'), (9184145, '9279847'), (9184145, '9617617'), (9184145, '9696314'), (9184145, '830561'), (9184145, '9681486'), (9184145, '832353'), (9184145, '9280023'), (9184145, '9279922'), (9184145, '833532'), (9184145, '9664697'), (9184145, '9279852'), (9184145, '7873874'), (9184145, '834495'), (9184145, '834496'), (9184145, '828889'), (9184145, '828890'), (9184145, '813052'), (9184145, '814388'), (9184145, '9692845'), (9184145, '8738121'), (9184145, '11025892'), (9184145, '9619006'), (9184145, '9616892'), (9184145, '9186840'), (9184145, '9665783'), (9184145, '11052275'), (9184145, '10535058'), (9184145, '9254758'), (9184145, '7874965'), (9184145, '9616883'), (9184145, '11029757'), (9184145, '11008407'), (9184145, '9614014'), (9184145, '9145651'), (9184145, '9614082'), (9184145, '5861927'), (9184145, '10712593'), (9184145, '11029745'), (9184145, '9440794'), (9184145, '11028111'), (9184145, '11025949'), (9184145, '9038770'), (9184145, '9159063'), (9184145, '7839545'), (9184145, '5637131'), (9184145, '5637129'), (9184145, '1268636'), (9184145, '9244962'), (9184145, '9617653'), (9184145, '9054771'), (9184145, '9074258'), (9184145, '9185402'), (9184145, '11028070'), (9184145, '9058208'), (9184145, '9234524'), (9184145, '9616627'), (9184145, '9616693'), (9184145, '9631883'), (9184145, '5612499'), (9184145, '1358490'), (9184145, '1132107'), (9184145, '5651235'), (9184145, '9196434'), (9184145, '833796'), (9184145, '829489'), (9184145, '9614130'), (9184145, '7757550'), (9184145, '830791'), (9184145, '9616208'), (9184145, '9614091'), (9184145, '5651009'), (9184145, '5651232'), (9184145, '829488'), (9184145, '9680847'), (9184145, '1339401'), (9184145, '1132108'), (9184145, '9696048'), (9184145, '9755492'), (9184145, '9755995'), (9184145, '832133'), (9184145, '826747'), (9184145, '823619'), (9184145, '833312'), (9184145, '835482'), (9184145, '829875'), (9184145, '829005'), (9184145, '825347'), (9184145, '812074'), (9184145, '813410'), (9184145, '5742646'), (9184145, '10376868'), (9184145, '5830234'), (9184145, '5832731'), (9184145, '5817614'), (9184145, '8945806'), (9184145, '7839375'), (9184145, '10691806'), (9184145, '1308764'), (9184145, '9773369'), (9184145, '9796174'), (9184145, '8741145'), (9184145, '5861850'), (9184145, '5020762'), (9184145, '6180410'), (9184145, '5826686'), (9184145, '5825032'), (9184145, '5824619'), (9184145, '5824623'), (9184145, '5814265'), (9184145, '9616524'), (9184145, '9284413'), (9184145, '9042588'), (9184145, '9614203'), (9184145, '1690049'), (9184145, '7757872'), (9184145, '9614342'), (9184145, '8970602'), (9184145, '7839975'), (9184145, '9614201'), (9184145, '9614202'), (9184145, '9335353'), (9184145, '1043528'), (9184145, '9680818'), (9184145, '5043082'), (9184145, '4975438'), (9184145, '324807'), (9184145, '10800279'), (9184145, '661718'), (9184145, '10698300'), (9184145, '8947533'), (9184145, '9733862'), (9184145, '10793605'), (9184145, '9750766'), (9184145, '5863296'), (9184145, '7605334'), (9184145, '9768786'), (9184145, '1425606'), (9184145, '5794231'), (9184145, '5824240'), (9184145, '4760575'), (9184145, '9104285'), (9184145, '5748966'), (9184145, '1774303'), (9184145, '1829454'), (9184145, '5025874'), (9184145, '9279783'), (9184145, '5687797'), (9184145, '9680920'), (9184145, '10694527'), (9184145, '11029726'), (9184145, '1077187'), (9184145, '693024'), (9184145, '1077188'), (9184145, '693025'), (9184145, '9279837'), (9184145, '824476'), (9184145, '831262'), (9184145, '835040'), (9184145, '828134'), (9184145, '9617333'), (9184145, '9617095'), (9184145, '5580654'), (9184145, '4721345'), (9184145, '9696485'), (9184145, '11052613'), (9184145, '9679120'), (9184145, '9074386'), (9184145, '9617544'), (9184145, '9642727'), (9184145, '9969562'), (9184145, '9898586'), (9184145, '9745335'), (9184145, '9741556'), (9184145, '9734575'), (9184145, '9866846'), (9184145, '9849206'), (9184145, '9674097'), (9184145, '9684541'), (9184145, '9340886'), (9184145, '9201399'), (9184145, '9723984'), (9184145, '9646903'), (9184145, '9607072'), (9184145, '9634404'), (9184145, '9680811'), (9184145, '9382722'), (9184145, '10692440'), (9184145, '1263002'), (9184145, '10786733'), (9184145, '9746132'), (9184145, '7749578'), (9184145, '7757461'), (9184145, '9078330'), (9184145, '816015'), (9184145, '832861'), (9184145, '595797'), (9184145, '348203'), (9184145, '345336'), (9184145, '346292'), (9184145, '5845946'), (9184145, '9185457'), (9184145, '5687390'), (9184145, '5687386'), (9184145, '9743920'), (9184145, '9280026'), (9184145, '8944686'), (9184145, '5636393'), (9184145, '5636394'), (9184145, '5865382'), (9184145, '833040'), (9184145, '827433'), (9184145, '9968590'), (9184145, '9737434'), (9184145, '6307024'), (9184145, '9495493'), (9184145, '9194098'), (9184145, '6048835'), (9184145, '9794433'), (9184145, '9753549'), (9184145, '5819529'), (9184145, '9733888'), (9184145, '10796802'), (9184145, '10696599'), (9184145, '9757399'), (9184145, '5810704'), (9184145, '5813802'), (9184145, '9381739'), (9184145, '10206310'), (9184145, '10770660'), (9184145, '10798175'), (9184145, '9808886'), (9184145, '9772911'), (9184145, '10754885'), (9184145, '9807691'), (9184145, '5865238'), (9184145, '9216581'), (9184145, '9440898'), (9184145, '4885940'), (9184145, '827055'), (9184145, '823927'), (9184145, '835790'), (9184145, '830183'), (9184145, '5819217'), (9184145, '9107877'), (9184145, '9801454'), (9184145, '10661441'), (9184145, '9681177'), (9184145, '9007194'), (9184145, '9736805'), (9184145, '10072226'), (9184145, '5865217'), (9184145, '5819204'), (9184145, '4721457'), (9184145, '5843670'), (9184145, '5846804'), (9184145, '9617465'), (9184145, '9733090'), (9184145, '820600'), (9184145, '819866'), (9184145, '9090737'), (9184145, '821005'), (9184145, '1750832'), (9184145, '9445167'), (9184145, '9761505'), (9184145, '9615116'), (9184145, '5002394'), (9184145, '5913151'), (9184145, '6366560'), (9184145, '9713430'), (9184145, '9650633'), (9184145, '9633642'), (9184145, '9603255'), (9184145, '9591211'), (9184145, '9749550'), (9184145, '9741111'), (9184145, '9866114'), (9184145, '9658369'), (9184145, '9691284'), (9184145, '5865248'), (9184145, '9765072'), (9184145, '9808432'), (9184145, '10789527'), (9184145, '9505885'), (9184145, '9982402'), (9184145, '9781989'), (9184145, '9374835'), (9184145, '9771786'), (9184145, '9758872'), (9184145, '9770338'), (9184145, '10153115'), (9184145, '9004741'), (9184145, '9009441'), (9184145, '9166695'), (9184145, '5865721'), (9184145, '5816807'), (9184145, '9764664'), (9184145, '1145953'), (9184145, '832079'), (9184145, '826979'), (9184145, '823851'), (9184145, '835714'), (9184145, '833954'), (9184145, '833258'), (9184145, '830107'), (9184145, '9614721'), (9184145, '9279718'), (9184145, '9680861'), (9184145, '9279944'), (9184145, '10694486'), (9184145, '829942'), (9184145, '823686'), (9184145, '9081255'), (9184145, '9279859'), (9184145, '5622921'), (9184145, '7778676'), (9184145, '1371186'), (9184145, '826630'), (9184145, '829758'), (9184145, '824375'), (9184145, '823502'), (9184145, '10783260'), (9184145, '11052612'), (9184145, '9709859'), (9184145, '10714348'), (9184145, '9783753'), (9184145, '815101'), (9184145, '5891059'), (9184145, '1903974'), (9184145, '11029546'), (9184145, '9750503'), (9184145, '9279841'), (9184145, '832661'), (9184145, '828162'), (9184145, '825875'), (9184145, '815239'), (9184145, '1099350'), (9184145, '1231691'), (9184145, '1229872'), (9184145, '11031875'), (9184145, '10808870'), (9184145, '9789286'), (9184145, '10741242'), (9184145, '9720214'), (9184145, '5822385'), (9184145, '5738797'), (9184145, '9073960'), (9184145, '9073967'), (9184145, '9073937'), (9184145, '5813821'), (9184145, '9444019'), (9184145, '5826357'), (9184145, '9404039'), (9184145, '1231067'), (9184145, '833277'), (9184145, '833279'), (9184145, '828970'), (9184145, '828972'), (9184145, '9279860'), (9184145, '7757450'), (9184145, '834869'), (9184145, '5043090'), (9184145, '816118'), (9184145, '817078'), (9184145, '817558'), (9184145, '816598'), (9184145, '5826489'), (9184145, '834450'), (9184145, '5830912'), (9184145, '4835980'), (9184145, '11056082'), (9184145, '9475341'), (9184145, '9679065'), (9184145, '9617641'), (9184145, '9617327'), (9184145, '11025966'), (9184145, '9280760'), (9184145, '9617002'), (9184145, '8974311'), (9184145, '9616452'), (9184145, '11025922'), (9184145, '9183997'), (9184145, '9080013'), (9184145, '835669'), (9184145, '826934'), (9184145, '11056121'), (9184145, '11052610'), (9184145, '9411009'), (9184145, '9644579'), (9184145, '11008539'), (9184145, '9099438'), (9184145, '9487997'), (9184145, '5810757'), (9184145, '8944688'), (9184145, '8944725'), (9184145, '8944717'), (9184145, '9675651'), (9184145, '9614265'), (9184145, '815746'), (9184145, '823261'), (9184145, '823259'), (9184145, '823258'), (9184145, '823228'), (9184145, '5854371'), (9184145, '4928822'), (9184145, '830464'), (9184145, '832943'), (9184145, '812498'), (9184145, '826157'), (9184145, '814502'), (9184145, '814510'), (9184145, '813834'), (9184145, '273000'), (9184145, '5689833'), (9184145, '11029701'), (9184145, '5796731'), (9184145, '5847594'), (9184145, '11008543'), (9184145, '9279688'), (9184145, '9213202'), (9184145, '11056118'), (9184145, '11029716'), (9184145, '11029714'), (9184145, '11029725'), (9184145, '9644688'), (9184145, '9696487'), (9184145, '9617527'), (9184145, '9617319'), (9184145, '816064'), (9184145, '823821'), (9184145, '835684'), (9184145, '830077'), (9184145, '826949'), (9184145, '817024'), (9184145, '9616590'), (9184145, '2056162'), (9184145, '2056130'), (9184145, '826254'), (9184145, '9617119'), (9184145, '815754'), (9184145, '1230516'), (9184145, '830209'), (9184145, '825902'), (9184145, '812325'), (9184145, '813661'), (9184145, '5761644'), (9184145, '1960267'), (9184145, '1309660'), (9184145, '5043141'), (9184145, '9770575'), (9184145, '1042268'), (9184145, '1068859'), (9184145, '8080585'), (9184145, '1907292'), (9184145, '10111714'), (9184145, '11055471'), (9184145, '10742381'), (9184145, '9657976'), (9184145, '9614027'), (9184145, '9617636'), (9184145, '1099525'), (9184145, '1230730'), (9184145, '9681148'), (9184145, '10742435'), (9184145, '11008480'), (9184145, '11056173'), (9184145, '9326840'), (9184145, '10700415'), (9184145, '9792192'), (9184145, '9822321'), (9184145, '5805319'), (9184145, '5789052'), (9184145, '9310406'), (9184145, '11055482'), (9184145, '832781'), (9184145, '9475231'), (9184145, '9519888'), (9184145, '9522066'), (9184145, '9746354'), (9184145, '9746757'), (9184145, '9750351'), (9184145, '9752464'), (9184145, '9674153'), (9184145, '10691727'), (9184145, '10773174'), (9184145, '9438288'), (9184145, '10225413'), (9184145, '9800791'), (9184145, '9546297'), (9184145, '9041386'), (9184145, '10002214'), (9184145, '10201761'), (9184145, '9573775'), (9184145, '9681247'), (9184145, '11056112'), (9184145, '11055462'), (9184145, '9767369'), (9184145, '1229790'), (9184145, '9666363'), (9184145, '9614854'), (9184145, '1398633'), (9184145, '9816062'), (9184145, '4805409'), (9184145, '5837612'), (9184145, '5827809'), (9184145, '1442355'), (9184145, '9614503'), (9184145, '5803263'), (9184145, '1674286'), (9184145, '9791861'), (9184145, '9378138'), (9184145, '9605572'), (9184145, '9794348'), (9184145, '5819401'), (9184145, '5806325'), (9184145, '5814103'), (9184145, '9680857'), (9184145, '4721832'), (9184145, '11055472'), (9184145, '9614896'), (9184145, '9614441'), (9184145, '9614284'), (9184145, '9458634'), (9184145, '1132522'), (9184145, '9279741'), (9184145, '9459310'), (9184145, '5223695'), (9184145, '9280460'), (9184145, '9364064'), (9184145, '11051037'), (9184145, '9200588'), (9184145, '9213272'), (9184145, '9739179'), (9184145, '1280768'), (9184145, '9244673'), (9184145, '9244674'), (9184145, '819713'), (9184145, '820447'), (9184145, '9680990'), (9184145, '1339396'), (9184145, '1132046'), (9184145, '11055526'), (9184145, '11055477'), (9184145, '11055460'), (9184145, '5612500'), (9184145, '9796081'), (9184145, '9427238'), (9184145, '10757852'), (9184145, '9615012'), (9184145, '5814194'), (9184145, '5788530'), (9184145, '1044317'), (9184145, '1045644'), (9184145, '9212284'), (9184145, '5622925'), (9184145, '5687363'), (9184145, '5647848'), (9184145, '4990925'), (9184145, '5580741'), (9184145, '5043118'), (9184145, '5008423'), (9184145, '4974942'), (9184145, '5687347'), (9184145, '5687429'), (9184145, '1776377'), (9184145, '4770424'), (9184145, '1048937'), (9184145, '9617102'), (9184145, '8991241'), (9184145, '9616488'), (9184145, '9497773'), (9184145, '9785761'), (9184145, '9785370'), (9184145, '9758589'), (9184145, '9777852'), (9184145, '9615078'), (9184145, '9373902'), (9184145, '5225574'), (9184145, '9413692'), (9184145, '9741413'), (9184145, '9777880'), (9184145, '11028030'), (9184145, '5650955'), (9184145, '816336'), (9184145, '817296'), (9184145, '1229723'), (9184145, '9617634'), (9184145, '1230578'), (9184145, '9212299'), (9184145, '816395'), (9184145, '827039'), (9184145, '834654'), (9184145, '827748'), (9184145, '9058588'), (9184145, '9813823'), (9184145, '8951629'), (9184145, '9805198'), (9184145, '5867559'), (9184145, '9772032'), (9184145, '9774552'), (9184145, '5861417'), (9184145, '5824454'), (9184145, '9775998'), (9184145, '9614700'), (9184145, '9350357'), (9184145, '11008479'), (9184145, '11055531'), (9184145, '11055532'), (9184145, '11008527'), (9184145, '9696342'), (9184145, '11055468'), (9184145, '11055463'), (9184145, '5678354'), (9184145, '7605279'), (9184145, '5883242'), (9184145, '9058301'), (9184145, '8933683'), (9184145, '9680970'), (9184145, '11057980'), (9184145, '9361479'), (9184145, '1714210'), (9184145, '9616489'), (9184145, '834046'), (9184145, '1045171'), (9184145, '9617513'), (9184145, '11052270'), (9184145, '11027956'), (9184145, '11052536'), (9184145, '11027954'), (9184145, '9296973'), (9184145, '5687612'), (9184145, '11029753'), (9184145, '11056117'), (9184145, '9795095'), (9184145, '9471238'), (9184145, '9747508'), (9184145, '1630213'), (9184145, '5861190'), (9184145, '11057645'), (9184145, '11027888'), (9184145, '9337248'), (9184145, '9338065'), (9184145, '7765180'), (9184145, '9731972'), (9184145, '5773158'), (9184145, '11089870'), (9184145, '9007107'), (9184145, '9617053'), (9184145, '11055476'), (9184145, '8945284'), (9184145, '9279908'), (9184145, '9616705'), (9184145, '9007779'), (9184145, '9007507'), (9184145, '5562648'), (9184145, '9728731'), (9184145, '9617136'), (9184145, '9145600'), (9184145, '9765878'), (9184145, '9768017'), (9184145, '9616662'), (9184145, '11025921'), (9184145, '11055467'), (9184145, '10742233'), (9184145, '1230045'), (9184145, '9615988'), (9184145, '9615992'), (9184145, '9696360'), (9184145, '9506911'), (9184145, '9506910'), (9184145, '9614578'), (9184145, '9686178'), (9184145, '9164004'), (9184145, '5863367'), (9184145, '832083'), (9184145, '833262'), (9184145, '828955'), (9184145, '825297'), (9184145, '10741825'), (9184145, '11008405'), (9184145, '9613998'), (9184145, '9696509'), (9184145, '9366239'), (9184145, '11057870'), (9184145, '1231182'), (9184145, '9023125'), (9184145, '1181888'), (9184145, '815856'), (9184145, '816816'), (9184145, '9056966'), (9184145, '816543'), (9184145, '817503'), (9184145, '833795'), (9184145, '834286'), (9184145, '812634'), (9184145, '813970'), (9184145, '9616647'), (9184145, '9352891'), (9184145, '9739996'), (9184145, '9732965'), (9184145, '7836102'), (9184145, '5868889'), (9184145, '9773926'), (9184145, '9337606'), (9184145, '4956034'), (9184145, '5811531'), (9184145, '9350352'), (9184145, '9616646'), (9184145, '9616699'), (9184145, '5225179'), (9184145, '11056307'), (9184145, '5580732'), (9184145, '9038305'), (9184145, '9617303'), (9184145, '5547384'), (9184145, '8932179'), (9184145, '11057871'), (9184145, '10742465'), (9184145, '9616661'), (9184145, '9616340'), (9184145, '11054315'), (9184145, '9074239'), (9184145, '11057207'), (9184145, '9440407'), (9184145, '9680766'), (9184145, '9410591'), (9184145, '9614647'), (9184145, '11052506'), (9184145, '8961955'), (9184145, '11057223'), (9184145, '9007226'), (9184145, '9752180'), (9184145, '9068487'), (9184145, '9769711'), (9184145, '9773960'), (9184145, '9638254'), (9184145, '9787367'), (9184145, '7772018'), (9184145, '9617282'), (9184145, '11057634'), (9184145, '11052558'), (9184145, '11008541'), (9184145, '9681478'), (9184145, '9696356'), (9184145, '9196429'), (9184145, '9279981'), (9184145, '1229389'), (9184145, '1229349'), (9184145, '8944652'), (9184145, '9525012'), (9184145, '10527620'), (9184145, '9777117'), (9184145, '5848282'), (9184145, '9741390'), (9184145, '9736252'), (9184145, '10048849'), (9184145, '9773341'), (9184145, '5599603'), (9184145, '9786964'), (9184145, '9804782'), (9184145, '9771174'), (9184145, '9816282'), (9184145, '5848103'), (9184145, '7512437'), (9184145, '9754612'), (9184145, '9752899'), (9184145, '9767972'), (9184145, '9767211'), (9184145, '8156238'), (9184145, '11027937'), (9184145, '9656215'), (9184145, '9392212'), (9184145, '11014112'), (9184145, '9279671'), (9184145, '4975405'), (9184145, '9733141'), (9184145, '9729932'), (9184145, '9968772'), (9184145, '9744704'), (9184145, '9743675'), (9184145, '9739461'), (9184145, '9737864'), (9184145, '9748147'), (9184145, '9749990'), (9184145, '9750932'), (9184145, '9746988'), (9184145, '9752300'), (9184145, '9733365'), (9184145, '9732281'), (9184145, '5002517'), (9184145, '10694557'), (9184145, '9644640'), (9184145, '5612231'), (9184145, '9279923'), (9184145, '9279896'), (9184145, '9279758'), (9184145, '5612473'), (9184145, '5636990'), (9184145, '5837922'), (9184145, '834727'), (9184145, '10600081'), (9184145, '9721189'), (9184145, '5845346'), (9184145, '10279995'), (9184145, '9816193'), (9184145, '814622'), (9184145, '814623'), (9184145, '5762352'), (9184145, '9455983'), (9184145, '9519439'), (9184145, '9752218'), (9184145, '9494359'), (9184145, '9227163'), (9184145, '9358393'), (9184145, '9224962'), (9184145, '9187761'), (9184145, '9475106'), (9184145, '9279748'), (9184145, '9279749'), (9184145, '833692'), (9184145, '832928'), (9184145, '833524'), (9184145, '832513'), (9184145, '832345'), (9184145, '829217'), (9184145, '829385'), (9184145, '837035'), (9184145, '11008542'), (9184145, '9696357'), (9184145, '9279773'), (9184145, '11052276'), (9184145, '11057230'), (9184145, '9617382'), (9184145, '11057203'), (9184145, '11052249'), (9184145, '4975440'), (9184145, '9680790'), (9184145, '9680788'), (9184145, '4975428'), (9184145, '1419293'), (9184145, '8974949'), (9184145, '11057210'), (9184145, '5801760'), (9184145, '5763044'), (9184145, '1203535'), (9184145, '816376'), (9184145, '817336'), (9184145, '4721467'), (9184145, '10774363'), (9184145, '7793857'), (9184145, '9737383'), (9184145, '7932469'), (9184145, '10502089'), (9184145, '8289529'), (9184145, '5580232'), (9184145, '9894038'), (9184145, '9965815'), (9184145, '9419178'), (9184145, '10345643'), (9184145, '1339391'), (9184145, '9545543'), (9184145, '10578346'), (9184145, '9054189'), (9184145, '8982829'), (9184145, '8951120'), (9184145, '1371142'), (9184145, '830238'), (9184145, '825931'), (9184145, '9696358'), (9184145, '9617167'), (9184145, '9616243'), (9184145, '9067075'), (9184145, '8974040'), (9184145, '1371152'), (9184145, '1371151'), (9184145, '10796044'), (9184145, '7759547'), (9184145, '815454'), (9184145, '9520951'), (9184145, '9729296'), (9184145, '9469211'), (9184145, '9754527'), (9184145, '9733923'), (9184145, '9782268'), (9184145, '9433908'), (9184145, '9430001'), (9184145, '9382999'), (9184145, '5868567'), (9184145, '9820463'), (9184145, '9769729'), (9184145, '9745931'), (9184145, '9702907'), (9184145, '9615086'), (9184145, '9615014'), (9184145, '9614673'), (9184145, '9614355'), (9184145, '4721446'), (9184145, '1532852'), (9184145, '9696351'), (9184145, '9328494'), (9184145, '9616713'), (9184145, '8740883'), (9184145, '11025916'), (9184145, '8931853'), (9184145, '11025895'), (9184145, '1268641'), (9184145, '9288577'), (9184145, '9185459'), (9184145, '4991653'), (9184145, '4721343'), (9184145, '9799138'), (9184145, '11092288'), (9184145, '832931'), (9184145, '830452'), (9184145, '827324'), (9184145, '826145'), (9184145, '9090750'), (9184145, '9090749'), (9184145, '11052279'), (9184145, '11072982'), (9184145, '9735337'), (9184145, '9753331'), (9184145, '5225573'), (9184145, '9654664'), (9184145, '11091787'), (9184145, '7078191'), (9184145, '11091611'), (9184145, '11091237'), (9184145, '11091797'), (9184145, '11091796'), (9184145, '7772053'), (9184145, '1184773'), (9184145, '9187749'), (9184145, '11092004'), (9184145, '11091695'), (9184145, '9740509'), (9184145, '9817387'), (9184145, '5837397'), (9184145, '9185861'), (9184145, '8944673'), (9184145, '8944742'), (9184145, '9337767'), (9184145, '9605746'), (9184145, '9726286'), (9184145, '821193'), (9184145, '5776546'), (9184145, '9082113'), (9184145, '9058578'), (9184145, '11057983'), (9184145, '11055524'), (9184145, '11057218'), (9184145, '9475355'), (9184145, '11091458'), (9184145, '11056294'), (9184145, '9681490'), (9184145, '11091790'), (9184145, '824005'), (9184145, '834569'), (9184145, '827663'), (9184145, '9613956'), (9184145, '9627407'), (9184145, '11027920'), (9184145, '9326032'), (9184145, '11091192'), (9184145, '9242927'), (9184145, '9196428'), (9184145, '9696037'), (9184145, '5636314'), (9184145, '11055498'), (9184145, '1618265'), (9184145, '11054290'), (9184145, '11029807'), (9184145, '11028112'), (9184145, '11091642'), (9184145, '9440817'), (9184145, '9614495'), (9184145, '11092327'), (9184145, '9617291'), (9184145, '9658077'), (9184145, '9757711'), (9184145, '9686945'), (9184145, '9616804'), (9184145, '9752083'), (9184145, '9410831'), (9184145, '9751403'), (9184145, '9717986'), (9184145, '10773818'), (9184145, '10770970'), (9184145, '10272480'), (9184145, '9802226'), (9184145, '10787442'), (9184145, '9761170'), (9184145, '9748610'), (9184145, '9861443'), (9184145, '9770398'), (9184145, '9786078'), (9184145, '9108391'), (9184145, '9744973'), (9184145, '11008402'), (9184145, '9789609'), (9184145, '9800326'), (9184145, '11055523'), (9184145, '11055496'), (9184145, '11055501'), (9184145, '11055495'), (9184145, '11114516'), (9184145, '9486410'), (9184145, '11114419'), (9184145, '9453765'), (9184145, '832822'), (9184145, '830343'), (9184145, '827215'), (9184145, '826036'), (9184145, '1230241'), (9184145, '1230294'), (9184145, '1229337'), (9184145, '5876589'), (9184145, '5816307'), (9184145, '5822855'), (9184145, '8151711'), (9184145, '5792173'), (9184145, '1628447'), (9184145, '1630581'), (9184145, '1514793'), (9184145, '5780448'), (9184145, '11114531'), (9184145, '11114530'), (9184145, '10816323'), (9184145, '11091625'), (9184145, '11091268'), (9184145, '9298787'), (9184145, '5678786'), (9184145, '827029'), (9184145, '835764'), (9184145, '9007422'), (9184145, '830355'), (9184145, '834458'), (9184145, '828852'), (9184145, '1044095'), (9184145, '4770405'), (9184145, '1339393'), (9184145, '9475313'), (9184145, '9630545'), (9184145, '9616304'), (9184145, '9213204'), (9184145, '11091808'), (9184145, '11092023'), (9184145, '11008442'), (9184145, '8961930'), (9184145, '9657744'), (9184145, '9317484'), (9184145, '9748577'), (9184145, '9782886'), (9184145, '9809375'), (9184145, '5845899'), (9184145, '5856880'), (9184145, '1468545'), (9184145, '11091609'), (9184145, '11091281'), (9184145, '11091308'), (9184145, '9744577'), (9184145, '9760426'), (9184145, '9140061'), (9184145, '11008530'), (9184145, '11114543'), (9184145, '9696345'), (9184145, '9679078'), (9184145, '5759255'), (9184145, '9731893'), (9184145, '9783165'), (9184145, '11114418'), (9184145, '1132039'), (9184145, '11027914'), (9184145, '9054828'), (9184145, '11091633'), (9184145, '4975520'), (9184145, '7757552'), (9184145, '11091253'), (9184145, '11091244'), (9184145, '11091278'), (9184145, '11091271'), (9184145, '9616145'), (9184145, '11091823'), (9184145, '11091825'), (9184145, '9758018'), (9184145, '9200570'), (9184145, '9180176'), (9184145, '9338953'), (9184145, '1268637'), (9184145, '11056306'), (9184145, '11114392'), (9184145, '10816019'), (9184145, '9023568'), (9184145, '9023479'), (9184145, '9614402'), (9184145, '834013'), (9184145, '828407'), (9184145, '9427353'), (9184145, '9388505'), (9184145, '1244138'), (9184145, '831161'), (9184145, '9617046'), (9184145, '9616282'), (9184145, '835365'), (9184145, '834939'), (9184145, '11091605'), (9184145, '832144'), (9184145, '829016'), (9184145, '825358'), (9184145, '11027912'), (9184145, '9462603'), (9184145, '11055511'), (9184145, '11114330'), (9184145, '248979'), (9184145, '278729'), (9184145, '11091634'), (9184145, '7771990'), (9184145, '11091229'), (9184145, '11091320'), (9184145, '11091314'), (9184145, '11091311'), (9184145, '11091299'), (9184145, '11091297'), (9184145, '11091322'), (9184145, '11092018'), (9184145, '11092014'), (9184145, '9384100'), (9184145, '4794693'), (9184145, '9614428'), (9184145, '9614415'), (9184145, '5687298'), (9184145, '1326575'), (9184145, '7735692'), (9184145, '11091462'), (9184145, '9185399'), (9184145, '7735358'), (9184145, '9617052'), (9184145, '9330690'), (9184145, '9605449'), (9184145, '9525157'), (9184145, '9696361'), (9184145, '9615978'), (9184145, '11057170'), (9184145, '9440404'), (9184145, '8991541'), (9184145, '11091682'), (9184145, '818057'), (9184145, '820627'), (9184145, '821373'), (9184145, '819893'), (9184145, '1230515'), (9184145, '9358372'), (9184145, '9475377'), (9184145, '7760091'), (9184145, '9709755'), (9184145, '9756946'), (9184145, '9770529'), (9184145, '9811978'), (9184145, '9768458'), (9184145, '9824047'), (9184145, '5801139'), (9184145, '813251'), (9184145, '814587'), (9184145, '812583'), (9184145, '813919'), (9184145, '9687850'), (9184145, '9349545'), (9184145, '9007840'), (9184145, '9755057'), (9184145, '11055464'), (9184145, '9780315'), (9184145, '11091270'), (9184145, '9497959'), (9184145, '816498'), (9184145, '817458'), (9184145, '9057721'), (9184145, '1230486'), (9184145, '9007263'), (9184145, '11091603'), (9184145, '9680932'), (9184145, '1371024'), (9184145, '9614788'), (9184145, '11091679'), (9184145, '833921'), (9184145, '831443'), (9184145, '828315'), (9184145, '824657'), (9184145, '11056120'), (9184145, '9515447'), (9184145, '9611611'), (9184145, '9617507'), (9184145, '11091316'), (9184145, '9615055'), (9184145, '11114333'), (9184145, '9326026'), (9184145, '9616442'), (9184145, '1370984'), (9184145, '9616283'), (9184145, '9616079'), (9184145, '9616067'), (9184145, '9614715'), (9184145, '11027938'), (9184145, '812969'), (9184145, '814305'), (9184145, '11091254'), (9184145, '9616589'), (9184145, '7757899'), (9184145, '9023347'), (9184145, '9681186'), (9184145, '823288'), (9184145, '11114501'), (9184145, '9613989'), (9184145, '11054007'), (9184145, '9444651'), (9184145, '11091232'), (9184145, '9616903'), (9184145, '5806450'), (9184145, '11008145'), (9184145, '831968'), (9184145, '825182'), (9184145, '11115756'), (9184145, '10712548'), (9184145, '9617542'), (9184145, '9185471'), (9184145, '5651286'), (9184145, '11027922'), (9184145, '9785476'), (9184145, '9800855'), (9184145, '1230437'), (9184145, '11114303'), (9184145, '9617369'), (9184145, '10712693'), (9184145, '9616658'), (9184145, '9616679'), (9184145, '830222'), (9184145, '825915'), (9184145, '823232'), (9184145, '832701'), (9184145, '827094'), (9184145, '815424'), (9184145, '815423'), (9184145, '11055503'), (9184145, '11091602'), (9184145, '829994'), (9184145, '823738'), (9184145, '9810432'), (9184145, '5856873'), (9184145, '9401123'), (9184145, '9145543'), (9184145, '9023521'), (9184145, '11057822'), (9184145, '9613962'), (9184145, '11114304'), (9184145, '8152530'), (9184145, '9753406'), (9184145, '11114268'), (9184145, '11114247'), (9184145, '9761029'), (9184145, '9816496'), (9184145, '5866785'), (9184145, '1371223'), (9184145, '829073'), (9184145, '820734'), (9184145, '833380'), (9184145, '834285'), (9184145, '11091816'), (9184145, '828809'), (9184145, '9738437'), (9184145, '11025900'), (9184145, '9696370'), (9184145, '8099691'), (9184145, '9605695'), (9184145, '9185811'), (9184145, '11091452'), (9184145, '11088673'), (9184145, '5225128'), (9184145, '5046942'), (9184145, '11091715'), (9184145, '9615162'), (9184145, '10712290'), (9184145, '5826490'), (9184145, '1099210'), (9184145, '9665784'), (9184145, '11092487'), (9184145, '1679164'), (9184145, '11115778'), (9184145, '11052521'), (9184145, '11114532'), (9184145, '11091692'), (9184145, '9007096'), (9184145, '1179087'), (9184145, '9616101'), (9184145, '9784527'), (9184145, '11091647'), (9184145, '9616503'), (9184145, '9617165'), (9184145, '9525046'), (9184145, '9525045'), (9184145, '11028080'), (9184145, '9614601'), (9184145, '9616753'), (9184145, '8931912'), (9184145, '9488016'), (9184145, '9710065'), (9184145, '11054448'), (9184145, '5687689'), (9184145, '11006525'), (9184145, '1629396'), (9184145, '1046186'), (9184145, '9338005'), (9184145, '8962329'), (9184145, '9339566'), (9184145, '11111398'), (9184145, '11011604'), (9184145, '9503492'), (9184145, '11092007'), (9184145, '9732122'), (9184145, '9728398'), (9184145, '9742378'), (9184145, '9751464'), (9184145, '9715982'), (9184145, '9627957'), (9184145, '9361115'), (9184145, '830631'), (9184145, '827503'), (9184145, '833110'), (9184145, '826324'), (9184145, '829656'), (9184145, '826528'), (9184145, '823400'), (9184145, '835263'), (9184145, '5656263'), (9184145, '1397338'), (9184145, '11114506'), (9184145, '1132042'), (9184145, '1397352'), (9184145, '1359383'), (9184145, '4761565'), (9184145, '5818286'), (9184145, '1441594'), (9184145, '9765038'), (9184145, '9517458'), (9184145, '11089821'), (9184145, '9808484'), (9184145, '8155409'), (9184145, '11091464'), (9184145, '9230557'), (9184145, '11114305'), (9184145, '1115157'), (9184145, '9617615'), (9184145, '11057232'), (9184145, '9410592'), (9184145, '8944792'), (9184145, '11057178'), (9184145, '11077663'), (9184145, '9746658'), (9184145, '9785259'), (9184145, '11027915'), (9184145, '5769245'), (9184145, '11077649'), (9184145, '10818954'), (9184145, '1397300'), (9184145, '11056086'), (9184145, '11114741'), (9184145, '11091740'), (9184145, '5547379'), (9184145, '11091992'), (9184145, '11091721'), (9184145, '1248318'), (9184145, '11027952'), (9184145, '10742429'), (9184145, '11057802'), (9184145, '11117054'), (9184145, '11117053'), (9184145, '11027908'), (9184145, '7864971'), (9184145, '9778099'), (9184145, '832132'), (9184145, '825346'), (9184145, '815362'), (9184145, '11117313'), (9184145, '11117399'), (9184145, '11117005'), (9184145, '1043948'), (9184145, '9617034'), (9184145, '11029749'), (9184145, '10694506'), (9184145, '11057221'), (9184145, '11091658'), (9184145, '11091250'), (9184145, '1419285'), (9184145, '11110727'), (9184145, '9775222'), (9184145, '9753459'), (9184145, '9749184'), (9184145, '10057600'), (9184145, '9802742'), (9184145, '9788038'), (9184145, '5561843'), (9184145, '5824732'), (9184145, '1443734'), (9184145, '9814577'), (9184145, '9613991'), (9184145, '9681110'), (9184145, '9615058'), (9184145, '9616603'), (9184145, '7367112'), (9184145, '10775823'), (9184145, '8944704'), (9184145, '11116957'), (9184145, '820930'), (9184145, '820196'), (9184145, '821267'), (9184145, '820521'), (9184145, '812982'), (9184145, '812314'), (9184145, '819434'), (9184145, '819048'), (9184145, '818855'), (9184145, '11117006'), (9184145, '831799'), (9184145, '9681488'), (9184145, '4770638'), (9184145, '9616965'), (9184145, '9616868'), (9184145, '11091981'), (9184145, '11092429'), (9184145, '9616700'), (9184145, '9616723'), (9184145, '11055469'), (9184145, '11116959'), (9184145, '9658136'), (9184145, '9722140'), (9184145, '10328219'), (9184145, '10218919'), (9184145, '9336565'), (9184145, '9337019'), (9184145, '9337967'), (9184145, '10102648'), (9184145, '9644435'), (9184145, '9487969'), (9184145, '9696307'), (9184145, '9681295'), (9184145, '10711066'), (9184145, '11059412'), (9184145, '11095220'), (9184145, '11101226'), (9184145, '10783025'), (9184145, '9736414'), (9184145, '9073963'), (9184145, '11091698'), (9184145, '1339412'), (9184145, '9073930'), (9184145, '9838170'), (9184145, '9767766'), (9184145, '5666800'), (9184145, '10742239'), (9184145, '10816391'), (9184145, '9737134'), (9184145, '4785296'), (9184145, '9306558'), (9184145, '5826700'), (9184145, '9804532'), (9184145, '9819887'), (9184145, '10714328'), (9184145, '9768621'), (9184145, '5814003'), (9184145, '11029740'), (9184145, '11115766'), (9184145, '11118534'), (9184145, '11118498'), (9184145, '11057740'), (9184145, '11057872'), (9184145, '11092412'), (9184145, '11117479'), (9184145, '9388579'), (9184145, '11026008'), (9184145, '1379720'), (9184145, '10153784'), (9184145, '9709616'), (9184145, '9774372'), (9184145, '11115765'), (9184145, '11043952'), (9184145, '11111272'), (9184145, '11110052'), (9184145, '9486747'), (9184145, '9783453'), (9184145, '11091276'), (9184145, '9786761'), (9184145, '9767619'), (9184145, '8156384'), (9184145, '10714234'), (9184145, '11091234'), (9184145, '9525049'), (9184145, '9649841'), (9184145, '11107604'), (9184145, '11092021'), (9184145, '11092000'), (9184145, '10013912'), (9184145, '9868041'), (9184145, '9977345'), (9184145, '9975195'), (9184145, '9763698'), (9184145, '10438355'), (9184145, '10219057'), (9184145, '10049217'), (9184145, '11089866'), (9184145, '9663120'), (9184145, '11118480'), (9184145, '11115801'), (9184145, '11115795'), (9184145, '1131979'), (9184145, '5043088'), (9184145, '9038314'), (9184145, '1339400'), (9184145, '1339386'), (9184145, '9059920'), (9184145, '11095707'), (9184145, '11055529'), (9184145, '8931848'), (9184145, '9645738'), (9184145, '929456'), (9184145, '9616926'), (9184145, '11063423'), (9184145, '9277440'), (9184145, '816287'), (9184145, '817247'), (9184145, '815807'), (9184145, '816767'), (9184145, '9664900'), (9184145, '825622'), (9184145, '829280'), (9184145, '833587'), (9184145, '812368'), (9184145, '832408'), (9184145, '815758'), (9184145, '813704'), (9184145, '9696376'), (9184145, '5687432'), (9184145, '9347134'), (9184145, '8945253'), (9184145, '5988680'), (9184145, '5622960'), (9184145, '1371139'), (9184145, '1371122'), (9184145, '1249101'), (9184145, '5779539'), (9184145, '9216502'), (9184145, '9023395'), (9184145, '9750840'), (9184145, '9736781'), (9184145, '9755599'), (9184145, '9616256'), (9184145, '9482380'), (9184145, '5636495'), (9184145, '9730192'), (9184145, '10694311'), (9184145, '9614215'), (9184145, '5545323'), (9184145, '830987'), (9184145, '824201'), (9184145, '11028118'), (9184145, '9396613'), (9184145, '9680509'), (9184145, '5678906'), (9184145, '9158862'), (9184145, '10794443'), (9184145, '9613972'), (9184145, '11118590'), (9184145, '11026003'), (9184145, '11115802'), (9184145, '5043083'), (9184145, '11057216'), (9184145, '9617464'), (9184145, '9326708'), (9184145, '11091565'), (9184145, '9617068'), (9184145, '9616721'), (9184145, '11091793'), (9184145, '9388219'), (9184145, '9814834'), (9184145, '7974545'), (9184145, '7771744'), (9184145, '7602749'), (9184145, '7757847'), (9184145, '8169082'), (9184145, '9338292'), (9184145, '5679159'), (9184145, '5677628'), (9184145, '10712297'), (9184145, '9338439'), (9184145, '10759073'), (9184145, '10511450'), (9184145, '10635099'), (9184145, '9743080'), (9184145, '9313384'), (9184145, '5878961'), (9184145, '9165650'), (9184145, '4808073'), (9184145, '4790700'), (9184145, '1261731'), (9184145, '5770746'), (9184145, '1679333'), (9184145, '1370998'), (9184145, '9734383'), (9184145, '11075795'), (9184145, '9107612'), (9184145, '9248704'), (9184145, '11088858'), (9184145, '8596708'), (9184145, '9486248'), (9184145, '5901480'), (9184145, '4771029'), (9184145, '9743514'), (9184145, '11117475'), (9184145, '11117474'), (9184145, '5847243'), (9184145, '9491748'), (9184145, '9824540'), (9184145, '278730'), (9184145, '1132063'), (9184145, '1132036'), (9184145, '11114517'), (9184145, '9022557'), (9184145, '5043086'), (9184145, '4975443'), (9184145, '1131877'), (9184145, '1358495'), (9184145, '1358505'), (9184145, '11057167'), (9184145, '1263432'), (9184145, '11119149'), (9184145, '11114323'), (9184145, '9725812'), (9184145, '9212306'), (9184145, '1291574'), (9184145, '9780637'), (9184145, '9185518'), (9184145, '1268634'), (9184145, '9410644'), (9184145, '9410643'), (9184145, '8944814'), (9184145, '9073935'), (9184145, '11053984'), (9184145, '11055510'), (9184145, '9617408'), (9184145, '11091555'), (9184145, '7757553'), (9184145, '9617466'), (9184145, '9617463'), (9184145, '9245242'), (9184145, '11116057'), (9184145, '9326027'), (9184145, '11091640'), (9184145, '11091614'), (9184145, '11091594'), (9184145, '11091273'), (9184145, '5687980'), (9184145, '835288'), (9184145, '829681'), (9184145, '826553'), (9184145, '823425'), (9184145, '9185067'), (9184145, '859128'), (9184145, '11117213'), (9184145, '11008445'), (9184145, '9644567'), (9184145, '9074274'), (9184145, '9797244'), (9184145, '9782843'), (9184145, '9745836'), (9184145, '9748464'), (9184145, '9729679'), (9184145, '9728225'), (9184145, '9741507'), (9184145, '9968922'), (9184145, '5818981'), (9184145, '10803314'), (9184145, '9696133'), (9184145, '10794919'), (9184145, '9345132'), (9184145, '9788767'), (9184145, '9792325'), (9184145, '9796957'), (9184145, '5864340'), (9184145, '5846839'), (9184145, '1045047'), (9184145, '11009261'), (9184145, '5022339'), (9184145, '1178793'), (9184145, '1178958'), (9184145, '1131855'), (9184145, '11119050'), (9184145, '11118910'), (9184145, '11105656'), (9184145, '11117305'), (9184145, '11029828'), (9184145, '10742248'), (9184145, '11120202'), (9184145, '11057778'), (9184145, '9739290'), (9184145, '11057226'), (9184145, '5580641'), (9184145, '5580640'), (9184145, '10800443'), (9184145, '5595052'), (9184145, '11121373'), (9184145, '1231000'), (9184145, '1044891'), (9184145, '11118994'), (9184145, '11117068'), (9184145, '9614398'), (9184145, '9193053'), (9184145, '9819197'), (9184145, '4793641'), (9184145, '825787'), (9184145, '830298'), (9184145, '830297'), (9184145, '830296'), (9184145, '833752'), (9184145, '832776'), (9184145, '832775'), (9184145, '832777'), (9184145, '829445'), (9184145, '815594'), (9184145, '815418'), (9184145, '815691'), (9184145, '827170'), (9184145, '827169'), (9184145, '9073992'), (9184145, '1233912'), (9184145, '1208176'), (9184145, '11118488'), (9184145, '9388518'), (9184145, '9617290'), (9184145, '4771062'), (9184145, '1691026'), (9184145, '11099823'), (9184145, '5885325'), (9184145, '9312983'), (9184145, '9764510'), (9184145, '8552800'), (9184145, '9023334'), (9184145, '11092015'), (9184145, '8974301'), (9184145, '10649033'), (9184145, '9796597'), (9184145, '9798849'), (9184145, '9797829'), (9184145, '9793129'), (9184145, '826702'), (9184145, '826304'), (9184145, '824587'), (9184145, '830749'), (9184145, '830138'), (9184145, '835151'), (9184145, '826215'), (9184145, '830522'), (9184145, '8944712'), (9184145, '11057775'), (9184145, '9614704'), (9184145, '11118619'), (9184145, '11008580'), (9184145, '9617350'), (9184145, '9614340'), (9184145, '9506832'), (9184145, '9506831'), (9184145, '11091628'), (9184145, '11091791'), (9184145, '815232'), (9184145, '11089873'), (9184145, '9730352'), (9184145, '11116938'), (9184145, '835774'), (9184145, '830167'), (9184145, '9644387'), (9184145, '11118350'), (9184145, '9297699'), (9184145, '9728195'), (9184145, '8990424'), (9184145, '9796032'), (9184145, '5878707'), (9184145, '9810294'), (9184145, '10267588'), (9184145, '9769366'), (9184145, '9812201'), (9184145, '10777800'), (9184145, '9817626'), (9184145, '5049369'), (9184145, '5830839'), (9184145, '5830297'), (9184145, '9816251'), (9184145, '5838092'), (9184145, '11129794'), (9184145, '11120353'), (9184145, '11120439'), (9184145, '9726283'), (9184145, '9616954'), (9184145, '8945406'), (9184145, '9779160'), (9184145, '10541322'), (9184145, '11117224'), (9184145, '10742399'), (9184145, '9617442'), (9184145, '11115993'), (9184145, '9714985'), (9184145, '9741407'), (9184145, '9739276'), (9184145, '9818996'), (9184145, '9105222'), (9184145, '9824373'), (9184145, '7839514'), (9184145, '8153100'), (9184145, '10816027'), (9184145, '9515347'), (9184145, '825293'), (9184145, '825003'), (9184145, '834267'), (9184145, '10816029'), (9184145, '10816025'), (9184145, '1358159'), (9184145, '11091332'), (9184145, '5580646'), (9184145, '11092387'), (9184145, '9506347'), (9184145, '7839980'), (9184145, '9696612'), (9184145, '11114284'), (9184145, '7691614'), (9184145, '11115797'), (9184145, '11057199'), (9184145, '9680756'), (9184145, '5687571'), (9184145, '11114554'), (9184145, '9644584'), (9184145, '11114558'), (9184145, '11117298'), (9184145, '11055509'), (9184145, '9617411'), (9184145, '11120484'), (9184145, '11120490'), (9184145, '11120486'), (9184145, '5009048'), (9184145, '9074390'), (9184145, '8961956'), (9184145, '11091748'), (9184145, '10694200'), (9184145, '4794821'), (9184145, '815020'), (9184145, '11116955'), (9184145, '11116956'), (9184145, '11116941'), (9184145, '9783111'), (9184145, '9719248'), (9184145, '11091719'), (9184145, '9817557'), (9184145, '5866657'), (9184145, '5863830'), (9184145, '9810443'), (9184145, '825507'), (9184145, '825508'), (9184145, '824703'), (9184145, '9761001'), (9184145, '5858719'), (9184145, '835068'), (9184145, '814363'), (9184145, '5831286'), (9184145, '5769058'), (9184145, '9614840'), (9184145, '11119214'), (9184145, '9364031'), (9184145, '11114409'), (9184145, '9412756'), (9184145, '11024016'), (9184145, '4721830'), (9184145, '5774991'), (9184145, '1397344'), (9184145, '1397343'), (9184145, '11118974'), (9184145, '9779416'), (9184145, '9217288'), (9184145, '11114921'), (9184145, '5888151'), (9184145, '10789537'), (9184145, '10779927'), (9184145, '10759832'), (9184145, '1371230'), (9184145, '5769630'), (9184145, '9824516'), (9184145, '1800332'), (9184145, '1348922'), (9184145, '5637132'), (9184145, '9007180'), (9184145, '827405'), (9184145, '826226'), (9184145, '826269'), (9184145, '826271'), (9184145, '825057'), (9184145, '825675'), (9184145, '825904'), (9184145, '831843'), (9184145, '830970'), (9184145, '830211'), (9184145, '834748'), (9184145, '5656236'), (9184145, '5656228'), (9184145, '5861678'), (9184145, '5859024'), (9184145, '5857414'), (9184145, '5612466'), (9184145, '5851616'), (9184145, '5851055'), (9184145, '5856958'), (9184145, '7821686'), (9184145, '7708812'), (9184145, '5849593'), (9184145, '5846471'), (9184145, '9023455'), (9184145, '1068189'), (9184145, '819863'), (9184145, '820597'), (9184145, '11091657'), (9184145, '11118490'), (9184145, '11114594'), (9184145, '9736871'), (9184145, '9736505'), (9184145, '9751728'), (9184145, '9741842'), (9184145, '9742465'), (9184145, '9740519'), (9184145, '9738592'), (9184145, '9754177'), (9184145, '9753615'), (9184145, '11091759'), (9184145, '11091729'), (9184145, '11056236'), (9184145, '10144991'), (9184145, '9873899'), (9184145, '9837567'), (9184145, '812438'), (9184145, '813774'), (9184145, '1126263'), (9184145, '1374288'), (9184145, '11118519'), (9184145, '11114564'), (9184145, '9617514'), (9184145, '9023499'), (9184145, '9617045'), (9184145, '9783659'), (9184145, '825917'), (9184145, '830224'), (9184145, '832703'), (9184145, '11118511'), (9184145, '5772848'), (9184145, '9616736'), (9184145, '1133101'), (9184145, '9728806'), (9184145, '11116961'), (9184145, '9615046'), (9184145, '11027967'), (9184145, '9614221'), (9184145, '9427181'), (9184145, '9617658'), (9184145, '11091644'), (9184145, '5868532'), (9184145, '1196752'), (9184145, '5253022'), (9184145, '1798783'), (9184145, '1230475'), (9184145, '11116069'), (9184145, '9696488'), (9184145, '9073974'), (9184145, '1077259'), (9184145, '1077251'), (9184145, '1077221'), (9184145, '1077230'), (9184145, '693001'), (9184145, '692971'), (9184145, '693060'), (9184145, '693058'), (9184145, '11091846'), (9184145, '11091829'), (9184145, '11174688'), (9184145, '11120326'), (9184145, '11173245'), (9184145, '11117211'), (9184145, '11120167'), (9184145, '11119088'), (9184145, '11173356'), (9184145, '11173104'), (9184145, '11173141'), (9184145, '11057200'), (9184145, '11174010'), (9184145, '11055525'), (9184145, '4975422'), (9184145, '9658145'), (9184145, '9225657'), (9184145, '11057350'), (9184145, '11089411'), (9184145, '7767069'), (9184145, '7767056'), (9184145, '9339328'), (9184145, '10515459'), (9184145, '8157904'), (9184145, '9738905'), (9184145, '11174715'), (9184145, '11173205'), (9184145, '9073988'), (9184145, '1308754'), (9184145, '11091776'), (9184145, '823211'), (9184145, '1045032'), (9184145, '1181912'), (9184145, '11106746'), (9184145, '10758849'), (9184145, '9506883'), (9184145, '9616588'), (9184145, '11118990'), (9184145, '9696419'), (9184145, '9644563'), (9184145, '9757703'), (9184145, '11091761'), (9184145, '835317'), (9184145, '835316'), (9184145, '826582'), (9184145, '826581'), (9184145, '817581'), (9184145, '816621'), (9184145, '812627'), (9184145, '813963'), (9184145, '11008452'), (9184145, '11025954'), (9184145, '9726229'), (9184145, '9729162'), (9184145, '9728760'), (9184145, '9732362'), (9184145, '11056165'), (9184145, '9399210'), (9184145, '9696350'), (9184145, '9726270'), (9184145, '11021922'), (9184145, '9746500'), (9184145, '9729420'), (9184145, '9734552'), (9184145, '9750035'), (9184145, '9753529'), (9184145, '5872357'), (9184145, '10751834'), (9184145, '9760200'), (9184145, '9763652'), (9184145, '9756848'), (9184145, '9768226'), (9184145, '9778430'), (9184145, '9286516'), (9184145, '9251258'), (9184145, '9663027'), (9184145, '832717'), (9184145, '827110'), (9184145, '11120110'), (9184145, '11173130'), (9184145, '11114395'), (9184145, '9617558'), (9184145, '1321326'), (9184145, '1322842'), (9184145, '1336681'), (9184145, '1322887'), (9184145, '6572567'), (9184145, '7959909'), (9184145, '1127310'), (9184145, '1194239'), (9184145, '815226'), (9184145, '7917083'), (9184145, '7691048'), (9184145, '1051961'), (9184145, '9678788'), (9184145, '9337100'), (9184145, '11036561'), (9184145, '11111571'), (9184145, '9680808'), (9184145, '9410645'), (9184145, '8944821'), (9184145, '7839406'), (9184145, '9073942'), (9184145, '9615068'), (9184145, '9615971'), (9184145, '9614422'), (9184145, '9614311'), (9184145, '11091670'), (9184145, '9397826'), (9184145, '9757537'), (9184145, '835786'), (9184145, '830179'), (9184145, '830842'), (9184145, '827051'), (9184145, '824056'), (9184145, '823923'), (9184145, '812070'), (9184145, '813932'), (9184145, '813406'), (9184145, '812596'), (9184145, '5778054'), (9184145, '10712644'), (9184145, '9775504'), (9184145, '11173210'), (9184145, '11029731'), (9184145, '9455981'), (9184145, '9056212'), (9184145, '9038605'), (9184145, '11201688'), (9184145, '9289347'), (9184145, '825013'), (9184145, '11117375'), (9184145, '11029697'), (9184145, '11091279'), (9184145, '11092039'), (9184145, '11114278'), (9184145, '5611665'), (9184145, '11091665'), (9184145, '11172890'), (9184145, '11173212'), (9184145, '11054311'), (9184145, '11029728'), (9184145, '9756983'), (9184145, '832888'), (9184145, '826102'), (9184145, '830409'), (9184145, '827281'), (9184145, '11055466'), (9184145, '11052622'), (9184145, '8961927'), (9184145, '1132478'), (9184145, '10765456'), (9184145, '10761616'), (9184145, '11008367'), (9184145, '7922965'), (9184145, '10458338'), (9184145, '5791374'), (9184145, '7986084'), (9184145, '9347629'), (9184145, '824984'), (9184145, '834487'), (9184145, '829973'), (9184145, '835580'), (9184145, '834762'), (9184145, '834248'), (9184145, '831770'), (9184145, '828642'), (9184145, '827856'), (9184145, '826845'), (9184145, '823717'), (9184145, '9681036'), (9184145, '9353805'), (9184145, '11119016'), (9184145, '11117289'), (9184145, '11174686'), (9184145, '11091248'), (9184145, '9159494'), (9184145, '9617133'), (9184145, '9969558'), (9184145, '9320212'), (9184145, '9258605'), (9184145, '9756142'), (9184145, '9767105'), (9184145, '10649026'), (9184145, '5807250'), (9184145, '8183974'), (9184145, '5699085'), (9184145, '5698742'), (9184145, '1921983'), (9184145, '5693589'), (9184145, '5721489'), (9184145, '1898523'), (9184145, '5695147'), (9184145, '5693384'), (9184145, '5696805'), (9184145, '11120385'), (9184145, '9631770'), (9184145, '9631751'), (9184145, '9631754'), (9184145, '9631737'), (9184145, '11173211'), (9184145, '9771707'), (9184145, '9771487'), (9184145, '5830867'), (9184145, '11120109'), (9184145, '11174776'), (9184145, '11174821'), (9184145, '11173995'), (9184145, '9681031'), (9184145, '1818178'), (9184145, '9280421'), (9184145, '11172887'), (9184145, '11119012'), (9184145, '11116983'), (9184145, '9617166'), (9184145, '9023366'), (9184145, '9022764'), (9184145, '11056119'), (9184145, '9515369'), (9184145, '9748151'), (9184145, '9497719'), (9184145, '9458043'), (9184145, '9766126'), (9184145, '9770143'), (9184145, '9811358'), (9184145, '11174827'), (9184145, '8567558'), (9184145, '8570882'), (9184145, '8718437'), (9184145, '11114435'), (9184145, '9519394'), (9184145, '9038577'), (9184145, '10696359'), (9184145, '9496620'), (9184145, '9617047'), (9184145, '7766312'), (9184145, '10708130'), (9184145, '11205244'), (9184145, '11057982'), (9184145, '11029784'), (9184145, '11205625'), (9184145, '11057183'), (9184145, '9614686'), (9184145, '9614712'), (9184145, '9709692'), (9184145, '1132041'), (9184145, '11114218'), (9184145, '11091673'), (9184145, '814271'), (9184145, '812267'), (9184145, '812935'), (9184145, '813603'), (9184145, '11205770'), (9184145, '5857625'), (9184145, '10789494'), (9184145, '9748426'), (9184145, '9741649'), (9184145, '9745181'), (9184145, '9753484'), (9184145, '9604951'), (9184145, '4850829'), (9184145, '9796163'), (9184145, '5811607'), (9184145, '9765964'), (9184145, '10732807'), (9184145, '9326871'), (9184145, '9023417'), (9184145, '10782808'), (9184145, '9789450'), (9184145, '5797382'), (9184145, '1957493'), (9184145, '1879757'), (9184145, '1991425'), (9184145, '9488060'), (9184145, '11172892'), (9184145, '11091454'), (9184145, '11091460'), (9184145, '11091188'), (9184145, '11057204'), (9184145, '8945304'), (9184145, '4975521'), (9184145, '10096897'), (9184145, '5630413'), (9184145, '8156915'), (9184145, '11029723'), (9184145, '9668456'), (9184145, '9617081'), (9184145, '10818108'), (9184145, '9852030'), (9184145, '5808336'), (9184145, '11008581'), (9184145, '9644585'), (9184145, '11091451'), (9184145, '9812909'), (9184145, '9812906'), (9184145, '11201189'), (9184145, '11054066'), (9184145, '9245229'), (9184145, '11205226'), (9184145, '9663672'), (9184145, '7872843'), (9184145, '9614037'), (9184145, '11057227'), (9184145, '5049929'), (9184145, '1587414'), (9184145, '5825017'), (9184145, '1433875'), (9184145, '1444268'), (9184145, '11037900'), (9184145, '9205877'), (9184145, '9098545'), (9184145, '9821074'), (9184145, '9756705'), (9184145, '5884790'), (9184145, '8158727'), (9184145, '1682630'), (9184145, '11201686'), (9184145, '9750096'), (9184145, '11114349'), (9184145, '7760078'), (9184145, '11114287'), (9184145, '11205722'), (9184145, '5852055'), (9184145, '9774324'), (9184145, '5819064'), (9184145, '1138904'), (9184145, '10816353'), (9184145, '1077210'), (9184145, '693032'), (9184145, '9475354'), (9184145, '11172894'), (9184145, '11172893'), (9184145, '11172891'), (9184145, '825641'), (9184145, '833606'), (9184145, '832427'), (9184145, '829299'), (9184145, '11119943'), (9184145, '11119062'), (9184145, '11119061'), (9184145, '9695358'), (9184145, '820200'), (9184145, '821680'), (9184145, '820934'), (9184145, '818364'), (9184145, '9811853'), (9184145, '9631708'), (9184145, '9073939'), (9184145, '11091489'), (9184145, '11116984'), (9184145, '11173126'), (9184145, '11057863'), (9184145, '10742240'), (9184145, '11205325'), (9184145, '9741695'), (9184145, '4978088'), (9184145, '9757515'), (9184145, '1231425'), (9184145, '9073958'), (9184145, '815303'), (9184145, '9462602'), (9184145, '7760084'), (9184145, '1371120'), (9184145, '815277'), (9184145, '8970010'), (9184145, '815364'), (9184145, '815357'), (9184145, '815309'), (9184145, '815269'), (9184145, '815270'), (9184145, '11118989'), (9184145, '1358508'), (9184145, '11207621'), (9184145, '1230351'), (9184145, '9630566'), (9184145, '11207757'), (9184145, '827510'), (9184145, '826331'), (9184145, '833117'), (9184145, '830638'), (9184145, '11207629'), (9184145, '9388516'), (9184145, '815291'), (9184145, '1184017'), (9184145, '8944675'), (9184145, '11203070'), (9184145, '9057054'), (9184145, '9658000'), (9184145, '11174777'), (9184145, '11201672'), (9184145, '9007225'), (9184145, '10618540'), (9184145, '825158'), (9184145, '819220'), (9184145, '819027'), (9184145, '819413'), (9184145, '818834'), (9184145, '9213207'), (9184145, '4770138'), (9184145, '835081'), (9184145, '820778'), (9184145, '820682'), (9184145, '9023476'), (9184145, '5637123'), (9184145, '9023232'), (9184145, '9730181'), (9184145, '9525399'), (9184145, '9658020'), (9184145, '9023317'), (9184145, '9022657'), (9184145, '9023271'), (9184145, '10792939'), (9184145, '9733278'), (9184145, '5822630'), (9184145, '11055470'), (9184145, '11700847'), (9184145, '9616242'), (9184145, '9042325'), (9184145, '10780572'), (9184145, '9111310'), (9184145, '9802184'), (9184145, '9789533'), (9184145, '8159914'), (9184145, '1230284'), (9184145, '5636683'), (9184145, '819742'), (9184145, '835091'), (9184145, '8152432'), (9184145, '9818362'), (9184145, '9819203'), (9184145, '9163974'), (9184145, '11618218'), (9184145, '9770179'), (9184145, '5802275'), (9184145, '9680876'), (9184145, '9023555'), (9184145, '9023554'), (9184145, '7840278'), (9184145, '5754882'), (9184145, '9201594'), (9184145, '835723'), (9184145, '10706160'), (9184145, '11089864'), (9184145, '815787'), (9184145, '9478080'), (9184145, '9085767'), (9184145, '826078'), (9184145, '826690'), (9184145, '826689'), (9184145, '826688'), (9184145, '9298295'), (9184145, '9304847'), (9184145, '9681203'), (9184145, '10816403'), (9184145, '11700273'), (9184145, '9329283'), (9184145, '5806514'), (9184145, '10712646'), (9184145, '11202012'), (9184145, '9741117'), (9184145, '9772852'), (9184145, '4787865'), (9184145, '10752177'), (9184145, '11027923'), (9184145, '10712545'), (9184145, '9679104'), (9184145, '11202974'), (9184145, '11061768'), (9184145, '9780483'), (9184145, '9663693'), (9184145, '9670420'), (9184145, '10791415'), (9184145, '9786657'), (9184145, '5794626'), (9184145, '11057211'), (9184145, '11700962'), (9184145, '11205227'), (9184145, '8944644'), (9184145, '11201677'), (9184145, '11116039'), (9184145, '9023448'), (9184145, '9287472'), (9184145, '11116008'), (9184145, '830363'), (9184145, '832842'), (9184145, '826056'), (9184145, '827235'), (9184145, '11207740'), (9184145, '825305'), (9184145, '835284'), (9184145, '834650'), (9184145, '833270'), (9184145, '832091'), (9184145, '11207689'), (9184145, '11119213'), (9184145, '1186925'), (9184145, '11201194'), (9184145, '10712309'), (9184145, '11117004'), (9184145, '10712301'), (9184145, '8961914'), (9184145, '9614949'), (9184145, '9681128'), (9184145, '11008449'), (9184145, '9615013'), (9184145, '9022537'), (9184145, '11096077'), (9184145, '9655074'), (9184145, '11059405'), (9184145, '10695824'), (9184145, '9889351'), (9184145, '9751367'), (9184145, '9765383'), (9184145, '9769443'), (9184145, '9753826'), (9184145, '9754109'), (9184145, '5859021'), (9184145, '11114267'), (9184145, '9296954'), (9184145, '7874966'), (9184145, '11701206'), (9184145, '11117364'), (9184145, '9680992'), (9184145, '9488017'), (9184145, '11235593'), (9184145, '9616938'), (9184145, '11091198'), (9184145, '11205772'), (9184145, '11700761'), (9184145, '1132012'), (9184145, '11092292'), (9184145, '9681027'), (9184145, '9681211'), (9184145, '9644604'), (9184145, '833581'), (9184145, '832402'), (9184145, '829274'), (9184145, '825616'), (9184145, '1045478'), (9184145, '11117012'), (9184145, '9616894'), (9184145, '9090743'), (9184145, '11057205'), (9184145, '11700794'), (9184145, '11700800'), (9184145, '11118680'), (9184145, '9616309'), (9184145, '9007837'), (9184145, '9617209'), (9184145, '9726332'), (9184145, '11120336'), (9184145, '9616335'), (9184145, '11207691'), (9184145, '11207690'), (9184145, '11118966'), (9184145, '11700858'), (9184145, '9644598'), (9184145, '9658078'), (9184145, '11120251'), (9184145, '11056109'), (9184145, '10438620'), (9184145, '9614900'), (9184145, '11202172'), (9184145, '9747687'), (9184145, '10742371'), (9184145, '11201739'), (9184145, '11201737'), (9184145, '11201736'), (9184145, '11201734'), (9184145, '11201735'), (9184145, '11201733'), (9184145, '11201732'), (9184145, '11203373'), (9184145, '9616436'), (9184145, '11118624'), (9184145, '11114569'), (9184145, '1413335'), (9184145, '11194503'), (9184145, '9741922'), (9184145, '9741005'), (9184145, '9433808'), (9184145, '9467633'), (9184145, '9679131'), (9184145, '11091982'), (9184145, '11091187'), (9184145, '11117480'), (9184145, '11092069'), (9184145, '11091694'), (9184145, '11702227'), (9184145, '11117028'), (9184145, '833343'), (9184145, '829036'), (9184145, '817515'), (9184145, '816555'), (9184145, '828951'), (9184145, '815131'), (9184145, '815796'), (9184145, '819956'), (9184145, '9056183'), (9184145, '835450'), (9184145, '833417'), (9184145, '1229413'), (9184145, '9297019'), (9184145, '11008484'), (9184145, '11701824'), (9184145, '9616654'), (9184145, '9745766'), (9184145, '9615151'), (9184145, '11700724'), (9184145, '11099471'), (9184145, '10797685'), (9184145, '5830447'), (9184145, '10721444'), (9184145, '9068531'), (9184145, '1231259'), (9184145, '696139'), (9184145, '696231'), (9184145, '11701547'), (9184145, '11701877'), (9184145, '11700966'), (9184145, '9614244'), (9184145, '8944728'), (9184145, '820419'), (9184145, '819685'), (9184145, '812939'), (9184145, '835508'), (9184145, '826773'), (9184145, '814275'), (9184145, '11114246'), (9184145, '11114248'), (9184145, '11114245'), (9184145, '9745560'), (9184145, '4854250'), (9184145, '9617035'), (9184145, '11029699'), (9184145, '1291587'), (9184145, '9800710'), (9184145, '9056802'), (9184145, '11054338'), (9184145, '11701889'), (9184145, '11701885'), (9184145, '11700853'), (9184145, '11700849'), (9184145, '9680928'), (9184145, '9007238'), (9184145, '9680886'), (9184145, '9680824'), (9184145, '9680822'), (9184145, '1358269'), (9184145, '9614731'), (9184145, '11202409'), (9184145, '5687903'), (9184145, '11700783'), (9184145, '11201695'), (9184145, '5687396'), (9184145, '9614592'), (9184145, '11702228'), (9184145, '8961940'), (9184145, '11205241'), (9184145, '11701552'), (9184145, '11173106'), (9184145, '11201935'), (9184145, '11205207'), (9184145, '11202385'), (9184145, '11201833'), (9184145, '9007232'), (9184145, '11119045'), (9184145, '11119087'), (9184145, '2056216'), (9184145, '9614309'), (9184145, '10789281'), (9184145, '9749567'), (9184145, '9314446'), (9184145, '9231789'), (9184145, '11617919'), (9184145, '9779815'), (9184145, '10773447'), (9184145, '9807457'), (9184145, '11052520'), (9184145, '11702248'), (9184145, '10773181'), (9184145, '10759985'), (9184145, '11028029'), (9184145, '9616059'), (9184145, '11025961'), (9184145, '11008466'), (9184145, '9336561'), (9184145, '11206187'), (9184145, '11161944'), (9184145, '11029696'), (9184145, '11201727'), (9184145, '11201722'), (9184145, '11702354'), (9184145, '9617675'), (9184145, '1044958'), (9184145, '1845128'), (9184145, '1969172'), (9184145, '11173345'), (9184145, '8945359'), (9184145, '829552'), (9184145, '835159'), (9184145, '826424'), (9184145, '823296'), (9184145, '831877'), (9184145, '828749'), (9184145, '834355'), (9184145, '825091'), (9184145, '11700747'), (9184145, '11700852'), (9184145, '11116940'), (9184145, '11114244'), (9184145, '9614632'), (9184145, '11201671'), (9184145, '9007202'), (9184145, '11055458'), (9184145, '11700777'), (9184145, '9631745'), (9184145, '9631731'), (9184145, '9631741'), (9184145, '10712558'), (9184145, '11091683'), (9184145, '5636688'), (9184145, '818112'), (9184145, '831303'), (9184145, '9615956'), (9184145, '9483971'), (9184145, '11089881'), (9184145, '9608178'), (9184145, '7766309'), (9184145, '1371180'), (9184145, '10799042'), (9184145, '9658079'), (9184145, '9809623'), (9184145, '11117223'), (9184145, '11117470'), (9184145, '10694513'), (9184145, '1388851'), (9184145, '10256682'), (9184145, '11091196'), (9184145, '9396865'), (9184145, '5826117'), (9184145, '11702172'), (9184145, '11708837'), (9184145, '9616228'), (9184145, '9615969'), (9184145, '5804693'), (9184145, '9794559'), (9184145, '11205149'), (9184145, '9457673'), (9184145, '9090751'), (9184145, '9731640'), (9184145, '9752321'), (9184145, '9730036'), (9184145, '9815516'), (9184145, '8151683'), (9184145, '9755665'), (9184145, '9739563'), (9184145, '5865605'), (9184145, '5846963'), (9184145, '5844917'), (9184145, '5848261'), (9184145, '5850289'), (9184145, '11120406'), (9184145, '11117290'), (9184145, '9022870'), (9184145, '9377158'), (9184145, '832100'), (9184145, '832099'), (9184145, '832098'), (9184145, '815717'), (9184145, '820220'), (9184145, '819021'), (9184145, '820954'), (9184145, '825314'), (9184145, '11114865'), (9184145, '11114370'), (9184145, '9073977'), (9184145, '9073954'), (9184145, '11057172'), (9184145, '9616783'), (9184145, '1135255'), (9184145, '11702131'), (9184145, '11120483'), (9184145, '9755398'), (9184145, '9737893'), (9184145, '832143'), (9184145, '833322'), (9184145, '829015'), (9184145, '825357'), (9184145, '835106'), (9184145, '824542'), (9184145, '9809229'), (9184145, '10502789'), (9184145, '10380661'), (9184145, '6415993'), (9184145, '4786469'), (9184145, '8168513'), (9184145, '8167593'), (9184145, '8167473'), (9184145, '9089133'), (9184145, '9211858'), (9184145, '9160835'), (9184145, '6745279'), (9184145, '6745265'), (9184145, '7838958'), (9184145, '7837537'), (9184145, '1093866'), (9184145, '5597721'), (9184145, '5796215'), (9184145, '11029690'), (9184145, '11708923'), (9184145, '11708415'), (9184145, '9753979'), (9184145, '11708343'), (9184145, '11174880'), (9184145, '11207654'), (9184145, '9617564'), (9184145, '11207667'), (9184145, '9184066'), (9184145, '9617078'), (9184145, '9617076'), (9184145, '11700963'), (9184145, '11057667'), (9184145, '11207780'), (9184145, '11118495'), (9184145, '9617671'), (9184145, '11205589'), (9184145, '9489035'), (9184145, '9470261'), (9184145, '8914655'), (9184145, '9075073'), (9184145, '9006593'), (9184145, '5546980'), (9184145, '11712119'), (9184145, '4764678'), (9184145, '9057548'), (9184145, '1699090'), (9184145, '1231962'), (9184145, '5809086'), (9184145, '11118462'), (9184145, '11712171'), (9184145, '11011863'), (9184145, '9737401'), (9184145, '9744796'), (9184145, '9172156'), (9184145, '5821477'), (9184145, '8920147'), (9184145, '10509213'), (9184145, '9156105'), (9184145, '11205646'), (9184145, '9332446'), (9184145, '9390604')])"
      ]
     },
     "execution_count": 46,
     "metadata": {},
     "output_type": "execute_result"
    }
   ],
   "source": [
    "G.edges(9184145)"
   ]
  },
  {
   "cell_type": "code",
   "execution_count": 52,
   "metadata": {},
   "outputs": [
    {
     "data": {
      "text/plain": [
       "'chronic non-specific low back pain\" and \"social factors\"\"'"
      ]
     },
     "execution_count": 52,
     "metadata": {},
     "output_type": "execute_result"
    }
   ],
   "source": [
    "query_dict.get(9184145)"
   ]
  },
  {
   "cell_type": "code",
   "execution_count": null,
   "metadata": {},
   "outputs": [],
   "source": []
  }
 ],
 "metadata": {
  "kernelspec": {
   "display_name": "Python 3",
   "language": "python",
   "name": "python3"
  },
  "language_info": {
   "codemirror_mode": {
    "name": "ipython",
    "version": 3
   },
   "file_extension": ".py",
   "mimetype": "text/x-python",
   "name": "python",
   "nbconvert_exporter": "python",
   "pygments_lexer": "ipython3",
   "version": "3.7.4"
  }
 },
 "nbformat": 4,
 "nbformat_minor": 2
}
